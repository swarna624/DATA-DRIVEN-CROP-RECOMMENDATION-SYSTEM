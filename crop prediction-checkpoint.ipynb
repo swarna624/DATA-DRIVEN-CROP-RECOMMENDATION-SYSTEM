{
 "cells": [
  {
   "cell_type": "markdown",
   "metadata": {},
   "source": [
    "## IMPORTING LIBRARIES"
   ]
  },
  {
   "cell_type": "code",
   "execution_count": 103,
   "metadata": {},
   "outputs": [
    {
     "name": "stdout",
     "output_type": "stream",
     "text": [
      "Requirement already satisfied: xgboost in c:\\users\\vinay\\anaconda3\\lib\\site-packages (1.7.4)\n",
      "Requirement already satisfied: scipy in c:\\users\\vinay\\anaconda3\\lib\\site-packages (from xgboost) (1.7.3)\n",
      "Requirement already satisfied: numpy in c:\\users\\vinay\\anaconda3\\lib\\site-packages (from xgboost) (1.22.4)\n",
      "Note: you may need to restart the kernel to use updated packages.\n"
     ]
    },
    {
     "name": "stderr",
     "output_type": "stream",
     "text": [
      "WARNING: Ignoring invalid distribution -ensorflow-intel (c:\\users\\vinay\\anaconda3\\lib\\site-packages)\n",
      "WARNING: Ignoring invalid distribution -ensorflow-intel (c:\\users\\vinay\\anaconda3\\lib\\site-packages)\n",
      "WARNING: Ignoring invalid distribution -ensorflow-intel (c:\\users\\vinay\\anaconda3\\lib\\site-packages)\n",
      "WARNING: Ignoring invalid distribution -ensorflow-intel (c:\\users\\vinay\\anaconda3\\lib\\site-packages)\n",
      "WARNING: Ignoring invalid distribution -ensorflow-intel (c:\\users\\vinay\\anaconda3\\lib\\site-packages)\n",
      "WARNING: Ignoring invalid distribution -ensorflow-intel (c:\\users\\vinay\\anaconda3\\lib\\site-packages)\n"
     ]
    }
   ],
   "source": [
    "pip install xgboost"
   ]
  },
  {
   "cell_type": "code",
   "execution_count": 104,
   "metadata": {},
   "outputs": [
    {
     "name": "stdout",
     "output_type": "stream",
     "text": [
      "Requirement already satisfied: tensorflow in c:\\users\\vinay\\anaconda3\\lib\\site-packages (2.11.0)\n",
      "Requirement already satisfied: tensorflow-intel==2.11.0 in c:\\users\\vinay\\anaconda3\\lib\\site-packages (from tensorflow) (2.11.0)\n",
      "Requirement already satisfied: google-pasta>=0.1.1 in c:\\users\\vinay\\anaconda3\\lib\\site-packages (from tensorflow-intel==2.11.0->tensorflow) (0.2.0)\n",
      "Requirement already satisfied: typing-extensions>=3.6.6 in c:\\users\\vinay\\anaconda3\\lib\\site-packages (from tensorflow-intel==2.11.0->tensorflow) (4.1.1)\n",
      "Requirement already satisfied: keras<2.12,>=2.11.0 in c:\\users\\vinay\\anaconda3\\lib\\site-packages (from tensorflow-intel==2.11.0->tensorflow) (2.11.0)\n",
      "Requirement already satisfied: absl-py>=1.0.0 in c:\\users\\vinay\\anaconda3\\lib\\site-packages (from tensorflow-intel==2.11.0->tensorflow) (1.4.0)\n",
      "Requirement already satisfied: setuptools in c:\\users\\vinay\\anaconda3\\lib\\site-packages (from tensorflow-intel==2.11.0->tensorflow) (61.2.0)\n",
      "Requirement already satisfied: six>=1.12.0 in c:\\users\\vinay\\anaconda3\\lib\\site-packages (from tensorflow-intel==2.11.0->tensorflow) (1.16.0)\n",
      "Requirement already satisfied: tensorflow-io-gcs-filesystem>=0.23.1 in c:\\users\\vinay\\anaconda3\\lib\\site-packages (from tensorflow-intel==2.11.0->tensorflow) (0.31.0)\n",
      "Requirement already satisfied: libclang>=13.0.0 in c:\\users\\vinay\\anaconda3\\lib\\site-packages (from tensorflow-intel==2.11.0->tensorflow) (15.0.6.1)\n",
      "Requirement already satisfied: gast<=0.4.0,>=0.2.1 in c:\\users\\vinay\\anaconda3\\lib\\site-packages (from tensorflow-intel==2.11.0->tensorflow) (0.4.0)\n",
      "Requirement already satisfied: wrapt>=1.11.0 in c:\\users\\vinay\\anaconda3\\lib\\site-packages (from tensorflow-intel==2.11.0->tensorflow) (1.12.1)\n",
      "Requirement already satisfied: protobuf<3.20,>=3.9.2 in c:\\users\\vinay\\anaconda3\\lib\\site-packages (from tensorflow-intel==2.11.0->tensorflow) (3.19.6)\n",
      "Requirement already satisfied: astunparse>=1.6.0 in c:\\users\\vinay\\anaconda3\\lib\\site-packages (from tensorflow-intel==2.11.0->tensorflow) (1.6.3)\n",
      "Requirement already satisfied: grpcio<2.0,>=1.24.3 in c:\\users\\vinay\\anaconda3\\lib\\site-packages (from tensorflow-intel==2.11.0->tensorflow) (1.53.0)\n",
      "Note: you may need to restart the kernel to use updated packages.Requirement already satisfied: flatbuffers>=2.0 in c:\\users\\vinay\\anaconda3\\lib\\site-packages (from tensorflow-intel==2.11.0->tensorflow) (23.3.3)\n",
      "\n",
      "Requirement already satisfied: numpy>=1.20 in c:\\users\\vinay\\anaconda3\\lib\\site-packages (from tensorflow-intel==2.11.0->tensorflow) (1.22.4)\n",
      "Requirement already satisfied: h5py>=2.9.0 in c:\\users\\vinay\\anaconda3\\lib\\site-packages (from tensorflow-intel==2.11.0->tensorflow) (3.6.0)\n",
      "Requirement already satisfied: tensorboard<2.12,>=2.11 in c:\\users\\vinay\\anaconda3\\lib\\site-packages (from tensorflow-intel==2.11.0->tensorflow) (2.11.2)\n",
      "Requirement already satisfied: opt-einsum>=2.3.2 in c:\\users\\vinay\\anaconda3\\lib\\site-packages (from tensorflow-intel==2.11.0->tensorflow) (3.3.0)\n",
      "Requirement already satisfied: termcolor>=1.1.0 in c:\\users\\vinay\\anaconda3\\lib\\site-packages (from tensorflow-intel==2.11.0->tensorflow) (2.2.0)\n",
      "Requirement already satisfied: tensorflow-estimator<2.12,>=2.11.0 in c:\\users\\vinay\\anaconda3\\lib\\site-packages (from tensorflow-intel==2.11.0->tensorflow) (2.11.0)\n",
      "Requirement already satisfied: packaging in c:\\users\\vinay\\anaconda3\\lib\\site-packages (from tensorflow-intel==2.11.0->tensorflow) (21.3)\n",
      "Requirement already satisfied: wheel<1.0,>=0.23.0 in c:\\users\\vinay\\anaconda3\\lib\\site-packages (from astunparse>=1.6.0->tensorflow-intel==2.11.0->tensorflow) (0.37.1)\n",
      "Requirement already satisfied: requests<3,>=2.21.0 in c:\\users\\vinay\\anaconda3\\lib\\site-packages (from tensorboard<2.12,>=2.11->tensorflow-intel==2.11.0->tensorflow) (2.27.1)\n",
      "Requirement already satisfied: markdown>=2.6.8 in c:\\users\\vinay\\anaconda3\\lib\\site-packages (from tensorboard<2.12,>=2.11->tensorflow-intel==2.11.0->tensorflow) (3.3.4)\n",
      "Requirement already satisfied: google-auth<3,>=1.6.3 in c:\\users\\vinay\\anaconda3\\lib\\site-packages (from tensorboard<2.12,>=2.11->tensorflow-intel==2.11.0->tensorflow) (2.17.3)\n",
      "Requirement already satisfied: werkzeug>=1.0.1 in c:\\users\\vinay\\anaconda3\\lib\\site-packages (from tensorboard<2.12,>=2.11->tensorflow-intel==2.11.0->tensorflow) (2.0.3)\n",
      "Requirement already satisfied: tensorboard-data-server<0.7.0,>=0.6.0 in c:\\users\\vinay\\anaconda3\\lib\\site-packages (from tensorboard<2.12,>=2.11->tensorflow-intel==2.11.0->tensorflow) (0.6.1)\n",
      "Requirement already satisfied: google-auth-oauthlib<0.5,>=0.4.1 in c:\\users\\vinay\\anaconda3\\lib\\site-packages (from tensorboard<2.12,>=2.11->tensorflow-intel==2.11.0->tensorflow) (0.4.6)\n",
      "Requirement already satisfied: tensorboard-plugin-wit>=1.6.0 in c:\\users\\vinay\\anaconda3\\lib\\site-packages (from tensorboard<2.12,>=2.11->tensorflow-intel==2.11.0->tensorflow) (1.8.1)\n",
      "Requirement already satisfied: rsa<5,>=3.1.4 in c:\\users\\vinay\\anaconda3\\lib\\site-packages (from google-auth<3,>=1.6.3->tensorboard<2.12,>=2.11->tensorflow-intel==2.11.0->tensorflow) (4.7.2)\n",
      "Requirement already satisfied: cachetools<6.0,>=2.0.0 in c:\\users\\vinay\\anaconda3\\lib\\site-packages (from google-auth<3,>=1.6.3->tensorboard<2.12,>=2.11->tensorflow-intel==2.11.0->tensorflow) (4.2.2)\n"
     ]
    },
    {
     "name": "stderr",
     "output_type": "stream",
     "text": [
      "WARNING: Ignoring invalid distribution -ensorflow-intel (c:\\users\\vinay\\anaconda3\\lib\\site-packages)\n",
      "WARNING: Ignoring invalid distribution -ensorflow-intel (c:\\users\\vinay\\anaconda3\\lib\\site-packages)\n",
      "WARNING: Ignoring invalid distribution -ensorflow-intel (c:\\users\\vinay\\anaconda3\\lib\\site-packages)\n",
      "WARNING: Ignoring invalid distribution -ensorflow-intel (c:\\users\\vinay\\anaconda3\\lib\\site-packages)\n",
      "WARNING: Ignoring invalid distribution -ensorflow-intel (c:\\users\\vinay\\anaconda3\\lib\\site-packages)\n",
      "WARNING: Ignoring invalid distribution -ensorflow-intel (c:\\users\\vinay\\anaconda3\\lib\\site-packages)\n"
     ]
    },
    {
     "name": "stdout",
     "output_type": "stream",
     "text": [
      "Requirement already satisfied: pyasn1-modules>=0.2.1 in c:\\users\\vinay\\anaconda3\\lib\\site-packages (from google-auth<3,>=1.6.3->tensorboard<2.12,>=2.11->tensorflow-intel==2.11.0->tensorflow) (0.2.8)\n",
      "Requirement already satisfied: requests-oauthlib>=0.7.0 in c:\\users\\vinay\\anaconda3\\lib\\site-packages (from google-auth-oauthlib<0.5,>=0.4.1->tensorboard<2.12,>=2.11->tensorflow-intel==2.11.0->tensorflow) (1.3.1)\n",
      "Requirement already satisfied: pyasn1<0.5.0,>=0.4.6 in c:\\users\\vinay\\anaconda3\\lib\\site-packages (from pyasn1-modules>=0.2.1->google-auth<3,>=1.6.3->tensorboard<2.12,>=2.11->tensorflow-intel==2.11.0->tensorflow) (0.4.8)\n",
      "Requirement already satisfied: certifi>=2017.4.17 in c:\\users\\vinay\\anaconda3\\lib\\site-packages (from requests<3,>=2.21.0->tensorboard<2.12,>=2.11->tensorflow-intel==2.11.0->tensorflow) (2021.10.8)\n",
      "Requirement already satisfied: idna<4,>=2.5 in c:\\users\\vinay\\anaconda3\\lib\\site-packages (from requests<3,>=2.21.0->tensorboard<2.12,>=2.11->tensorflow-intel==2.11.0->tensorflow) (3.3)\n",
      "Requirement already satisfied: urllib3<1.27,>=1.21.1 in c:\\users\\vinay\\anaconda3\\lib\\site-packages (from requests<3,>=2.21.0->tensorboard<2.12,>=2.11->tensorflow-intel==2.11.0->tensorflow) (1.26.9)\n",
      "Requirement already satisfied: charset-normalizer~=2.0.0 in c:\\users\\vinay\\anaconda3\\lib\\site-packages (from requests<3,>=2.21.0->tensorboard<2.12,>=2.11->tensorflow-intel==2.11.0->tensorflow) (2.0.4)\n",
      "Requirement already satisfied: oauthlib>=3.0.0 in c:\\users\\vinay\\anaconda3\\lib\\site-packages (from requests-oauthlib>=0.7.0->google-auth-oauthlib<0.5,>=0.4.1->tensorboard<2.12,>=2.11->tensorflow-intel==2.11.0->tensorflow) (3.2.2)\n",
      "Requirement already satisfied: pyparsing!=3.0.5,>=2.0.2 in c:\\users\\vinay\\anaconda3\\lib\\site-packages (from packaging->tensorflow-intel==2.11.0->tensorflow) (3.0.4)\n"
     ]
    }
   ],
   "source": [
    "pip install tensorflow\n"
   ]
  },
  {
   "cell_type": "code",
   "execution_count": 105,
   "metadata": {},
   "outputs": [],
   "source": [
    "import pandas as pd\n",
    "import numpy as np\n",
    "from sklearn.preprocessing import OrdinalEncoder\n",
    "from sklearn.tree import DecisionTreeClassifier\n",
    "import xgboost as xgb\n",
    "from sklearn.ensemble import RandomForestClassifier\n",
    "from sklearn.naive_bayes import GaussianNB\n",
    "from sklearn.linear_model import LogisticRegression\n",
    "from sklearn.model_selection import train_test_split\n",
    "from sklearn.metrics import classification_report,accuracy_score\n",
    "import keras\n",
    "import tensorflow\n",
    "from keras.layers import *\n",
    "from keras.models import Sequential\n",
    "from keras.layers import LSTM, Dense\n",
    "from tensorflow.keras.models import Sequential\n",
    "from tensorflow.keras.layers import Bidirectional,Conv1D, MaxPooling1D, Flatten,GRU, Dense\n",
    "from tensorflow.keras.utils import to_categorical\n",
    "from sklearn import svm\n",
    "from sklearn.neighbors import KNeighborsClassifier\n",
    "from sklearn.metrics import confusion_matrix"
   ]
  },
  {
   "cell_type": "code",
   "execution_count": 106,
   "metadata": {},
   "outputs": [],
   "source": [
    "from sklearn.metrics import confusion_matrix\n",
    "from sklearn.tree import DecisionTreeClassifier\n",
    "from sklearn.metrics import roc_curve, auc\n",
    "import matplotlib.pyplot as plt\n",
    "from sklearn.model_selection import train_test_split\n",
    "from sklearn.datasets import make_classification"
   ]
  },
  {
   "cell_type": "code",
   "execution_count": 107,
   "metadata": {},
   "outputs": [],
   "source": [
    "from tensorflow.python.ops.numpy_ops import np_config\n",
    "np_config.enable_numpy_behavior()"
   ]
  },
  {
   "cell_type": "code",
   "execution_count": 108,
   "metadata": {},
   "outputs": [],
   "source": [
    "df=pd.read_csv(\"dataset\\Crop_recommendation.csv\")"
   ]
  },
  {
   "cell_type": "code",
   "execution_count": 109,
   "metadata": {},
   "outputs": [
    {
     "data": {
      "text/html": [
       "<div>\n",
       "<style scoped>\n",
       "    .dataframe tbody tr th:only-of-type {\n",
       "        vertical-align: middle;\n",
       "    }\n",
       "\n",
       "    .dataframe tbody tr th {\n",
       "        vertical-align: top;\n",
       "    }\n",
       "\n",
       "    .dataframe thead th {\n",
       "        text-align: right;\n",
       "    }\n",
       "</style>\n",
       "<table border=\"1\" class=\"dataframe\">\n",
       "  <thead>\n",
       "    <tr style=\"text-align: right;\">\n",
       "      <th></th>\n",
       "      <th>N</th>\n",
       "      <th>P</th>\n",
       "      <th>K</th>\n",
       "      <th>temperature</th>\n",
       "      <th>humidity</th>\n",
       "      <th>ph</th>\n",
       "      <th>rainfall</th>\n",
       "      <th>label</th>\n",
       "    </tr>\n",
       "  </thead>\n",
       "  <tbody>\n",
       "    <tr>\n",
       "      <th>0</th>\n",
       "      <td>90</td>\n",
       "      <td>42</td>\n",
       "      <td>43</td>\n",
       "      <td>20.879744</td>\n",
       "      <td>82.002744</td>\n",
       "      <td>6.502985</td>\n",
       "      <td>202.935536</td>\n",
       "      <td>rice</td>\n",
       "    </tr>\n",
       "    <tr>\n",
       "      <th>1</th>\n",
       "      <td>85</td>\n",
       "      <td>58</td>\n",
       "      <td>41</td>\n",
       "      <td>21.770462</td>\n",
       "      <td>80.319644</td>\n",
       "      <td>7.038096</td>\n",
       "      <td>226.655537</td>\n",
       "      <td>rice</td>\n",
       "    </tr>\n",
       "    <tr>\n",
       "      <th>2</th>\n",
       "      <td>60</td>\n",
       "      <td>55</td>\n",
       "      <td>44</td>\n",
       "      <td>23.004459</td>\n",
       "      <td>82.320763</td>\n",
       "      <td>7.840207</td>\n",
       "      <td>263.964248</td>\n",
       "      <td>rice</td>\n",
       "    </tr>\n",
       "    <tr>\n",
       "      <th>3</th>\n",
       "      <td>74</td>\n",
       "      <td>35</td>\n",
       "      <td>40</td>\n",
       "      <td>26.491096</td>\n",
       "      <td>80.158363</td>\n",
       "      <td>6.980401</td>\n",
       "      <td>242.864034</td>\n",
       "      <td>rice</td>\n",
       "    </tr>\n",
       "    <tr>\n",
       "      <th>4</th>\n",
       "      <td>78</td>\n",
       "      <td>42</td>\n",
       "      <td>42</td>\n",
       "      <td>20.130175</td>\n",
       "      <td>81.604873</td>\n",
       "      <td>7.628473</td>\n",
       "      <td>262.717340</td>\n",
       "      <td>rice</td>\n",
       "    </tr>\n",
       "  </tbody>\n",
       "</table>\n",
       "</div>"
      ],
      "text/plain": [
       "    N   P   K  temperature   humidity        ph    rainfall label\n",
       "0  90  42  43    20.879744  82.002744  6.502985  202.935536  rice\n",
       "1  85  58  41    21.770462  80.319644  7.038096  226.655537  rice\n",
       "2  60  55  44    23.004459  82.320763  7.840207  263.964248  rice\n",
       "3  74  35  40    26.491096  80.158363  6.980401  242.864034  rice\n",
       "4  78  42  42    20.130175  81.604873  7.628473  262.717340  rice"
      ]
     },
     "execution_count": 109,
     "metadata": {},
     "output_type": "execute_result"
    }
   ],
   "source": [
    "df.head()"
   ]
  },
  {
   "cell_type": "code",
   "execution_count": 110,
   "metadata": {},
   "outputs": [
    {
     "data": {
      "text/html": [
       "<div>\n",
       "<style scoped>\n",
       "    .dataframe tbody tr th:only-of-type {\n",
       "        vertical-align: middle;\n",
       "    }\n",
       "\n",
       "    .dataframe tbody tr th {\n",
       "        vertical-align: top;\n",
       "    }\n",
       "\n",
       "    .dataframe thead th {\n",
       "        text-align: right;\n",
       "    }\n",
       "</style>\n",
       "<table border=\"1\" class=\"dataframe\">\n",
       "  <thead>\n",
       "    <tr style=\"text-align: right;\">\n",
       "      <th></th>\n",
       "      <th>N</th>\n",
       "      <th>P</th>\n",
       "      <th>K</th>\n",
       "      <th>temperature</th>\n",
       "      <th>humidity</th>\n",
       "      <th>ph</th>\n",
       "      <th>rainfall</th>\n",
       "      <th>label</th>\n",
       "    </tr>\n",
       "  </thead>\n",
       "  <tbody>\n",
       "    <tr>\n",
       "      <th>2195</th>\n",
       "      <td>107</td>\n",
       "      <td>34</td>\n",
       "      <td>32</td>\n",
       "      <td>26.774637</td>\n",
       "      <td>66.413269</td>\n",
       "      <td>6.780064</td>\n",
       "      <td>177.774507</td>\n",
       "      <td>coffee</td>\n",
       "    </tr>\n",
       "    <tr>\n",
       "      <th>2196</th>\n",
       "      <td>99</td>\n",
       "      <td>15</td>\n",
       "      <td>27</td>\n",
       "      <td>27.417112</td>\n",
       "      <td>56.636362</td>\n",
       "      <td>6.086922</td>\n",
       "      <td>127.924610</td>\n",
       "      <td>coffee</td>\n",
       "    </tr>\n",
       "    <tr>\n",
       "      <th>2197</th>\n",
       "      <td>118</td>\n",
       "      <td>33</td>\n",
       "      <td>30</td>\n",
       "      <td>24.131797</td>\n",
       "      <td>67.225123</td>\n",
       "      <td>6.362608</td>\n",
       "      <td>173.322839</td>\n",
       "      <td>coffee</td>\n",
       "    </tr>\n",
       "    <tr>\n",
       "      <th>2198</th>\n",
       "      <td>117</td>\n",
       "      <td>32</td>\n",
       "      <td>34</td>\n",
       "      <td>26.272418</td>\n",
       "      <td>52.127394</td>\n",
       "      <td>6.758793</td>\n",
       "      <td>127.175293</td>\n",
       "      <td>coffee</td>\n",
       "    </tr>\n",
       "    <tr>\n",
       "      <th>2199</th>\n",
       "      <td>104</td>\n",
       "      <td>18</td>\n",
       "      <td>30</td>\n",
       "      <td>23.603016</td>\n",
       "      <td>60.396475</td>\n",
       "      <td>6.779833</td>\n",
       "      <td>140.937041</td>\n",
       "      <td>coffee</td>\n",
       "    </tr>\n",
       "  </tbody>\n",
       "</table>\n",
       "</div>"
      ],
      "text/plain": [
       "        N   P   K  temperature   humidity        ph    rainfall   label\n",
       "2195  107  34  32    26.774637  66.413269  6.780064  177.774507  coffee\n",
       "2196   99  15  27    27.417112  56.636362  6.086922  127.924610  coffee\n",
       "2197  118  33  30    24.131797  67.225123  6.362608  173.322839  coffee\n",
       "2198  117  32  34    26.272418  52.127394  6.758793  127.175293  coffee\n",
       "2199  104  18  30    23.603016  60.396475  6.779833  140.937041  coffee"
      ]
     },
     "execution_count": 110,
     "metadata": {},
     "output_type": "execute_result"
    }
   ],
   "source": [
    "df.tail()"
   ]
  },
  {
   "cell_type": "code",
   "execution_count": 111,
   "metadata": {},
   "outputs": [
    {
     "data": {
      "text/plain": [
       "(2200, 8)"
      ]
     },
     "execution_count": 111,
     "metadata": {},
     "output_type": "execute_result"
    }
   ],
   "source": [
    "df.shape"
   ]
  },
  {
   "cell_type": "code",
   "execution_count": 112,
   "metadata": {},
   "outputs": [
    {
     "name": "stdout",
     "output_type": "stream",
     "text": [
      "<class 'pandas.core.frame.DataFrame'>\n",
      "RangeIndex: 2200 entries, 0 to 2199\n",
      "Data columns (total 8 columns):\n",
      " #   Column       Non-Null Count  Dtype  \n",
      "---  ------       --------------  -----  \n",
      " 0   N            2200 non-null   int64  \n",
      " 1   P            2200 non-null   int64  \n",
      " 2   K            2200 non-null   int64  \n",
      " 3   temperature  2200 non-null   float64\n",
      " 4   humidity     2200 non-null   float64\n",
      " 5   ph           2200 non-null   float64\n",
      " 6   rainfall     2200 non-null   float64\n",
      " 7   label        2200 non-null   object \n",
      "dtypes: float64(4), int64(3), object(1)\n",
      "memory usage: 137.6+ KB\n"
     ]
    }
   ],
   "source": [
    "df.info()"
   ]
  },
  {
   "cell_type": "code",
   "execution_count": 113,
   "metadata": {},
   "outputs": [
    {
     "data": {
      "text/plain": [
       "N              False\n",
       "P              False\n",
       "K              False\n",
       "temperature    False\n",
       "humidity       False\n",
       "ph             False\n",
       "rainfall       False\n",
       "label          False\n",
       "dtype: bool"
      ]
     },
     "execution_count": 113,
     "metadata": {},
     "output_type": "execute_result"
    }
   ],
   "source": [
    "df.isnull().any()"
   ]
  },
  {
   "cell_type": "code",
   "execution_count": 114,
   "metadata": {},
   "outputs": [
    {
     "data": {
      "text/plain": [
       "N              0\n",
       "P              0\n",
       "K              0\n",
       "temperature    0\n",
       "humidity       0\n",
       "ph             0\n",
       "rainfall       0\n",
       "label          0\n",
       "dtype: int64"
      ]
     },
     "execution_count": 114,
     "metadata": {},
     "output_type": "execute_result"
    }
   ],
   "source": [
    "df.isnull().sum()"
   ]
  },
  {
   "cell_type": "markdown",
   "metadata": {},
   "source": [
    "## IMPUTATION"
   ]
  },
  {
   "cell_type": "code",
   "execution_count": 115,
   "metadata": {},
   "outputs": [],
   "source": [
    "numerical_data=df.select_dtypes(include=[np.number])\n",
    "categorical_data=df.select_dtypes(exclude=[np.number])"
   ]
  },
  {
   "cell_type": "code",
   "execution_count": 116,
   "metadata": {},
   "outputs": [
    {
     "name": "stdout",
     "output_type": "stream",
     "text": [
      "(2200, 1)\n"
     ]
    }
   ],
   "source": [
    "print(categorical_data.shape)"
   ]
  },
  {
   "cell_type": "code",
   "execution_count": 117,
   "metadata": {},
   "outputs": [],
   "source": [
    "for x in categorical_data:\n",
    "    df[x] = df[x].fillna(df[x].mode()[0])"
   ]
  },
  {
   "cell_type": "code",
   "execution_count": 118,
   "metadata": {},
   "outputs": [],
   "source": [
    "for x in numerical_data:\n",
    "    df[x] = df[x].fillna(df[x].median())"
   ]
  },
  {
   "cell_type": "markdown",
   "metadata": {},
   "source": [
    "## LABEL ENCODING"
   ]
  },
  {
   "cell_type": "code",
   "execution_count": 119,
   "metadata": {},
   "outputs": [],
   "source": [
    "enc = OrdinalEncoder()\n",
    "enc_data = enc.fit_transform(categorical_data)"
   ]
  },
  {
   "cell_type": "code",
   "execution_count": 120,
   "metadata": {},
   "outputs": [],
   "source": [
    "data_enc  = pd.DataFrame(enc_data, columns=categorical_data.columns)"
   ]
  },
  {
   "cell_type": "code",
   "execution_count": 121,
   "metadata": {},
   "outputs": [],
   "source": [
    "data_out = pd.concat([data_enc,numerical_data], axis=1) "
   ]
  },
  {
   "cell_type": "markdown",
   "metadata": {},
   "source": [
    "## SPLITING DATASET"
   ]
  },
  {
   "cell_type": "code",
   "execution_count": 206,
   "metadata": {},
   "outputs": [],
   "source": [
    "x=data_out.iloc[:,1:]\n",
    "y=data_out.iloc[:,0]"
   ]
  },
  {
   "cell_type": "code",
   "execution_count": 207,
   "metadata": {},
   "outputs": [],
   "source": [
    "\n",
    "x_train, x_test, y_train, y_test = train_test_split(x, y, test_size=0.3, random_state=42)"
   ]
  },
  {
   "cell_type": "markdown",
   "metadata": {},
   "source": [
    "## MODEL TRAINING"
   ]
  },
  {
   "cell_type": "markdown",
   "metadata": {},
   "source": [
    "## DECISION TREE"
   ]
  },
  {
   "cell_type": "code",
   "execution_count": 208,
   "metadata": {},
   "outputs": [],
   "source": [
    "clf =DecisionTreeClassifier()\n",
    "clf.fit(x_train,y_train)\n",
    "y_pred=clf.predict(x_test)"
   ]
  },
  {
   "cell_type": "code",
   "execution_count": 209,
   "metadata": {},
   "outputs": [
    {
     "name": "stdout",
     "output_type": "stream",
     "text": [
      "0.9863636363636363\n"
     ]
    }
   ],
   "source": [
    "from sklearn.metrics import classification_report,accuracy_score\n",
    "tree_acc = accuracy_score(y_true=y_test, y_pred=y_pred)\n",
    "print(tree_acc)"
   ]
  },
  {
   "cell_type": "code",
   "execution_count": 210,
   "metadata": {},
   "outputs": [
    {
     "name": "stdout",
     "output_type": "stream",
     "text": [
      "[[34  0  0  0  0  0  0  0  0  0  0  0  0  0  0  0  0  0  0  0  0  0]\n",
      " [ 0 26  0  0  0  0  0  0  0  0  0  0  0  0  0  0  0  0  0  0  0  0]\n",
      " [ 0  0 26  0  0  0  0  0  0  0  0  0  0  0  0  0  0  0  0  0  0  0]\n",
      " [ 0  0  0 34  0  0  0  0  0  0  0  0  0  0  0  0  0  0  0  0  0  0]\n",
      " [ 0  0  0  0 33  0  0  0  0  0  0  0  0  0  0  0  0  0  0  0  0  0]\n",
      " [ 0  0  0  0  0 30  0  0  0  0  0  0  0  0  0  0  0  0  0  0  0  0]\n",
      " [ 0  0  0  0  0  0 28  0  0  0  0  0  0  0  0  0  0  0  0  0  0  0]\n",
      " [ 0  0  0  0  0  0  0 23  0  0  0  0  0  0  0  0  0  0  0  0  0  0]\n",
      " [ 0  0  0  0  0  0  0  0 32  0  0  0  0  0  0  0  0  0  0  0  2  0]\n",
      " [ 0  0  0  0  0  0  0  0  0 36  0  0  0  0  0  0  0  0  0  0  0  0]\n",
      " [ 0  0  0  0  0  0  0  0  0  0 22  0  0  0  0  0  0  0  0  0  0  0]\n",
      " [ 0  0  0  0  0  0  0  0  0  0  0 26  0  0  0  0  0  0  0  0  0  0]\n",
      " [ 0  0  0  0  0  0  0  0  0  0  0  0 32  0  0  0  0  0  0  0  0  0]\n",
      " [ 0  0  2  0  0  0  0  0  0  0  1  0  0 31  0  0  0  0  0  0  0  0]\n",
      " [ 0  0  0  0  0  0  0  0  0  0  0  0  0  0 30  0  0  0  0  0  0  0]\n",
      " [ 0  0  0  0  0  0  0  0  0  0  0  0  0  0  0 24  0  0  0  0  0  0]\n",
      " [ 0  0  0  0  0  0  0  0  0  0  0  0  0  0  0  0 25  0  0  0  0  0]\n",
      " [ 0  0  0  0  0  0  0  0  0  0  0  0  0  0  1  0  0 36  0  0  0  0]\n",
      " [ 0  0  0  0  0  0  0  0  0  0  0  0  0  0  0  0  0  0 37  0  0  0]\n",
      " [ 0  0  0  0  0  0  0  0  0  0  0  0  0  0  0  0  0  0  0 38  0  0]\n",
      " [ 0  0  0  0  0  0  0  0  5  0  0  0  0  0  0  0  0  0  0  0 23  0]\n",
      " [ 0  0  0  0  0  0  0  0  0  0  0  0  0  0  0  0  0  0  0  0  0 23]]\n"
     ]
    }
   ],
   "source": [
    "#clf = DecisionTreeClassifier(random_state=42)\n",
    "clf.fit(x_train, y_train)\n",
    "y_pred = clf.predict(x_test)\n",
    "cm = confusion_matrix(y_test, y_pred)\n",
    "print(cm)"
   ]
  },
  {
   "cell_type": "code",
   "execution_count": 218,
   "metadata": {},
   "outputs": [
    {
     "name": "stdout",
     "output_type": "stream",
     "text": [
      "0.9832273316690255\n"
     ]
    },
    {
     "name": "stderr",
     "output_type": "stream",
     "text": [
      "C:\\Users\\vinay\\anaconda3\\lib\\site-packages\\sklearn\\utils\\deprecation.py:87: FutureWarning: Function plot_roc_curve is deprecated; Function :func:`plot_roc_curve` is deprecated in 1.0 and will be removed in 1.2. Use one of the class methods: :meth:`sklearn.metric.RocCurveDisplay.from_predictions` or :meth:`sklearn.metric.RocCurveDisplay.from_estimator`.\n",
      "  warnings.warn(msg, category=FutureWarning)\n"
     ]
    },
    {
     "ename": "ValueError",
     "evalue": "Expected 'estimator' to be a binary classifier, but got DecisionTreeClassifier fit on multiclass (22 classes) data",
     "output_type": "error",
     "traceback": [
      "\u001b[1;31m---------------------------------------------------------------------------\u001b[0m",
      "\u001b[1;31mValueError\u001b[0m                                Traceback (most recent call last)",
      "Input \u001b[1;32mIn [218]\u001b[0m, in \u001b[0;36m<cell line: 7>\u001b[1;34m()\u001b[0m\n\u001b[0;32m      5\u001b[0m \u001b[38;5;28mprint\u001b[39m(f1)\n\u001b[0;32m      6\u001b[0m \u001b[38;5;66;03m# Plot ROC curve\u001b[39;00m\n\u001b[1;32m----> 7\u001b[0m \u001b[43mplot_roc_curve\u001b[49m\u001b[43m(\u001b[49m\u001b[43mclf\u001b[49m\u001b[43m,\u001b[49m\u001b[43m \u001b[49m\u001b[43mx_test\u001b[49m\u001b[43m,\u001b[49m\u001b[43m \u001b[49m\u001b[43my_test\u001b[49m\u001b[43m)\u001b[49m\n\u001b[0;32m      8\u001b[0m plt\u001b[38;5;241m.\u001b[39mshow()\n",
      "File \u001b[1;32m~\\anaconda3\\lib\\site-packages\\sklearn\\utils\\deprecation.py:88\u001b[0m, in \u001b[0;36mdeprecated._decorate_fun.<locals>.wrapped\u001b[1;34m(*args, **kwargs)\u001b[0m\n\u001b[0;32m     85\u001b[0m \u001b[38;5;129m@functools\u001b[39m\u001b[38;5;241m.\u001b[39mwraps(fun)\n\u001b[0;32m     86\u001b[0m \u001b[38;5;28;01mdef\u001b[39;00m \u001b[38;5;21mwrapped\u001b[39m(\u001b[38;5;241m*\u001b[39margs, \u001b[38;5;241m*\u001b[39m\u001b[38;5;241m*\u001b[39mkwargs):\n\u001b[0;32m     87\u001b[0m     warnings\u001b[38;5;241m.\u001b[39mwarn(msg, category\u001b[38;5;241m=\u001b[39m\u001b[38;5;167;01mFutureWarning\u001b[39;00m)\n\u001b[1;32m---> 88\u001b[0m     \u001b[38;5;28;01mreturn\u001b[39;00m fun(\u001b[38;5;241m*\u001b[39margs, \u001b[38;5;241m*\u001b[39m\u001b[38;5;241m*\u001b[39mkwargs)\n",
      "File \u001b[1;32m~\\anaconda3\\lib\\site-packages\\sklearn\\metrics\\_plot\\roc_curve.py:451\u001b[0m, in \u001b[0;36mplot_roc_curve\u001b[1;34m(estimator, X, y, sample_weight, drop_intermediate, response_method, name, ax, pos_label, **kwargs)\u001b[0m\n\u001b[0;32m    371\u001b[0m \u001b[38;5;124;03m\"\"\"Plot Receiver operating characteristic (ROC) curve.\u001b[39;00m\n\u001b[0;32m    372\u001b[0m \n\u001b[0;32m    373\u001b[0m \u001b[38;5;124;03mExtra keyword arguments will be passed to matplotlib's `plot`.\u001b[39;00m\n\u001b[1;32m   (...)\u001b[0m\n\u001b[0;32m    447\u001b[0m \u001b[38;5;124;03m>>> plt.show()\u001b[39;00m\n\u001b[0;32m    448\u001b[0m \u001b[38;5;124;03m\"\"\"\u001b[39;00m\n\u001b[0;32m    449\u001b[0m check_matplotlib_support(\u001b[38;5;124m\"\u001b[39m\u001b[38;5;124mplot_roc_curve\u001b[39m\u001b[38;5;124m\"\u001b[39m)\n\u001b[1;32m--> 451\u001b[0m y_pred, pos_label \u001b[38;5;241m=\u001b[39m \u001b[43m_get_response\u001b[49m\u001b[43m(\u001b[49m\n\u001b[0;32m    452\u001b[0m \u001b[43m    \u001b[49m\u001b[43mX\u001b[49m\u001b[43m,\u001b[49m\u001b[43m \u001b[49m\u001b[43mestimator\u001b[49m\u001b[43m,\u001b[49m\u001b[43m \u001b[49m\u001b[43mresponse_method\u001b[49m\u001b[43m,\u001b[49m\u001b[43m \u001b[49m\u001b[43mpos_label\u001b[49m\u001b[38;5;241;43m=\u001b[39;49m\u001b[43mpos_label\u001b[49m\n\u001b[0;32m    453\u001b[0m \u001b[43m\u001b[49m\u001b[43m)\u001b[49m\n\u001b[0;32m    455\u001b[0m fpr, tpr, _ \u001b[38;5;241m=\u001b[39m roc_curve(\n\u001b[0;32m    456\u001b[0m     y,\n\u001b[0;32m    457\u001b[0m     y_pred,\n\u001b[1;32m   (...)\u001b[0m\n\u001b[0;32m    460\u001b[0m     drop_intermediate\u001b[38;5;241m=\u001b[39mdrop_intermediate,\n\u001b[0;32m    461\u001b[0m )\n\u001b[0;32m    462\u001b[0m roc_auc \u001b[38;5;241m=\u001b[39m auc(fpr, tpr)\n",
      "File \u001b[1;32m~\\anaconda3\\lib\\site-packages\\sklearn\\metrics\\_plot\\base.py:108\u001b[0m, in \u001b[0;36m_get_response\u001b[1;34m(X, estimator, response_method, pos_label)\u001b[0m\n\u001b[0;32m    106\u001b[0m     y_pred_shape \u001b[38;5;241m=\u001b[39m y_pred\u001b[38;5;241m.\u001b[39mshape[\u001b[38;5;241m1\u001b[39m]\n\u001b[0;32m    107\u001b[0m     \u001b[38;5;28;01mif\u001b[39;00m y_pred_shape \u001b[38;5;241m!=\u001b[39m \u001b[38;5;241m2\u001b[39m:\n\u001b[1;32m--> 108\u001b[0m         \u001b[38;5;28;01mraise\u001b[39;00m \u001b[38;5;167;01mValueError\u001b[39;00m(\n\u001b[0;32m    109\u001b[0m             \u001b[38;5;124mf\u001b[39m\u001b[38;5;124m\"\u001b[39m\u001b[38;5;132;01m{\u001b[39;00mclassification_error\u001b[38;5;132;01m}\u001b[39;00m\u001b[38;5;124m fit on multiclass (\u001b[39m\u001b[38;5;132;01m{\u001b[39;00my_pred_shape\u001b[38;5;132;01m}\u001b[39;00m\u001b[38;5;124m classes)\u001b[39m\u001b[38;5;124m\"\u001b[39m\n\u001b[0;32m    110\u001b[0m             \u001b[38;5;124m\"\u001b[39m\u001b[38;5;124m data\u001b[39m\u001b[38;5;124m\"\u001b[39m\n\u001b[0;32m    111\u001b[0m         )\n\u001b[0;32m    112\u001b[0m     y_pred \u001b[38;5;241m=\u001b[39m y_pred[:, class_idx]\n\u001b[0;32m    113\u001b[0m \u001b[38;5;28;01melif\u001b[39;00m pos_label \u001b[38;5;241m==\u001b[39m estimator\u001b[38;5;241m.\u001b[39mclasses_[\u001b[38;5;241m0\u001b[39m]:  \u001b[38;5;66;03m# `decision_function`\u001b[39;00m\n",
      "\u001b[1;31mValueError\u001b[0m: Expected 'estimator' to be a binary classifier, but got DecisionTreeClassifier fit on multiclass (22 classes) data"
     ]
    }
   ],
   "source": [
    "from sklearn.metrics import confusion_matrix, f1_score, plot_roc_curve\n",
    "\n",
    "# Compute F1 score\n",
    "f1 = f1_score(y_test, y_pred, average='weighted')\n",
    "print(f1)\n",
    "# Plot ROC curve\n",
    "plot_roc_curve(clf, x_test, y_test)\n",
    "plt.show()"
   ]
  },
  {
   "cell_type": "code",
   "execution_count": 216,
   "metadata": {},
   "outputs": [
    {
     "name": "stdout",
     "output_type": "stream",
     "text": [
      "0.9833333333333333\n"
     ]
    }
   ],
   "source": [
    "# Compute accuracy score and confusion matrix\n",
    "from sklearn.metrics import accuracy_score, confusion_matrix\n",
    "tree_acc = accuracy_score(y_true=y_test, y_pred=y_pred)\n",
    "print(tree_acc)"
   ]
  },
  {
   "cell_type": "code",
   "execution_count": 214,
   "metadata": {},
   "outputs": [],
   "source": [
    "# # Compute ROC curve and AUC score\n",
    "# y_pred_proba = clf.predict_proba(x_test)[:, 1]\n",
    "# fpr, tpr, thresholds = roc_curve(y_test, y_pred_proba)\n",
    "# roc_auc = roc_auc_score(y_test, y_pred_proba)\n",
    "\n",
    "# # Plot ROC curve\n",
    "# plt.plot(fpr, tpr, label='ROC curve (AUC = %0.2f)' % roc_auc)\n",
    "# plt.plot([0, 1], [0, 1], 'k--')\n",
    "# plt.xlabel('False Positive Rate')\n",
    "# plt.ylabel('True Positive Rate')\n",
    "# plt.title('Receiver operating characteristic example')\n",
    "# plt.legend(loc='lower right')\n",
    "# plt.show()"
   ]
  },
  {
   "cell_type": "code",
   "execution_count": 128,
   "metadata": {},
   "outputs": [],
   "source": [
    "# auc_score = auc(fpr, tpr)\n",
    "# plt.plot(fpr, tpr, label='AUC = {:.2f}'.format(auc_score))\n",
    "# plt.plot([0, 1], [0, 1], linestyle='--')\n",
    "# plt.xlabel('False Positive Rate')\n",
    "# plt.ylabel('True Positive Rate')\n",
    "# plt.title('ROC Curve for Decision Tree')\n",
    "# plt.legend()\n",
    "# plt.show()"
   ]
  },
  {
   "cell_type": "code",
   "execution_count": null,
   "metadata": {},
   "outputs": [],
   "source": []
  },
  {
   "cell_type": "code",
   "execution_count": null,
   "metadata": {},
   "outputs": [],
   "source": []
  },
  {
   "cell_type": "markdown",
   "metadata": {},
   "source": [
    "## XGBOOST"
   ]
  },
  {
   "cell_type": "code",
   "execution_count": 129,
   "metadata": {},
   "outputs": [],
   "source": [
    "xgb_classifier = xgb.XGBClassifier()\n",
    "xgb_classifier.fit(x_train,y_train)\n",
    "y_pred=xgb_classifier.predict(x_test)"
   ]
  },
  {
   "cell_type": "code",
   "execution_count": 130,
   "metadata": {},
   "outputs": [
    {
     "name": "stdout",
     "output_type": "stream",
     "text": [
      "0.9803030303030303\n"
     ]
    }
   ],
   "source": [
    "from sklearn.metrics import classification_report,accuracy_score\n",
    "tree_acc = accuracy_score(y_true=y_test, y_pred=y_pred)\n",
    "print(tree_acc)"
   ]
  },
  {
   "cell_type": "code",
   "execution_count": 131,
   "metadata": {
    "scrolled": false
   },
   "outputs": [
    {
     "name": "stdout",
     "output_type": "stream",
     "text": [
      "[[34  0  0  0  0  0  0  0  0  0  0  0  0  0  0  0  0  0  0  0  0  0]\n",
      " [ 0 26  0  0  0  0  0  0  0  0  0  0  0  0  0  0  0  0  0  0  0  0]\n",
      " [ 0  0 26  0  0  0  0  0  0  0  0  0  0  0  0  0  0  0  0  0  0  0]\n",
      " [ 0  0  0 34  0  0  0  0  0  0  0  0  0  0  0  0  0  0  0  0  0  0]\n",
      " [ 0  0  0  0 33  0  0  0  0  0  0  0  0  0  0  0  0  0  0  0  0  0]\n",
      " [ 0  0  0  0  0 30  0  0  0  0  0  0  0  0  0  0  0  0  0  0  0  0]\n",
      " [ 0  0  0  0  0  0 28  0  0  0  0  0  0  0  0  0  0  0  0  0  0  0]\n",
      " [ 0  0  0  0  0  0  0 23  0  0  0  0  0  0  0  0  0  0  0  0  0  0]\n",
      " [ 0  0  0  0  0  0  0  0 34  0  0  0  0  0  0  0  0  0  0  0  0  0]\n",
      " [ 0  0  0  0  0  0  0  0  0 36  0  0  0  0  0  0  0  0  0  0  0  0]\n",
      " [ 0  0  0  0  0  0  0  0  0  0 21  0  0  1  0  0  0  0  0  0  0  0]\n",
      " [ 0  0  0  0  0  0  1  0  0  0  0 25  0  0  0  0  0  0  0  0  0  0]\n",
      " [ 0  0  0  0  0  0  0  0  0  0  0  0 32  0  0  0  0  0  0  0  0  0]\n",
      " [ 0  0  0  0  0  0  0  0  0  0  0  0  0 34  0  0  0  0  0  0  0  0]\n",
      " [ 0  0  0  0  0  0  0  0  0  0  0  0  0  0 30  0  0  0  0  0  0  0]\n",
      " [ 0  0  0  0  0  0  0  0  0  0  0  0  0  0  0 24  0  0  0  0  0  0]\n",
      " [ 0  0  0  0  0  0  0  0  0  0  0  0  0  0  0  0 25  0  0  0  0  0]\n",
      " [ 0  0  0  0  0  0  0  0  0  0  0  0  0  0  0  0  0 37  0  0  0  0]\n",
      " [ 0  0  1  0  0  0  0  0  0  0  0  1  1  0  0  0  0  0 34  0  0  0]\n",
      " [ 0  0  0  0  0  0  0  0  0  0  0  0  0  0  0  0  0  1  0 37  0  0]\n",
      " [ 0  0  0  0  0  0  0  0  7  0  0  0  0  0  0  0  0  0  0  0 21  0]\n",
      " [ 0  0  0  0  0  0  0  0  0  0  0  0  0  0  0  0  0  0  0  0  0 23]]\n"
     ]
    }
   ],
   "source": [
    "#No ERROR\n",
    "xgb_classifier.fit(x_train, y_train)\n",
    "y_pred = xgb_classifier.predict(x_test)\n",
    "cm = confusion_matrix(y_test, y_pred)\n",
    "print(cm)"
   ]
  },
  {
   "cell_type": "code",
   "execution_count": 213,
   "metadata": {},
   "outputs": [
    {
     "ename": "ValueError",
     "evalue": "multiclass format is not supported",
     "output_type": "error",
     "traceback": [
      "\u001b[1;31m---------------------------------------------------------------------------\u001b[0m",
      "\u001b[1;31mValueError\u001b[0m                                Traceback (most recent call last)",
      "Input \u001b[1;32mIn [213]\u001b[0m, in \u001b[0;36m<cell line: 3>\u001b[1;34m()\u001b[0m\n\u001b[0;32m      1\u001b[0m \u001b[38;5;66;03m# Compute ROC curve and AUC score\u001b[39;00m\n\u001b[0;32m      2\u001b[0m y_pred_proba \u001b[38;5;241m=\u001b[39m xgb_classifier\u001b[38;5;241m.\u001b[39mpredict_proba(x_test)[:, \u001b[38;5;241m1\u001b[39m]\n\u001b[1;32m----> 3\u001b[0m fpr, tpr, thresholds \u001b[38;5;241m=\u001b[39m \u001b[43mroc_curve\u001b[49m\u001b[43m(\u001b[49m\u001b[43my_test\u001b[49m\u001b[43m,\u001b[49m\u001b[43m \u001b[49m\u001b[43my_pred_proba\u001b[49m\u001b[43m)\u001b[49m\n\u001b[0;32m      4\u001b[0m roc_auc \u001b[38;5;241m=\u001b[39m roc_auc_score(y_test, y_pred_proba)\n\u001b[0;32m      6\u001b[0m \u001b[38;5;66;03m# Plot ROC curve\u001b[39;00m\n",
      "File \u001b[1;32m~\\anaconda3\\lib\\site-packages\\sklearn\\metrics\\_ranking.py:962\u001b[0m, in \u001b[0;36mroc_curve\u001b[1;34m(y_true, y_score, pos_label, sample_weight, drop_intermediate)\u001b[0m\n\u001b[0;32m    873\u001b[0m \u001b[38;5;28;01mdef\u001b[39;00m \u001b[38;5;21mroc_curve\u001b[39m(\n\u001b[0;32m    874\u001b[0m     y_true, y_score, \u001b[38;5;241m*\u001b[39m, pos_label\u001b[38;5;241m=\u001b[39m\u001b[38;5;28;01mNone\u001b[39;00m, sample_weight\u001b[38;5;241m=\u001b[39m\u001b[38;5;28;01mNone\u001b[39;00m, drop_intermediate\u001b[38;5;241m=\u001b[39m\u001b[38;5;28;01mTrue\u001b[39;00m\n\u001b[0;32m    875\u001b[0m ):\n\u001b[0;32m    876\u001b[0m     \u001b[38;5;124;03m\"\"\"Compute Receiver operating characteristic (ROC).\u001b[39;00m\n\u001b[0;32m    877\u001b[0m \n\u001b[0;32m    878\u001b[0m \u001b[38;5;124;03m    Note: this implementation is restricted to the binary classification task.\u001b[39;00m\n\u001b[1;32m   (...)\u001b[0m\n\u001b[0;32m    960\u001b[0m \n\u001b[0;32m    961\u001b[0m \u001b[38;5;124;03m    \"\"\"\u001b[39;00m\n\u001b[1;32m--> 962\u001b[0m     fps, tps, thresholds \u001b[38;5;241m=\u001b[39m \u001b[43m_binary_clf_curve\u001b[49m\u001b[43m(\u001b[49m\n\u001b[0;32m    963\u001b[0m \u001b[43m        \u001b[49m\u001b[43my_true\u001b[49m\u001b[43m,\u001b[49m\u001b[43m \u001b[49m\u001b[43my_score\u001b[49m\u001b[43m,\u001b[49m\u001b[43m \u001b[49m\u001b[43mpos_label\u001b[49m\u001b[38;5;241;43m=\u001b[39;49m\u001b[43mpos_label\u001b[49m\u001b[43m,\u001b[49m\u001b[43m \u001b[49m\u001b[43msample_weight\u001b[49m\u001b[38;5;241;43m=\u001b[39;49m\u001b[43msample_weight\u001b[49m\n\u001b[0;32m    964\u001b[0m \u001b[43m    \u001b[49m\u001b[43m)\u001b[49m\n\u001b[0;32m    966\u001b[0m     \u001b[38;5;66;03m# Attempt to drop thresholds corresponding to points in between and\u001b[39;00m\n\u001b[0;32m    967\u001b[0m     \u001b[38;5;66;03m# collinear with other points. These are always suboptimal and do not\u001b[39;00m\n\u001b[0;32m    968\u001b[0m     \u001b[38;5;66;03m# appear on a plotted ROC curve (and thus do not affect the AUC).\u001b[39;00m\n\u001b[1;32m   (...)\u001b[0m\n\u001b[0;32m    973\u001b[0m     \u001b[38;5;66;03m# but does not drop more complicated cases like fps = [1, 3, 7],\u001b[39;00m\n\u001b[0;32m    974\u001b[0m     \u001b[38;5;66;03m# tps = [1, 2, 4]; there is no harm in keeping too many thresholds.\u001b[39;00m\n\u001b[0;32m    975\u001b[0m     \u001b[38;5;28;01mif\u001b[39;00m drop_intermediate \u001b[38;5;129;01mand\u001b[39;00m \u001b[38;5;28mlen\u001b[39m(fps) \u001b[38;5;241m>\u001b[39m \u001b[38;5;241m2\u001b[39m:\n",
      "File \u001b[1;32m~\\anaconda3\\lib\\site-packages\\sklearn\\metrics\\_ranking.py:731\u001b[0m, in \u001b[0;36m_binary_clf_curve\u001b[1;34m(y_true, y_score, pos_label, sample_weight)\u001b[0m\n\u001b[0;32m    729\u001b[0m y_type \u001b[38;5;241m=\u001b[39m type_of_target(y_true)\n\u001b[0;32m    730\u001b[0m \u001b[38;5;28;01mif\u001b[39;00m \u001b[38;5;129;01mnot\u001b[39;00m (y_type \u001b[38;5;241m==\u001b[39m \u001b[38;5;124m\"\u001b[39m\u001b[38;5;124mbinary\u001b[39m\u001b[38;5;124m\"\u001b[39m \u001b[38;5;129;01mor\u001b[39;00m (y_type \u001b[38;5;241m==\u001b[39m \u001b[38;5;124m\"\u001b[39m\u001b[38;5;124mmulticlass\u001b[39m\u001b[38;5;124m\"\u001b[39m \u001b[38;5;129;01mand\u001b[39;00m pos_label \u001b[38;5;129;01mis\u001b[39;00m \u001b[38;5;129;01mnot\u001b[39;00m \u001b[38;5;28;01mNone\u001b[39;00m)):\n\u001b[1;32m--> 731\u001b[0m     \u001b[38;5;28;01mraise\u001b[39;00m \u001b[38;5;167;01mValueError\u001b[39;00m(\u001b[38;5;124m\"\u001b[39m\u001b[38;5;132;01m{0}\u001b[39;00m\u001b[38;5;124m format is not supported\u001b[39m\u001b[38;5;124m\"\u001b[39m\u001b[38;5;241m.\u001b[39mformat(y_type))\n\u001b[0;32m    733\u001b[0m check_consistent_length(y_true, y_score, sample_weight)\n\u001b[0;32m    734\u001b[0m y_true \u001b[38;5;241m=\u001b[39m column_or_1d(y_true)\n",
      "\u001b[1;31mValueError\u001b[0m: multiclass format is not supported"
     ]
    }
   ],
   "source": [
    "# # Compute ROC curve and AUC score\n",
    "# y_pred_proba = xgb_classifier.predict_proba(x_test)[:, 1]\n",
    "# fpr, tpr, thresholds = roc_curve(y_test, y_pred_proba)\n",
    "# roc_auc = roc_auc_score(y_test, y_pred_proba)\n",
    "\n",
    "# # Plot ROC curve\n",
    "# plt.plot(fpr, tpr, label='ROC curve (AUC = %0.2f)' % roc_auc)\n",
    "# plt.plot([0, 1], [0, 1], 'k--')\n",
    "# plt.xlabel('False Positive Rate')\n",
    "# plt.ylabel('True Positive Rate')\n",
    "# plt.title('Receiver operating characteristic example')\n",
    "# plt.legend(loc='lower right')\n",
    "# plt.show()"
   ]
  },
  {
   "cell_type": "markdown",
   "metadata": {},
   "source": [
    "## ANN"
   ]
  },
  {
   "cell_type": "code",
   "execution_count": 132,
   "metadata": {},
   "outputs": [],
   "source": [
    "x_train = tf.convert_to_tensor(x_train, dtype=tf.float32)\n",
    "y_train = tf.convert_to_tensor(y_train, dtype=tf.float32)"
   ]
  },
  {
   "cell_type": "code",
   "execution_count": 133,
   "metadata": {},
   "outputs": [],
   "source": [
    "x_test = tf.convert_to_tensor(x_test, dtype=tf.float32)\n",
    "y_test = tf.convert_to_tensor(y_test, dtype=tf.float32)"
   ]
  },
  {
   "cell_type": "code",
   "execution_count": 134,
   "metadata": {},
   "outputs": [],
   "source": [
    "from tensorflow.keras.layers import Dense"
   ]
  },
  {
   "cell_type": "code",
   "execution_count": 135,
   "metadata": {},
   "outputs": [],
   "source": [
    "model = keras.Sequential()\n",
    "model.add(Dense(30, activation='relu'))\n",
    "model.add(Dense(20, activation='relu'))\n",
    "model.add(Dense(1, activation='softmax'))"
   ]
  },
  {
   "cell_type": "code",
   "execution_count": 136,
   "metadata": {},
   "outputs": [],
   "source": [
    "model.compile(optimizer='adam', loss='binary_crossentropy', metrics=['accuracy'])"
   ]
  },
  {
   "cell_type": "code",
   "execution_count": 137,
   "metadata": {},
   "outputs": [
    {
     "name": "stdout",
     "output_type": "stream",
     "text": [
      "Epoch 1/20\n",
      "16/16 [==============================] - 2s 24ms/step - loss: 196.9748 - accuracy: 0.0481 - val_loss: 23.6144 - val_accuracy: 0.0394\n",
      "Epoch 2/20\n",
      "16/16 [==============================] - 0s 8ms/step - loss: -106.8442 - accuracy: 0.0481 - val_loss: -262.7145 - val_accuracy: 0.0394\n",
      "Epoch 3/20\n",
      "16/16 [==============================] - 0s 10ms/step - loss: -403.4438 - accuracy: 0.0481 - val_loss: -593.7412 - val_accuracy: 0.0394\n",
      "Epoch 4/20\n",
      "16/16 [==============================] - 0s 10ms/step - loss: -773.7771 - accuracy: 0.0481 - val_loss: -1033.7888 - val_accuracy: 0.0394\n",
      "Epoch 5/20\n",
      "16/16 [==============================] - 0s 9ms/step - loss: -1268.3608 - accuracy: 0.0481 - val_loss: -1621.2621 - val_accuracy: 0.0394\n",
      "Epoch 6/20\n",
      "16/16 [==============================] - 0s 10ms/step - loss: -1940.5922 - accuracy: 0.0481 - val_loss: -2458.0342 - val_accuracy: 0.0394\n",
      "Epoch 7/20\n",
      "16/16 [==============================] - 0s 10ms/step - loss: -2920.1228 - accuracy: 0.0481 - val_loss: -3639.3015 - val_accuracy: 0.0394\n",
      "Epoch 8/20\n",
      "16/16 [==============================] - 0s 7ms/step - loss: -4267.3633 - accuracy: 0.0481 - val_loss: -5241.7510 - val_accuracy: 0.0394\n",
      "Epoch 9/20\n",
      "16/16 [==============================] - 0s 8ms/step - loss: -6106.6260 - accuracy: 0.0481 - val_loss: -7384.4351 - val_accuracy: 0.0394\n",
      "Epoch 10/20\n",
      "16/16 [==============================] - 0s 10ms/step - loss: -8538.3398 - accuracy: 0.0481 - val_loss: -10191.8916 - val_accuracy: 0.0394\n",
      "Epoch 11/20\n",
      "16/16 [==============================] - 0s 9ms/step - loss: -11670.0283 - accuracy: 0.0481 - val_loss: -13804.7549 - val_accuracy: 0.0394\n",
      "Epoch 12/20\n",
      "16/16 [==============================] - 0s 9ms/step - loss: -15671.6543 - accuracy: 0.0481 - val_loss: -18330.8438 - val_accuracy: 0.0394\n",
      "Epoch 13/20\n",
      "16/16 [==============================] - 0s 9ms/step - loss: -20641.3008 - accuracy: 0.0481 - val_loss: -23964.7598 - val_accuracy: 0.0394\n",
      "Epoch 14/20\n",
      "16/16 [==============================] - 0s 9ms/step - loss: -26826.3125 - accuracy: 0.0481 - val_loss: -30860.4941 - val_accuracy: 0.0394\n",
      "Epoch 15/20\n",
      "16/16 [==============================] - 0s 9ms/step - loss: -34418.0742 - accuracy: 0.0481 - val_loss: -39217.1875 - val_accuracy: 0.0394\n",
      "Epoch 16/20\n",
      "16/16 [==============================] - 0s 9ms/step - loss: -43489.6250 - accuracy: 0.0481 - val_loss: -49362.2539 - val_accuracy: 0.0394\n",
      "Epoch 17/20\n",
      "16/16 [==============================] - 0s 10ms/step - loss: -54315.1445 - accuracy: 0.0481 - val_loss: -61195.7500 - val_accuracy: 0.0394\n",
      "Epoch 18/20\n",
      "16/16 [==============================] - 0s 9ms/step - loss: -66921.1328 - accuracy: 0.0481 - val_loss: -74868.2188 - val_accuracy: 0.0394\n",
      "Epoch 19/20\n",
      "16/16 [==============================] - 0s 9ms/step - loss: -81410.3906 - accuracy: 0.0481 - val_loss: -90488.0625 - val_accuracy: 0.0394\n",
      "Epoch 20/20\n",
      "16/16 [==============================] - 0s 9ms/step - loss: -98004.2734 - accuracy: 0.0481 - val_loss: -108437.3125 - val_accuracy: 0.0394\n"
     ]
    },
    {
     "data": {
      "text/plain": [
       "<keras.callbacks.History at 0x15e66c4f8b0>"
      ]
     },
     "execution_count": 137,
     "metadata": {},
     "output_type": "execute_result"
    }
   ],
   "source": [
    "model.fit(x_train, y_train, batch_size=100, epochs=20,validation_data=(x_test, y_test))"
   ]
  },
  {
   "cell_type": "code",
   "execution_count": 138,
   "metadata": {},
   "outputs": [
    {
     "name": "stdout",
     "output_type": "stream",
     "text": [
      "21/21 [==============================] - 0s 2ms/step\n",
      "0.03939393939393939\n"
     ]
    }
   ],
   "source": [
    "abc=model.predict(x_test)\n",
    "acc =accuracy_score(abc,y_test)\n",
    "print(acc)"
   ]
  },
  {
   "cell_type": "code",
   "execution_count": 139,
   "metadata": {},
   "outputs": [],
   "source": [
    "# # for Confusion matrix\n",
    "# model.fit(x_train, y_train)\n",
    "# y_pred = model.predict(x_test)\n",
    "# cm = confusion_matrix(y_test, y_pred)\n",
    "# print(cm)"
   ]
  },
  {
   "cell_type": "code",
   "execution_count": 140,
   "metadata": {},
   "outputs": [],
   "source": [
    "# # Sample for CNN working\n",
    "\n",
    "# # Importing the required libraries\n",
    "# import numpy as np\n",
    "# import pandas as pd\n",
    "# from sklearn.model_selection import train_test_split\n",
    "# from sklearn.preprocessing import LabelEncoder\n",
    "# from keras.utils import np_utils\n",
    "# from keras.models import Sequential\n",
    "# from keras.layers import Dense, Dropout\n",
    "\n",
    "# # # Load the dataset\n",
    "# # df = pd.read_csv('crop.csv')\n",
    "\n",
    "# # # Split the dataset into input features (X) and labels (y)\n",
    "# # X = df.iloc[:, :-1].values\n",
    "# # y = df.iloc[:, -1].values\n",
    "\n",
    "# # ------------------------------\n",
    "# # # Perform label encoding on the labels\n",
    "# # le = LabelEncoder()\n",
    "# # y = le.fit_transform(y)\n",
    "\n",
    "# # # Convert labels to one-hot encoding\n",
    "# # y = np_utils.to_categorical(y)\n",
    "\n",
    "# # # Split the dataset into training and testing sets\n",
    "# #X_train, X_test, y_train, y_test = train_test_split(X, y, test_size=0.2, random_state=42)\n",
    "\n",
    "# # ------------------------------\n",
    "\n",
    "# X=data_out.iloc[:,1:]\n",
    "# y=data_out.iloc[:,0]\n",
    "\n",
    "# # # Perform label encoding on the labels\n",
    "# le = LabelEncoder()\n",
    "# y = le.fit_transform(y)\n",
    "\n",
    "# # # Convert labels to one-hot encoding\n",
    "# y = np_utils.to_categorical(y)\n",
    "\n",
    "# # # Split the dataset into training and testing sets\n",
    "# X_train, X_test, y_train, y_test = train_test_split(X, y, test_size=0.3, random_state=42)\n",
    "\n",
    "# # Create a sequential model\n",
    "# model = Sequential()\n",
    "\n",
    "# # Add input layer with the input dimensions\n",
    "# input_length = 7 \n",
    "# model.add(Dense(units=32, activation='relu', input_dim=input_length))\n",
    "\n",
    "# # Add hidden layers\n",
    "# model.add(Dense(units=64, activation='relu'))\n",
    "# model.add(Dropout(0.3))\n",
    "# model.add(Dense(units=128, activation='relu'))\n",
    "# model.add(Dropout(0.4))\n",
    "\n",
    "# # Add output layer\n",
    "# model.add(Dense(units=y.shape[1], activation='softmax'))\n",
    "\n",
    "# # Compile the model\n",
    "# model.compile(optimizer='adam', loss='categorical_crossentropy', metrics=['accuracy'])\n",
    "\n",
    "# # Train the model\n",
    "# model.fit(X_train, y_train, epochs=100, batch_size=32, validation_data=(X_test, y_test))\n",
    "\n",
    "# # Evaluate the model\n",
    "# loss, accuracy = model.evaluate(X_test, y_test)\n",
    "# print('Test loss:', loss)\n",
    "# print('Test accuracy:', accuracy)\n"
   ]
  },
  {
   "cell_type": "code",
   "execution_count": null,
   "metadata": {},
   "outputs": [],
   "source": []
  },
  {
   "cell_type": "code",
   "execution_count": 141,
   "metadata": {},
   "outputs": [],
   "source": [
    "# #sample LSTM\n",
    "\n",
    "# from keras.models import Sequential\n",
    "# from keras.layers import LSTM, Dense, Dropout\n",
    "# from sklearn.preprocessing import LabelEncoder\n",
    "# from sklearn.model_selection import train_test_split\n",
    "\n",
    "# # #sample\n",
    "# x = data_out.iloc[:, 1:]\n",
    "# y = data_out.iloc[:, 0]\n",
    "\n",
    "# # Split the dataset into training and testing sets, ensuring stratification\n",
    "# X_train, X_test, y_train, y_test = train_test_split(X, y, test_size=0.2, random_state=42, stratify=y)\n",
    "\n",
    "# # Perform label encoding on the labels\n",
    "# le = LabelEncoder()\n",
    "# y = le.fit_transform(y)\n",
    "\n",
    "# # Convert labels to one-hot encoding\n",
    "# y = np_utils.to_categorical(y)\n",
    "\n",
    "# # # Split the dataset into training and testing sets\n",
    "# # X_train, X_test, y_train, y_test = train_test_split(X, y, test_size=0.2, random_state=42)\n",
    "\n",
    "# # # Check the dimensions of input features (X) and labels (y)\n",
    "# print(\"X_train shape:\", X_train.shape)\n",
    "# print(\"y_train shape:\", y_train.shape)\n",
    "# print(\"X_test shape:\", X_test.shape)\n",
    "# print(\"y_test shape:\", y_test.shape)\n",
    "\n",
    "\n",
    "# # Define the batch size and number of epochs\n",
    "# batch_size = 32\n",
    "# epochs = 10\n",
    "\n",
    "# # Define the model\n",
    "# model = Sequential()\n",
    "# model.add(LSTM(128, input_shape=(input_length, input_dim)))\n",
    "# model.add(Dropout(0.5))\n",
    "# model.add(Dense(num_classes, activation='softmax'))\n",
    "\n",
    "# # Compile the model\n",
    "# model.compile(loss='categorical_crossentropy', optimizer='adam', metrics=['accuracy'])\n",
    "\n",
    "# # Train the model\n",
    "# model.fit(X_train, y_train, batch_size=batch_size, epochs=epochs, verbose=1, validation_data=(X_test, y_test))\n",
    "\n",
    "# # Evaluate the model\n",
    "# score = model.evaluate(x_test, y_test, verbose=0)\n",
    "# print('Test loss:', score[0])\n",
    "# print('Test accuracy:', score[1])\n"
   ]
  },
  {
   "cell_type": "code",
   "execution_count": null,
   "metadata": {},
   "outputs": [],
   "source": []
  },
  {
   "cell_type": "code",
   "execution_count": 142,
   "metadata": {},
   "outputs": [],
   "source": [
    "# # sample LSTM NOT worked\n",
    "# from keras.models import Sequential\n",
    "# from keras.layers import LSTM, Dense, Dropout\n",
    "# from sklearn.preprocessing import LabelEncoder\n",
    "# from sklearn.model_selection import train_test_split\n",
    "# from keras.utils import np_utils\n",
    "\n",
    "# # # Perform label encoding on the labels\n",
    "# # le = LabelEncoder()\n",
    "# # y_train_encoded = le.fit_transform(y_train)\n",
    "# # y_test_encoded = le.transform(y_test)\n",
    "\n",
    "# # Split the dataset into training and testing sets, ensuring stratification\n",
    "# X_train, X_test, y_train, y_test = train_test_split(X, y, test_size=0.2, random_state=42, stratify=y)\n",
    "\n",
    "# y_train_encoded = le.fit_transform(y_train)\n",
    "# y_test_encoded = le.transform(y_test)\n",
    "\n",
    "# # Convert labels to one-hot encoding\n",
    "# y_train_onehot = np_utils.to_categorical(y_train_encoded)\n",
    "# y_test_onehot = np_utils.to_categorical(y_test_encoded)\n",
    "\n",
    "# # Define the batch size and number of epochs\n",
    "# batch_size = 32\n",
    "# epochs = 10\n",
    "\n",
    "# # Define the model\n",
    "# model = Sequential()\n",
    "# model.add(LSTM(128, input_shape=(input_length, input_dim)))\n",
    "# model.add(Dropout(0.5))\n",
    "# model.add(Dense(22, activation='softmax'))  # Update the number of output units to 22\n",
    "\n",
    "# # Compile the model\n",
    "# model.compile(loss='categorical_crossentropy', optimizer='adam', metrics=['accuracy'])\n",
    "\n",
    "# # Train the model\n",
    "# model.fit(x_train, y_train_onehot, batch_size=batch_size, epochs=epochs, verbose=1, validation_data=(x_test, y_test_onehot))\n",
    "\n",
    "# # Evaluate the model\n",
    "# score = model.evaluate(x_test, y_test_onehot, verbose=0)\n",
    "# print('Test loss:', score[0])\n",
    "# print('Test accuracy:', score[1])\n"
   ]
  },
  {
   "cell_type": "code",
   "execution_count": null,
   "metadata": {},
   "outputs": [],
   "source": []
  },
  {
   "cell_type": "code",
   "execution_count": 143,
   "metadata": {},
   "outputs": [],
   "source": [
    "# # sample Lstm thinking connected (previously worked)\n",
    "# from keras.models import Sequential\n",
    "# from keras.layers import LSTM, Dense, Dropout\n",
    "# from sklearn.preprocessing import LabelEncoder\n",
    "# from sklearn.model_selection import train_test_split\n",
    "# from keras.utils import np_utils\n",
    "\n",
    "# # # Perform label encoding on the labels\n",
    "# # le = LabelEncoder()\n",
    "# # y_train_encoded = le.fit_transform(y_train)\n",
    "# # y_test_encoded = le.transform(y_test)\n",
    "\n",
    "# # #sample\n",
    "# # x = data_out.iloc[:, 1:]\n",
    "# # y = data_out.iloc[:, 0]\n",
    "\n",
    "# # Split the dataset into training and testing sets, ensuring stratification\n",
    "# X_train, X_test, y_train, y_test = train_test_split(X, y, test_size=0.2, random_state=42, stratify=y)\n",
    "\n",
    "# # # Convert labels to one-hot encoding\n",
    "# # y_train_onehot = np_utils.to_categorical(y_train_encoded)\n",
    "# # y_test_onehot = np_utils.to_categorical(y_test_encoded)\n",
    "\n",
    "# y_train_onehot = np_utils.to_categorical(y)\n",
    "# y_test_onehot = np_utils.to_categorical(y)\n",
    "\n",
    "# # Define the batch size and number of epochs\n",
    "# batch_size = 32\n",
    "# #epochs = 10\n",
    "# epochs = 100\n",
    "\n",
    "# # Define the model\n",
    "# model = Sequential()\n",
    "# model.add(LSTM(128, input_shape=(input_length, input_dim)))\n",
    "# model.add(Dropout(0.5))\n",
    "# model.add(Dense(22, activation='softmax'))  # Update the number of output units to 22\n",
    "\n",
    "# # Compile the model\n",
    "# model.compile(loss='categorical_crossentropy', optimizer='adam', metrics=['accuracy'])\n",
    "\n",
    "# # Train the model\n",
    "# model.fit(X_train, y_train_onehot, batch_size=batch_size, epochs=epochs, verbose=1, validation_data=(X_test, y_test_onehot))\n",
    "\n",
    "# # Evaluate the model\n",
    "# score = model.evaluate(X_test, y_test_onehot, verbose=0)\n",
    "# print('Test loss:', score[0])\n",
    "# print('Test accuracy:', score[1])\n"
   ]
  },
  {
   "cell_type": "code",
   "execution_count": null,
   "metadata": {},
   "outputs": [],
   "source": []
  },
  {
   "cell_type": "code",
   "execution_count": 144,
   "metadata": {},
   "outputs": [],
   "source": [
    "# # sample ti run in BiLSTM (previously worked)\n",
    "\n",
    "# from keras.layers import Bidirectional, LSTM, Dense, Dropout\n",
    "\n",
    "\n",
    "# # # Perform label encoding on the labels\n",
    "# # le = LabelEncoder()\n",
    "# # y = le.fit_transform(y)\n",
    "\n",
    "# # # Convert labels to one-hot encoding\n",
    "# # y = np_utils.to_categorical(y)\n",
    "\n",
    "# # # Split the dataset into training and testing sets\n",
    "# # X_train, X_test, y_train, y_test = train_test_split(X, y, test_size=0.2, random_state=42)\n",
    "\n",
    "# # # Define the batch size and number of epochs\n",
    "# # batch_size = 32\n",
    "# # epochs = 10\n",
    "\n",
    "# # Define the model\n",
    "# model = Sequential()\n",
    "# model.add(Bidirectional(LSTM(128), input_shape=(input_length, input_dim)))\n",
    "# model.add(Dropout(0.5))\n",
    "# model.add(Dense(num_classes, activation='softmax'))\n",
    "\n",
    "# # Compile the model\n",
    "# model.compile(loss='categorical_crossentropy', optimizer='adam', metrics=['accuracy'])\n",
    "\n",
    "# # # Train the model\n",
    "# # model.fit(X_train, y_train, batch_size=batch_size, epochs=epochs, verbose=1, validation_data=(X_test, y_test))\n",
    "\n",
    "# # Train the model\n",
    "# model.fit(X_train, y_train_onehot, batch_size=batch_size, epochs=epochs, verbose=1, validation_data=(X_test, y_test_onehot))\n",
    "\n",
    "# # Evaluate the model\n",
    "# score = model.evaluate(X_test, y_test, verbose=0)\n",
    "# print('Test loss:', score[0])\n",
    "# print('Test accuracy:', score[1])\n"
   ]
  },
  {
   "cell_type": "code",
   "execution_count": null,
   "metadata": {},
   "outputs": [],
   "source": []
  },
  {
   "cell_type": "code",
   "execution_count": 145,
   "metadata": {},
   "outputs": [],
   "source": [
    "# # smaple code for GRU (previously worked)\n",
    "\n",
    "# from keras.models import Sequential\n",
    "# from keras.layers import GRU, Dense, Dropout\n",
    "# from sklearn.model_selection import train_test_split\n",
    "# from sklearn.preprocessing import LabelEncoder\n",
    "# from keras.utils import np_utils\n",
    "\n",
    "# # # Perform label encoding on the labels\n",
    "# # le = LabelEncoder()\n",
    "# # y = le.fit_transform(y)\n",
    "\n",
    "# # # Convert labels to one-hot encoding\n",
    "# # y = np_utils.to_categorical(y)\n",
    "\n",
    "# # # Split the dataset into training and testing sets\n",
    "# # X_train, X_test, y_train, y_test = train_test_split(X, y, test_size=0.2, random_state=42)\n",
    "\n",
    "# # # Define the batch size and number of epochs\n",
    "# # batch_size = 32\n",
    "# # epochs = 10\n",
    "\n",
    "# # Define the model\n",
    "# model = Sequential()\n",
    "# model.add(GRU(128, input_shape=(input_length, input_dim)))\n",
    "# model.add(Dropout(0.5))\n",
    "# model.add(Dense(num_classes, activation='softmax'))\n",
    "\n",
    "# # Compile the model\n",
    "# model.compile(loss='categorical_crossentropy', optimizer='adam', metrics=['accuracy'])\n",
    "\n",
    "# # # Train the model\n",
    "# # model.fit(X_train, y_train, batch_size=batch_size, epochs=epochs, verbose=1, validation_data=(X_test, y_test))\n",
    "\n",
    "# # Train the model\n",
    "# model.fit(X_train, y_train_onehot, batch_size=batch_size, epochs=epochs, verbose=1, validation_data=(X_test, y_test_onehot))\n",
    "\n",
    "# # Evaluate the model\n",
    "# score = model.evaluate(X_test, y_test, verbose=0)\n",
    "# print('Test loss:', score[0])\n",
    "# print('Test accuracy:', score[1])\n"
   ]
  },
  {
   "cell_type": "code",
   "execution_count": null,
   "metadata": {},
   "outputs": [],
   "source": []
  },
  {
   "cell_type": "markdown",
   "metadata": {},
   "source": [
    "## RANDOM FOREST"
   ]
  },
  {
   "cell_type": "code",
   "execution_count": 146,
   "metadata": {},
   "outputs": [],
   "source": [
    "from sklearn.ensemble import RandomForestClassifier"
   ]
  },
  {
   "cell_type": "code",
   "execution_count": 147,
   "metadata": {},
   "outputs": [],
   "source": [
    "clf = RandomForestClassifier()\n",
    "clf.fit(x_train,y_train)\n",
    "y_pred=clf.predict(x_test)"
   ]
  },
  {
   "cell_type": "code",
   "execution_count": 148,
   "metadata": {},
   "outputs": [
    {
     "name": "stdout",
     "output_type": "stream",
     "text": [
      "0.9924242424242424\n"
     ]
    }
   ],
   "source": [
    "from sklearn.metrics import classification_report, accuracy_score\n",
    "acc_rf = accuracy_score(y_true=y_test, y_pred=y_pred)\n",
    "print(acc_rf)"
   ]
  },
  {
   "cell_type": "code",
   "execution_count": 149,
   "metadata": {},
   "outputs": [
    {
     "name": "stdout",
     "output_type": "stream",
     "text": [
      "[[34  0  0  0  0  0  0  0  0  0  0  0  0  0  0  0  0  0  0  0  0  0]\n",
      " [ 0 26  0  0  0  0  0  0  0  0  0  0  0  0  0  0  0  0  0  0  0  0]\n",
      " [ 0  0 26  0  0  0  0  0  0  0  0  0  0  0  0  0  0  0  0  0  0  0]\n",
      " [ 0  0  0 34  0  0  0  0  0  0  0  0  0  0  0  0  0  0  0  0  0  0]\n",
      " [ 0  0  0  0 33  0  0  0  0  0  0  0  0  0  0  0  0  0  0  0  0  0]\n",
      " [ 0  0  0  0  0 30  0  0  0  0  0  0  0  0  0  0  0  0  0  0  0  0]\n",
      " [ 0  0  0  0  0  0 28  0  0  0  0  0  0  0  0  0  0  0  0  0  0  0]\n",
      " [ 0  0  0  0  0  0  0 23  0  0  0  0  0  0  0  0  0  0  0  0  0  0]\n",
      " [ 0  0  0  0  0  0  0  0 34  0  0  0  0  0  0  0  0  0  0  0  0  0]\n",
      " [ 0  0  0  0  0  0  0  0  0 36  0  0  0  0  0  0  0  0  0  0  0  0]\n",
      " [ 0  0  0  0  0  0  0  0  0  0 22  0  0  0  0  0  0  0  0  0  0  0]\n",
      " [ 0  0  0  0  0  0  0  0  0  0  0 26  0  0  0  0  0  0  0  0  0  0]\n",
      " [ 0  0  0  0  0  0  0  0  0  0  0  0 32  0  0  0  0  0  0  0  0  0]\n",
      " [ 0  0  0  0  0  0  0  0  0  0  0  0  0 34  0  0  0  0  0  0  0  0]\n",
      " [ 0  0  0  0  0  0  0  0  0  0  0  0  0  0 30  0  0  0  0  0  0  0]\n",
      " [ 0  0  0  0  0  0  0  0  0  0  0  0  0  0  0 24  0  0  0  0  0  0]\n",
      " [ 0  0  0  0  0  0  0  0  0  0  0  0  0  0  0  0 25  0  0  0  0  0]\n",
      " [ 0  0  0  0  0  0  0  0  0  0  0  0  0  0  0  0  0 37  0  0  0  0]\n",
      " [ 0  0  0  0  0  0  0  0  0  0  0  0  0  0  0  0  0  0 37  0  0  0]\n",
      " [ 0  0  0  0  0  0  0  0  0  0  0  0  0  0  0  0  0  0  0 38  0  0]\n",
      " [ 0  0  0  0  0  0  0  0  5  0  0  0  0  0  0  0  0  0  0  0 23  0]\n",
      " [ 0  0  0  0  0  0  0  0  0  0  0  0  0  0  0  0  0  0  0  0  0 23]]\n"
     ]
    }
   ],
   "source": [
    "clf.fit(x_train, y_train)\n",
    "y_pred = clf.predict(x_test)\n",
    "cm = confusion_matrix(y_test, y_pred)\n",
    "print(cm)"
   ]
  },
  {
   "cell_type": "markdown",
   "metadata": {},
   "source": [
    "## NAIVE BAYES"
   ]
  },
  {
   "cell_type": "code",
   "execution_count": 150,
   "metadata": {},
   "outputs": [],
   "source": [
    "from sklearn.naive_bayes import GaussianNB"
   ]
  },
  {
   "cell_type": "code",
   "execution_count": 151,
   "metadata": {},
   "outputs": [],
   "source": [
    "gnb = GaussianNB()\n",
    "gnb.fit(x_train,y_train)\n",
    "y_pred=gnb.predict(x_test)"
   ]
  },
  {
   "cell_type": "code",
   "execution_count": 152,
   "metadata": {},
   "outputs": [
    {
     "name": "stdout",
     "output_type": "stream",
     "text": [
      "0.9939393939393939\n"
     ]
    }
   ],
   "source": [
    "from sklearn.metrics import classification_report,accuracy_score\n",
    "bayes_acc = accuracy_score(y_true=y_test, y_pred=y_pred)\n",
    "print(bayes_acc)"
   ]
  },
  {
   "cell_type": "code",
   "execution_count": 153,
   "metadata": {},
   "outputs": [
    {
     "name": "stdout",
     "output_type": "stream",
     "text": [
      "[[34  0  0  0  0  0  0  0  0  0  0  0  0  0  0  0  0  0  0  0  0  0]\n",
      " [ 0 26  0  0  0  0  0  0  0  0  0  0  0  0  0  0  0  0  0  0  0  0]\n",
      " [ 0  0 26  0  0  0  0  0  0  0  0  0  0  0  0  0  0  0  0  0  0  0]\n",
      " [ 0  0  0 34  0  0  0  0  0  0  0  0  0  0  0  0  0  0  0  0  0  0]\n",
      " [ 0  0  0  0 33  0  0  0  0  0  0  0  0  0  0  0  0  0  0  0  0  0]\n",
      " [ 0  0  0  0  0 30  0  0  0  0  0  0  0  0  0  0  0  0  0  0  0  0]\n",
      " [ 0  0  0  0  0  0 28  0  0  0  0  0  0  0  0  0  0  0  0  0  0  0]\n",
      " [ 0  0  0  0  0  0  0 23  0  0  0  0  0  0  0  0  0  0  0  0  0  0]\n",
      " [ 0  0  0  0  0  0  0  0 34  0  0  0  0  0  0  0  0  0  0  0  0  0]\n",
      " [ 0  0  0  0  0  0  0  0  0 36  0  0  0  0  0  0  0  0  0  0  0  0]\n",
      " [ 0  0  0  0  0  0  0  0  0  0 22  0  0  0  0  0  0  0  0  0  0  0]\n",
      " [ 0  0  0  0  0  0  0  0  0  0  0 26  0  0  0  0  0  0  0  0  0  0]\n",
      " [ 0  0  0  0  0  0  0  0  0  0  0  0 32  0  0  0  0  0  0  0  0  0]\n",
      " [ 0  0  0  0  0  0  0  0  0  0  0  0  0 34  0  0  0  0  0  0  0  0]\n",
      " [ 0  0  0  0  0  0  0  0  0  0  0  0  0  0 30  0  0  0  0  0  0  0]\n",
      " [ 0  0  0  0  0  0  0  0  0  0  0  0  0  0  0 24  0  0  0  0  0  0]\n",
      " [ 0  0  0  0  0  0  0  0  0  0  0  0  0  0  0  0 25  0  0  0  0  0]\n",
      " [ 0  0  0  0  0  0  0  0  0  0  0  0  0  0  0  0  0 37  0  0  0  0]\n",
      " [ 0  0  0  0  0  0  0  0  0  0  0  0  0  0  0  0  0  0 37  0  0  0]\n",
      " [ 0  0  0  0  0  0  0  0  0  0  0  0  0  0  0  0  0  0  0 38  0  0]\n",
      " [ 0  0  0  0  0  0  0  0  4  0  0  0  0  0  0  0  0  0  0  0 24  0]\n",
      " [ 0  0  0  0  0  0  0  0  0  0  0  0  0  0  0  0  0  0  0  0  0 23]]\n"
     ]
    }
   ],
   "source": [
    "gnb.fit(x_train, y_train)\n",
    "y_pred = gnb.predict(x_test)\n",
    "cm = confusion_matrix(y_test, y_pred)\n",
    "print(cm)"
   ]
  },
  {
   "cell_type": "markdown",
   "metadata": {},
   "source": [
    "## LOGISTIC REGRESSION"
   ]
  },
  {
   "cell_type": "code",
   "execution_count": 154,
   "metadata": {
    "scrolled": true
   },
   "outputs": [
    {
     "name": "stderr",
     "output_type": "stream",
     "text": [
      "C:\\Users\\vinay\\anaconda3\\lib\\site-packages\\sklearn\\linear_model\\_logistic.py:814: ConvergenceWarning: lbfgs failed to converge (status=1):\n",
      "STOP: TOTAL NO. of ITERATIONS REACHED LIMIT.\n",
      "\n",
      "Increase the number of iterations (max_iter) or scale the data as shown in:\n",
      "    https://scikit-learn.org/stable/modules/preprocessing.html\n",
      "Please also refer to the documentation for alternative solver options:\n",
      "    https://scikit-learn.org/stable/modules/linear_model.html#logistic-regression\n",
      "  n_iter_i = _check_optimize_result(\n"
     ]
    },
    {
     "data": {
      "text/plain": [
       "0.9484848484848485"
      ]
     },
     "execution_count": 154,
     "metadata": {},
     "output_type": "execute_result"
    }
   ],
   "source": [
    "from sklearn.linear_model import LogisticRegression\n",
    "from sklearn.metrics import accuracy_score,precision_score,recall_score,f1_score,classification_report\n",
    "lr=LogisticRegression(random_state = 0)\n",
    "lr.fit(x_train,y_train)\n",
    "y_pred=lr.predict(x_test)\n",
    "acc_lr=accuracy_score(y_pred,y_test)\n",
    "acc_lr"
   ]
  },
  {
   "cell_type": "code",
   "execution_count": 155,
   "metadata": {},
   "outputs": [
    {
     "name": "stdout",
     "output_type": "stream",
     "text": [
      "[[34  0  0  0  0  0  0  0  0  0  0  0  0  0  0  0  0  0  0  0  0  0]\n",
      " [ 0 26  0  0  0  0  0  0  0  0  0  0  0  0  0  0  0  0  0  0  0  0]\n",
      " [ 0  0 22  0  0  0  0  0  0  0  2  0  0  2  0  0  0  0  0  0  0  0]\n",
      " [ 0  0  0 34  0  0  0  0  0  0  0  0  0  0  0  0  0  0  0  0  0  0]\n",
      " [ 0  0  0  0 33  0  0  0  0  0  0  0  0  0  0  0  0  0  0  0  0  0]\n",
      " [ 0  0  0  0  0 30  0  0  0  0  0  0  0  0  0  0  0  0  0  0  0  0]\n",
      " [ 0  0  0  0  0  0 27  0  0  0  0  1  0  0  0  0  0  0  0  0  0  0]\n",
      " [ 0  0  0  0  0  0  0 23  0  0  0  0  0  0  0  0  0  0  0  0  0  0]\n",
      " [ 0  0  0  0  0  1  0  0 30  0  0  0  0  0  0  0  0  2  0  0  1  0]\n",
      " [ 0  0  0  0  0  0  0  0  0 35  0  0  0  0  0  0  0  0  1  0  0  0]\n",
      " [ 0  0  1  0  0  0  0  0  0  0 20  0  0  1  0  0  0  0  0  0  0  0]\n",
      " [ 0  1  0  0  0  0  4  0  1  0  0 20  0  0  0  0  0  0  0  0  0  0]\n",
      " [ 0  0  0  0  0  0  0  0  0  0  0  0 32  0  0  0  0  0  0  0  0  0]\n",
      " [ 0  0  4  0  0  0  0  0  0  0  0  0  0 28  2  0  0  0  0  0  0  0]\n",
      " [ 0  0  0  0  0  0  0  0  0  0  0  0  0  0 30  0  0  0  0  0  0  0]\n",
      " [ 0  0  0  0  0  0  0  0  0  0  0  0  0  0  0 24  0  0  0  0  0  0]\n",
      " [ 0  0  0  0  0  0  0  0  0  0  0  0  0  0  0  0 25  0  0  0  0  0]\n",
      " [ 0  0  0  0  0  0  0  0  0  0  0  0  1  0  0  0  0 35  0  0  1  0]\n",
      " [ 0  0  2  0  0  0  0  0  0  1  0  0  0  0  0  0  0  0 34  0  0  0]\n",
      " [ 0  0  0  0  0  0  0  0  0  0  0  0  0  0  0  0  0  0  0 38  0  0]\n",
      " [ 0  0  0  0  0  0  0  0  5  0  0  0  0  0  0  0  0  0  0  0 23  0]\n",
      " [ 0  0  0  0  0  0  0  0  0  0  0  0  0  0  0  0  0  0  0  0  0 23]]\n"
     ]
    },
    {
     "name": "stderr",
     "output_type": "stream",
     "text": [
      "C:\\Users\\vinay\\anaconda3\\lib\\site-packages\\sklearn\\linear_model\\_logistic.py:814: ConvergenceWarning: lbfgs failed to converge (status=1):\n",
      "STOP: TOTAL NO. of ITERATIONS REACHED LIMIT.\n",
      "\n",
      "Increase the number of iterations (max_iter) or scale the data as shown in:\n",
      "    https://scikit-learn.org/stable/modules/preprocessing.html\n",
      "Please also refer to the documentation for alternative solver options:\n",
      "    https://scikit-learn.org/stable/modules/linear_model.html#logistic-regression\n",
      "  n_iter_i = _check_optimize_result(\n"
     ]
    }
   ],
   "source": [
    "lr.fit(x_train, y_train)\n",
    "y_pred = lr.predict(x_test)\n",
    "cm = confusion_matrix(y_test, y_pred)\n",
    "print(cm)"
   ]
  },
  {
   "cell_type": "markdown",
   "metadata": {},
   "source": [
    "## SVM"
   ]
  },
  {
   "cell_type": "code",
   "execution_count": 156,
   "metadata": {},
   "outputs": [],
   "source": [
    "from sklearn.svm import SVC\n",
    "\n",
    "# instantiate the SVM classifier\n",
    "svm = SVC(kernel='linear')\n",
    "\n",
    "# fit the SVM classifier to the training data\n",
    "svm.fit(x_train, y_train)\n",
    "\n",
    "# make predictions on the test data\n",
    "y_pred = svm.predict(x_test)\n"
   ]
  },
  {
   "cell_type": "code",
   "execution_count": 157,
   "metadata": {},
   "outputs": [
    {
     "name": "stdout",
     "output_type": "stream",
     "text": [
      "Accuracy: 0.9787878787878788\n"
     ]
    }
   ],
   "source": [
    "# calculate the accuracy of the SVM classifier\n",
    "accuracy = accuracy_score(y_test, y_pred)\n",
    "\n",
    "# print the accuracy\n",
    "print('Accuracy:', accuracy)\n"
   ]
  },
  {
   "cell_type": "code",
   "execution_count": 158,
   "metadata": {},
   "outputs": [
    {
     "name": "stdout",
     "output_type": "stream",
     "text": [
      "[[34  0  0  0  0  0  0  0  0  0  0  0  0  0  0  0  0  0  0  0  0  0]\n",
      " [ 0 26  0  0  0  0  0  0  0  0  0  0  0  0  0  0  0  0  0  0  0  0]\n",
      " [ 0  0 26  0  0  0  0  0  0  0  0  0  0  0  0  0  0  0  0  0  0  0]\n",
      " [ 0  0  0 34  0  0  0  0  0  0  0  0  0  0  0  0  0  0  0  0  0  0]\n",
      " [ 0  0  0  0 33  0  0  0  0  0  0  0  0  0  0  0  0  0  0  0  0  0]\n",
      " [ 0  0  0  0  0 28  0  0  2  0  0  0  0  0  0  0  0  0  0  0  0  0]\n",
      " [ 0  0  0  0  0  0 28  0  0  0  0  0  0  0  0  0  0  0  0  0  0  0]\n",
      " [ 0  0  0  0  0  0  0 23  0  0  0  0  0  0  0  0  0  0  0  0  0  0]\n",
      " [ 0  0  0  0  0  0  0  0 32  0  0  0  0  0  0  0  0  1  0  0  1  0]\n",
      " [ 0  0  0  0  0  0  0  0  0 36  0  0  0  0  0  0  0  0  0  0  0  0]\n",
      " [ 0  0  0  0  0  0  0  0  0  0 22  0  0  0  0  0  0  0  0  0  0  0]\n",
      " [ 0  0  0  0  0  0  1  0  0  0  0 25  0  0  0  0  0  0  0  0  0  0]\n",
      " [ 0  0  0  0  0  0  0  0  0  0  0  0 32  0  0  0  0  0  0  0  0  0]\n",
      " [ 0  0  0  0  0  0  0  0  0  0  0  0  0 34  0  0  0  0  0  0  0  0]\n",
      " [ 0  0  0  0  0  0  0  0  0  0  0  0  0  0 30  0  0  0  0  0  0  0]\n",
      " [ 0  0  0  0  0  0  0  0  0  0  0  0  0  0  0 24  0  0  0  0  0  0]\n",
      " [ 0  0  0  0  0  0  0  0  0  0  0  0  0  0  0  0 25  0  0  0  0  0]\n",
      " [ 0  0  0  0  0  0  0  0  0  0  0  0  0  0  0  0  0 37  0  0  0  0]\n",
      " [ 0  0  1  0  0  0  0  0  0  0  0  0  1  0  0  0  0  0 35  0  0  0]\n",
      " [ 0  0  0  0  0  0  0  0  0  0  0  0  0  0  0  0  0  0  0 38  0  0]\n",
      " [ 0  0  0  0  0  0  0  0  7  0  0  0  0  0  0  0  0  0  0  0 21  0]\n",
      " [ 0  0  0  0  0  0  0  0  0  0  0  0  0  0  0  0  0  0  0  0  0 23]]\n"
     ]
    }
   ],
   "source": [
    "svm.fit(x_train, y_train)\n",
    "y_pred = svm.predict(x_test)\n",
    "cm = confusion_matrix(y_test, y_pred)\n",
    "print(cm)"
   ]
  },
  {
   "cell_type": "markdown",
   "metadata": {},
   "source": [
    "## KNN"
   ]
  },
  {
   "cell_type": "code",
   "execution_count": 159,
   "metadata": {},
   "outputs": [],
   "source": [
    "from sklearn.neighbors import KNeighborsClassifier\n",
    "\n",
    "# instantiate the KNN classifier\n",
    "knn = KNeighborsClassifier(n_neighbors=5)\n",
    "\n",
    "# fit the KNN classifier to the training data\n",
    "knn.fit(x_train, y_train)\n",
    "\n",
    "# make predictions on the test data\n",
    "y_pred = knn.predict(x_test)\n"
   ]
  },
  {
   "cell_type": "code",
   "execution_count": 160,
   "metadata": {},
   "outputs": [
    {
     "name": "stdout",
     "output_type": "stream",
     "text": [
      "Accuracy: 0.9772727272727273\n"
     ]
    }
   ],
   "source": [
    "# calculate the accuracy of the KNN classifier\n",
    "accuracy_KNN = accuracy_score(y_test, y_pred)\n",
    "\n",
    "# print the accuracy\n",
    "print('Accuracy:', accuracy_KNN)\n"
   ]
  },
  {
   "cell_type": "code",
   "execution_count": 161,
   "metadata": {},
   "outputs": [
    {
     "name": "stdout",
     "output_type": "stream",
     "text": [
      "[[34  0  0  0  0  0  0  0  0  0  0  0  0  0  0  0  0  0  0  0  0  0]\n",
      " [ 0 26  0  0  0  0  0  0  0  0  0  0  0  0  0  0  0  0  0  0  0  0]\n",
      " [ 0  0 26  0  0  0  0  0  0  0  0  0  0  0  0  0  0  0  0  0  0  0]\n",
      " [ 0  0  0 34  0  0  0  0  0  0  0  0  0  0  0  0  0  0  0  0  0  0]\n",
      " [ 0  0  0  0 33  0  0  0  0  0  0  0  0  0  0  0  0  0  0  0  0  0]\n",
      " [ 0  0  0  0  0 29  0  0  1  0  0  0  0  0  0  0  0  0  0  0  0  0]\n",
      " [ 0  0  0  0  0  0 28  0  0  0  0  0  0  0  0  0  0  0  0  0  0  0]\n",
      " [ 0  0  0  0  0  0  0 23  0  0  0  0  0  0  0  0  0  0  0  0  0  0]\n",
      " [ 0  0  0  0  0  0  0  0 33  0  0  0  0  0  0  0  0  0  0  0  1  0]\n",
      " [ 0  0  0  0  0  0  0  0  0 36  0  0  0  0  0  0  0  0  0  0  0  0]\n",
      " [ 0  0  0  0  0  0  0  0  0  0 22  0  0  0  0  0  0  0  0  0  0  0]\n",
      " [ 0  0  0  0  0  0  1  0  0  0  0 25  0  0  0  0  0  0  0  0  0  0]\n",
      " [ 0  0  0  0  0  0  0  0  0  0  0  0 32  0  0  0  0  0  0  0  0  0]\n",
      " [ 0  0  0  0  0  0  0  0  0  0  2  0  0 32  0  0  0  0  0  0  0  0]\n",
      " [ 0  0  0  0  0  0  0  0  0  0  0  0  0  0 30  0  0  0  0  0  0  0]\n",
      " [ 0  0  0  0  0  0  0  0  0  0  0  0  0  0  0 24  0  0  0  0  0  0]\n",
      " [ 0  0  0  0  0  0  0  0  0  0  0  0  0  0  0  0 25  0  0  0  0  0]\n",
      " [ 0  0  0  0  0  0  0  0  0  0  0  0  0  0  0  0  0 37  0  0  0  0]\n",
      " [ 0  0  1  0  0  0  0  0  0  2  0  0  0  0  0  0  0  0 34  0  0  0]\n",
      " [ 0  0  0  0  0  0  0  0  0  0  0  0  0  0  0  0  0  0  0 38  0  0]\n",
      " [ 0  0  0  0  0  0  0  0  7  0  0  0  0  0  0  0  0  0  0  0 21  0]\n",
      " [ 0  0  0  0  0  0  0  0  0  0  0  0  0  0  0  0  0  0  0  0  0 23]]\n"
     ]
    }
   ],
   "source": [
    "knn.fit(x_train, y_train)\n",
    "y_pred = knn.predict(x_test)\n",
    "cm = confusion_matrix(y_test, y_pred)\n",
    "print(cm)"
   ]
  },
  {
   "cell_type": "markdown",
   "metadata": {},
   "source": [
    "## LSTM"
   ]
  },
  {
   "cell_type": "code",
   "execution_count": 162,
   "metadata": {},
   "outputs": [],
   "source": [
    "X = df[['N', 'P', 'K', 'temperature', 'humidity', 'ph', 'rainfall']].values\n",
    "y = df['label'].values\n",
    "X_train, X_test, y_train, y_test = train_test_split(X, y, test_size=0.2, random_state=42)\n",
    "X_train, X_val, y_train, y_val = train_test_split(X_train, y_train, test_size=0.2, random_state=42)\n"
   ]
  },
  {
   "cell_type": "code",
   "execution_count": 163,
   "metadata": {},
   "outputs": [],
   "source": [
    "timesteps = 1\n",
    "input_dim = X_train.shape[1]\n",
    "X_train = X_train.reshape((X_train.shape[0], timesteps, input_dim))\n",
    "X_val = X_val.reshape((X_val.shape[0], timesteps, input_dim))\n",
    "X_test = X_test.reshape((X_test.shape[0], timesteps, input_dim))"
   ]
  },
  {
   "cell_type": "code",
   "execution_count": 164,
   "metadata": {},
   "outputs": [],
   "source": [
    "# Define the number of classes in your classification problem\n",
    "num_classes = 22"
   ]
  },
  {
   "cell_type": "code",
   "execution_count": 165,
   "metadata": {},
   "outputs": [],
   "source": [
    " # Convert labels to integers\n",
    " y_train = np.array([0 if label=='rice' else 1 if label=='maize' else 2 if label=='chickpea' else 3 if label=='kidneybeans' else 4 if label=='pigeonpeas' else 5 if label=='mouthbeans' else 6 if label=='mungbeans' else 7 if label=='blackgram' else 8 if label=='lentil' else 9 if label=='promegranate' else 10 if label=='banana' else 11 if label=='mango' else 12 if label=='grapes' else 13 if label=='watermelon' else 14 if label=='muskmelon' else 15 if label=='apple' else 16 if label=='orange' else 17 if label=='papaya' else 18 if label=='coconut' else 19 if label=='cotton' else 20 if label=='jute' else 21 for label in y_train])\n",
    " y_val = np.array([0 if label=='rice' else 1 if label=='maize' else 2 if label=='chickpea' else 3 if label=='kidneybeans' else 4 if label=='pigeonpeas' else 5 if label=='mouthbeans' else 6 if label=='mungbeans' else 7 if label=='blackgram' else 8 if label=='lentil' else 9 if label=='promegranate' else 10 if label=='banana' else 11 if label=='mango' else 12 if label=='grapes' else 13 if label=='watermelon' else 14 if label=='muskmelon' else 15 if label=='apple' else 16 if label=='orange' else 17 if label=='papaya' else 18 if label=='coconut' else 19 if label=='cotton' else 20 if label=='jute' else 21 for label in y_val])\n",
    " y_test = np.array([0 if label=='rice' else 1 if label=='maize' else 2 if label=='chickpea' else 3 if label=='kidneybeans' else 4 if label=='pigeonpeas' else 5 if label=='mouthbeans' else 6 if label=='mungbeans' else 7 if label=='blackgram' else 8 if label=='lentil' else 9 if label=='promegranate' else 10 if label=='banana' else 11 if label=='mango' else 12 if label=='grapes' else 13 if label=='watermelon' else 14 if label=='muskmelon' else 15 if label=='apple' else 16 if label=='orange' else 17 if label=='papaya' else 18 if label=='coconut' else 19 if label=='cotton' else 20 if label=='jute' else 21 for label in y_test])\n",
    "\n"
   ]
  },
  {
   "cell_type": "code",
   "execution_count": 166,
   "metadata": {},
   "outputs": [],
   "source": [
    "# # Convert labels to integers using list comprehension\n",
    "# label_mapping = {'rice': 0, 'maize': 1, 'chickpea': 2, 'kidneybeans': 3, 'pigeonpeas': 4, 'mothbeans': 5,\n",
    "#                  'mungbeans': 6, 'blackgram': 7, 'lentil': 8, 'promegranate': 9, 'banana': 10, 'mango': 11,\n",
    "#                  'grapes': 12, 'watermelon': 13, 'muskmelon': 14, 'apple': 15, 'orange': 16, 'papaya': 17,\n",
    "#                  'coconut': 18, 'cotton': 19, 'jute': 20, 'coffee': 21}\n",
    "# # Convert labels to tuples before using them as keys in dictionary\n",
    "# label_mapping = {tuple(label): i for i, label in enumerate([\n",
    "#     [0.0, 0.0, 1.0, 0.0, 0.0, 0.0, 0.0, 0.0, 0.0, 0.0, 0.0, 0.0, 0.0, 0.0, 0.0, 0.0, 0.0, 0.0, 0.0, 0.0, 0.0, 0.0],\n",
    "#     [0.0, 1.0, 0.0, 0.0, 0.0, 0.0, 0.0, 0.0, 0.0, 0.0, 0.0, 0.0, 0.0, 0.0, 0.0, 0.0, 0.0, 0.0, 0.0, 0.0, 0.0, 0.0],\n",
    "#     [1.0, 0.0, 0.0, 0.0, 0.0, 0.0, 0.0, 0.0, 0.0, 0.0, 0.0, 0.0, 0.0, 0.0, 0.0, 0.0, 0.0, 0.0, 0.0, 0.0, 0.0, 0.0],\n",
    "#     # Add more labels here as needed\n",
    "# ])}\n",
    "\n",
    "# # Convert labels to integers using list comprehension\n",
    "# y_train = np.array([label_mapping[tuple(label)] for label in y_train.tolist()])\n",
    "# y_val = np.array([label_mapping[tuple(label)] for label in y_val.tolist()])\n",
    "# y_test = np.array([label_mapping[tuple(label)] for label in y_test.tolist()])"
   ]
  },
  {
   "cell_type": "code",
   "execution_count": 167,
   "metadata": {},
   "outputs": [],
   "source": [
    "# # Convert labels to one-hot encoded vectors\n",
    "# num_classes = len(label_mapping)\n",
    "# y_train = to_categorical(y_train, num_classes)\n",
    "# y_val = to_categorical(y_val, num_classes)\n",
    "# y_test = to_categorical(y_test, num_classes)"
   ]
  },
  {
   "cell_type": "code",
   "execution_count": 168,
   "metadata": {},
   "outputs": [],
   "source": [
    " # Convert lAbels to one-hot encoded vectors\n",
    " y_train = to_categorical(y_train, num_classes)\n",
    " y_val = to_categorical(y_val, num_classes)\n",
    " y_test = to_categorical(y_test, num_classes)"
   ]
  },
  {
   "cell_type": "code",
   "execution_count": 169,
   "metadata": {},
   "outputs": [],
   "source": [
    "# Define the model architecture\n",
    "model = Sequential()\n",
    "model.add(LSTM(32, input_shape=(timesteps, input_dim)))\n",
    "model.add(Dense(num_classes, activation='softmax'))"
   ]
  },
  {
   "cell_type": "code",
   "execution_count": 170,
   "metadata": {},
   "outputs": [],
   "source": [
    "# Compile the model\n",
    "model.compile(loss='categorical_crossentropy', optimizer='adam', metrics=['accuracy'])\n"
   ]
  },
  {
   "cell_type": "code",
   "execution_count": 171,
   "metadata": {},
   "outputs": [],
   "source": [
    "# # sample for checking \n",
    "# # Reshape input data to match expected input shape of the model\n",
    "# X_train = np.reshape(X_train, (X_train.shape[0], 1, X_train.shape[1]))\n",
    "# X_val = np.reshape(X_val, (X_val.shape[0], 1, X_val.shape[1]))\n",
    "# X_test = np.reshape(X_test, (X_test.shape[0], 1, X_test.shape[1]))"
   ]
  },
  {
   "cell_type": "code",
   "execution_count": 172,
   "metadata": {},
   "outputs": [],
   "source": [
    "# # sample\n",
    "# # Reshape y_train and y_val to have the same number of samples as X_train and X_val, respectively\n",
    "# y_train = y_train.reshape(y_train.shape[0], -1)\n",
    "# y_val = y_val.reshape(y_val.shape[0], -1)\n",
    "\n",
    "# # Convert y_train and y_val to have the correct shape of (32, 3)\n",
    "# y_train = y_train[:, :3]  # assuming the first 3 columns of y_train represent the target labels\n",
    "# y_val = y_val[:, :3]  # assuming the first 3 columns of y_val represent the target labels"
   ]
  },
  {
   "cell_type": "code",
   "execution_count": 173,
   "metadata": {},
   "outputs": [],
   "source": [
    "# # sample \n",
    "# import tensorflow as tf\n",
    "\n",
    "# # Define your model\n",
    "# model = tf.keras.Sequential([\n",
    "#     tf.keras.layers.Input(shape=(X_train.shape[1],)),\n",
    "#     tf.keras.layers.Dense(units=64, activation='relu'),\n",
    "#     tf.keras.layers.Dense(units=32, activation='relu'),\n",
    "#     tf.keras.layers.Dense(units=3, activation='softmax')\n",
    "# ])\n",
    "\n",
    "# # Define your loss function and optimizer\n",
    "# loss_fn = tf.keras.losses.SparseCategoricalCrossentropy(from_logits=True)\n",
    "# optimizer = tf.keras.optimizers.Adam()\n",
    "\n",
    "# # Compile your model\n",
    "# model.compile(optimizer=optimizer, loss=loss_fn, metrics=['accuracy'])\n",
    "\n",
    "# # Train your model\n",
    "# model.fit(X_train, y_train, batch_size=32, epochs=100, validation_data=(X_val, y_val))\n"
   ]
  },
  {
   "cell_type": "code",
   "execution_count": 174,
   "metadata": {},
   "outputs": [],
   "source": [
    "# #sample \n",
    "# import tensorflow as tf\n",
    "\n",
    "# # Define your model\n",
    "# model = tf.keras.Sequential([...])  # Your model definition here\n",
    "\n",
    "# # Define your loss function and optimizer\n",
    "# loss_fn = tf.keras.losses.SparseCategoricalCrossentropy(from_logits=True)\n",
    "# optimizer = tf.keras.optimizers.Adam()\n",
    "\n",
    "# # Define your training step function\n",
    "# @tf.function\n",
    "# def train_step(x, y):\n",
    "#     with tf.GradientTape() as tape:\n",
    "#         logits = model(x, training=True)\n",
    "#         loss = loss_fn(y, logits)\n",
    "#     gradients = tape.gradient(loss, model.trainable_variables)\n",
    "#     optimizer.apply_gradients(zip(gradients, model.trainable_variables))\n",
    "\n",
    "# # Train your model\n",
    "# for epoch in range(epochs):\n",
    "#     for batch in train_dataset:\n",
    "#         x, y = batch  # Assuming x is the input data and y is the target labels\n",
    "#         train_step(x, y)\n"
   ]
  },
  {
   "cell_type": "code",
   "execution_count": 175,
   "metadata": {},
   "outputs": [
    {
     "name": "stdout",
     "output_type": "stream",
     "text": [
      "Epoch 1/100\n",
      "44/44 [==============================] - 5s 28ms/step - loss: 2.8180 - accuracy: 0.2259 - val_loss: 2.6355 - val_accuracy: 0.3494\n",
      "Epoch 2/100\n",
      "44/44 [==============================] - 0s 7ms/step - loss: 2.4522 - accuracy: 0.3842 - val_loss: 2.3106 - val_accuracy: 0.3864\n",
      "Epoch 3/100\n",
      "44/44 [==============================] - 0s 8ms/step - loss: 2.1719 - accuracy: 0.4176 - val_loss: 2.0889 - val_accuracy: 0.4318\n",
      "Epoch 4/100\n",
      "44/44 [==============================] - 0s 7ms/step - loss: 1.9505 - accuracy: 0.4808 - val_loss: 1.8846 - val_accuracy: 0.4943\n",
      "Epoch 5/100\n",
      "44/44 [==============================] - 0s 8ms/step - loss: 1.7522 - accuracy: 0.5469 - val_loss: 1.7013 - val_accuracy: 0.5653\n",
      "Epoch 6/100\n",
      "44/44 [==============================] - 0s 7ms/step - loss: 1.5764 - accuracy: 0.6207 - val_loss: 1.5375 - val_accuracy: 0.6392\n",
      "Epoch 7/100\n",
      "44/44 [==============================] - 0s 7ms/step - loss: 1.4286 - accuracy: 0.6797 - val_loss: 1.3973 - val_accuracy: 0.6903\n",
      "Epoch 8/100\n",
      "44/44 [==============================] - 0s 7ms/step - loss: 1.3051 - accuracy: 0.7472 - val_loss: 1.2884 - val_accuracy: 0.7273\n",
      "Epoch 9/100\n",
      "44/44 [==============================] - 0s 7ms/step - loss: 1.2023 - accuracy: 0.7784 - val_loss: 1.1888 - val_accuracy: 0.7670\n",
      "Epoch 10/100\n",
      "44/44 [==============================] - 0s 6ms/step - loss: 1.1149 - accuracy: 0.8082 - val_loss: 1.1004 - val_accuracy: 0.8068\n",
      "Epoch 11/100\n",
      "44/44 [==============================] - 0s 7ms/step - loss: 1.0326 - accuracy: 0.8480 - val_loss: 1.0215 - val_accuracy: 0.8494\n",
      "Epoch 12/100\n",
      "44/44 [==============================] - 0s 6ms/step - loss: 0.9602 - accuracy: 0.8700 - val_loss: 0.9568 - val_accuracy: 0.8608\n",
      "Epoch 13/100\n",
      "44/44 [==============================] - 0s 6ms/step - loss: 0.8979 - accuracy: 0.8786 - val_loss: 0.8968 - val_accuracy: 0.8750\n",
      "Epoch 14/100\n",
      "44/44 [==============================] - 0s 7ms/step - loss: 0.8394 - accuracy: 0.8786 - val_loss: 0.8387 - val_accuracy: 0.8835\n",
      "Epoch 15/100\n",
      "44/44 [==============================] - 0s 6ms/step - loss: 0.7849 - accuracy: 0.8935 - val_loss: 0.7848 - val_accuracy: 0.8977\n",
      "Epoch 16/100\n",
      "44/44 [==============================] - 0s 7ms/step - loss: 0.7343 - accuracy: 0.8963 - val_loss: 0.7388 - val_accuracy: 0.8977\n",
      "Epoch 17/100\n",
      "44/44 [==============================] - 0s 7ms/step - loss: 0.6909 - accuracy: 0.9048 - val_loss: 0.7097 - val_accuracy: 0.8892\n",
      "Epoch 18/100\n",
      "44/44 [==============================] - 0s 7ms/step - loss: 0.6516 - accuracy: 0.9070 - val_loss: 0.6654 - val_accuracy: 0.9034\n",
      "Epoch 19/100\n",
      "44/44 [==============================] - 0s 7ms/step - loss: 0.6187 - accuracy: 0.9070 - val_loss: 0.6387 - val_accuracy: 0.9148\n",
      "Epoch 20/100\n",
      "44/44 [==============================] - 0s 7ms/step - loss: 0.5911 - accuracy: 0.9006 - val_loss: 0.6117 - val_accuracy: 0.8977\n",
      "Epoch 21/100\n",
      "44/44 [==============================] - 0s 7ms/step - loss: 0.5610 - accuracy: 0.9134 - val_loss: 0.5761 - val_accuracy: 0.9233\n",
      "Epoch 22/100\n",
      "44/44 [==============================] - 0s 6ms/step - loss: 0.5382 - accuracy: 0.9112 - val_loss: 0.5605 - val_accuracy: 0.9290\n",
      "Epoch 23/100\n",
      "44/44 [==============================] - 0s 9ms/step - loss: 0.5184 - accuracy: 0.9169 - val_loss: 0.5429 - val_accuracy: 0.9261\n",
      "Epoch 24/100\n",
      "44/44 [==============================] - 0s 8ms/step - loss: 0.4959 - accuracy: 0.9219 - val_loss: 0.5121 - val_accuracy: 0.9347\n",
      "Epoch 25/100\n",
      "44/44 [==============================] - 0s 7ms/step - loss: 0.4749 - accuracy: 0.9197 - val_loss: 0.4990 - val_accuracy: 0.9233\n",
      "Epoch 26/100\n",
      "44/44 [==============================] - 0s 7ms/step - loss: 0.4580 - accuracy: 0.9190 - val_loss: 0.4835 - val_accuracy: 0.9233\n",
      "Epoch 27/100\n",
      "44/44 [==============================] - 0s 7ms/step - loss: 0.4389 - accuracy: 0.9290 - val_loss: 0.4750 - val_accuracy: 0.9261\n",
      "Epoch 28/100\n",
      "44/44 [==============================] - 0s 7ms/step - loss: 0.4274 - accuracy: 0.9283 - val_loss: 0.4504 - val_accuracy: 0.9375\n",
      "Epoch 29/100\n",
      "44/44 [==============================] - 0s 7ms/step - loss: 0.4102 - accuracy: 0.9276 - val_loss: 0.4326 - val_accuracy: 0.9460\n",
      "Epoch 30/100\n",
      "44/44 [==============================] - 0s 7ms/step - loss: 0.3950 - accuracy: 0.9325 - val_loss: 0.4329 - val_accuracy: 0.9233\n",
      "Epoch 31/100\n",
      "44/44 [==============================] - 0s 7ms/step - loss: 0.3859 - accuracy: 0.9332 - val_loss: 0.4191 - val_accuracy: 0.9432\n",
      "Epoch 32/100\n",
      "44/44 [==============================] - 0s 7ms/step - loss: 0.3723 - accuracy: 0.9389 - val_loss: 0.4020 - val_accuracy: 0.9432\n",
      "Epoch 33/100\n",
      "44/44 [==============================] - 0s 7ms/step - loss: 0.3594 - accuracy: 0.9354 - val_loss: 0.3814 - val_accuracy: 0.9403\n",
      "Epoch 34/100\n",
      "44/44 [==============================] - 0s 7ms/step - loss: 0.3505 - accuracy: 0.9396 - val_loss: 0.3825 - val_accuracy: 0.9460\n",
      "Epoch 35/100\n",
      "44/44 [==============================] - 0s 7ms/step - loss: 0.3395 - accuracy: 0.9382 - val_loss: 0.3755 - val_accuracy: 0.9290\n",
      "Epoch 36/100\n",
      "44/44 [==============================] - 0s 7ms/step - loss: 0.3313 - accuracy: 0.9439 - val_loss: 0.3684 - val_accuracy: 0.9375\n",
      "Epoch 37/100\n",
      "44/44 [==============================] - 0s 6ms/step - loss: 0.3224 - accuracy: 0.9396 - val_loss: 0.3507 - val_accuracy: 0.9375\n",
      "Epoch 38/100\n",
      "44/44 [==============================] - 0s 7ms/step - loss: 0.3115 - accuracy: 0.9453 - val_loss: 0.3413 - val_accuracy: 0.9460\n",
      "Epoch 39/100\n",
      "44/44 [==============================] - 0s 7ms/step - loss: 0.3009 - accuracy: 0.9503 - val_loss: 0.3279 - val_accuracy: 0.9489\n",
      "Epoch 40/100\n",
      "44/44 [==============================] - 0s 6ms/step - loss: 0.2942 - accuracy: 0.9460 - val_loss: 0.3225 - val_accuracy: 0.9460\n",
      "Epoch 41/100\n",
      "44/44 [==============================] - 0s 7ms/step - loss: 0.2867 - accuracy: 0.9467 - val_loss: 0.3137 - val_accuracy: 0.9432\n",
      "Epoch 42/100\n",
      "44/44 [==============================] - 0s 6ms/step - loss: 0.2838 - accuracy: 0.9460 - val_loss: 0.3082 - val_accuracy: 0.9545\n",
      "Epoch 43/100\n",
      "44/44 [==============================] - 0s 6ms/step - loss: 0.2738 - accuracy: 0.9567 - val_loss: 0.2963 - val_accuracy: 0.9545\n",
      "Epoch 44/100\n",
      "44/44 [==============================] - 0s 5ms/step - loss: 0.2636 - accuracy: 0.9517 - val_loss: 0.3035 - val_accuracy: 0.9403\n",
      "Epoch 45/100\n",
      "44/44 [==============================] - 0s 6ms/step - loss: 0.2588 - accuracy: 0.9503 - val_loss: 0.2771 - val_accuracy: 0.9602\n",
      "Epoch 46/100\n",
      "44/44 [==============================] - 0s 6ms/step - loss: 0.2484 - accuracy: 0.9567 - val_loss: 0.2671 - val_accuracy: 0.9574\n",
      "Epoch 47/100\n",
      "44/44 [==============================] - 0s 7ms/step - loss: 0.2416 - accuracy: 0.9538 - val_loss: 0.2725 - val_accuracy: 0.9574\n",
      "Epoch 48/100\n",
      "44/44 [==============================] - 0s 6ms/step - loss: 0.2362 - accuracy: 0.9567 - val_loss: 0.2598 - val_accuracy: 0.9574\n",
      "Epoch 49/100\n",
      "44/44 [==============================] - 0s 6ms/step - loss: 0.2295 - accuracy: 0.9588 - val_loss: 0.2596 - val_accuracy: 0.9545\n",
      "Epoch 50/100\n",
      "44/44 [==============================] - 0s 7ms/step - loss: 0.2230 - accuracy: 0.9588 - val_loss: 0.2541 - val_accuracy: 0.9602\n",
      "Epoch 51/100\n",
      "44/44 [==============================] - 0s 6ms/step - loss: 0.2161 - accuracy: 0.9588 - val_loss: 0.2412 - val_accuracy: 0.9517\n",
      "Epoch 52/100\n",
      "44/44 [==============================] - 0s 7ms/step - loss: 0.2068 - accuracy: 0.9631 - val_loss: 0.2384 - val_accuracy: 0.9545\n",
      "Epoch 53/100\n",
      "44/44 [==============================] - 0s 7ms/step - loss: 0.2068 - accuracy: 0.9581 - val_loss: 0.2310 - val_accuracy: 0.9602\n",
      "Epoch 54/100\n",
      "44/44 [==============================] - 0s 7ms/step - loss: 0.2024 - accuracy: 0.9609 - val_loss: 0.2380 - val_accuracy: 0.9545\n",
      "Epoch 55/100\n",
      "44/44 [==============================] - 0s 6ms/step - loss: 0.1948 - accuracy: 0.9652 - val_loss: 0.2370 - val_accuracy: 0.9545\n",
      "Epoch 56/100\n",
      "44/44 [==============================] - 0s 6ms/step - loss: 0.1917 - accuracy: 0.9680 - val_loss: 0.2207 - val_accuracy: 0.9659\n",
      "Epoch 57/100\n",
      "44/44 [==============================] - 0s 6ms/step - loss: 0.1876 - accuracy: 0.9638 - val_loss: 0.2172 - val_accuracy: 0.9659\n",
      "Epoch 58/100\n",
      "44/44 [==============================] - 0s 6ms/step - loss: 0.1831 - accuracy: 0.9645 - val_loss: 0.2078 - val_accuracy: 0.9659\n"
     ]
    },
    {
     "name": "stdout",
     "output_type": "stream",
     "text": [
      "Epoch 59/100\n",
      "44/44 [==============================] - 0s 6ms/step - loss: 0.1785 - accuracy: 0.9673 - val_loss: 0.2039 - val_accuracy: 0.9631\n",
      "Epoch 60/100\n",
      "44/44 [==============================] - 0s 6ms/step - loss: 0.1782 - accuracy: 0.9595 - val_loss: 0.2058 - val_accuracy: 0.9602\n",
      "Epoch 61/100\n",
      "44/44 [==============================] - 0s 6ms/step - loss: 0.1739 - accuracy: 0.9680 - val_loss: 0.2022 - val_accuracy: 0.9659\n",
      "Epoch 62/100\n",
      "44/44 [==============================] - 0s 6ms/step - loss: 0.1691 - accuracy: 0.9666 - val_loss: 0.1993 - val_accuracy: 0.9659\n",
      "Epoch 63/100\n",
      "44/44 [==============================] - 0s 6ms/step - loss: 0.1671 - accuracy: 0.9652 - val_loss: 0.1959 - val_accuracy: 0.9631\n",
      "Epoch 64/100\n",
      "44/44 [==============================] - 0s 6ms/step - loss: 0.1610 - accuracy: 0.9702 - val_loss: 0.1945 - val_accuracy: 0.9631\n",
      "Epoch 65/100\n",
      "44/44 [==============================] - 0s 6ms/step - loss: 0.1592 - accuracy: 0.9688 - val_loss: 0.1960 - val_accuracy: 0.9602\n",
      "Epoch 66/100\n",
      "44/44 [==============================] - 0s 6ms/step - loss: 0.1591 - accuracy: 0.9638 - val_loss: 0.1896 - val_accuracy: 0.9602\n",
      "Epoch 67/100\n",
      "44/44 [==============================] - 0s 6ms/step - loss: 0.1521 - accuracy: 0.9716 - val_loss: 0.1947 - val_accuracy: 0.9489\n",
      "Epoch 68/100\n",
      "44/44 [==============================] - 0s 6ms/step - loss: 0.1519 - accuracy: 0.9673 - val_loss: 0.1797 - val_accuracy: 0.9631\n",
      "Epoch 69/100\n",
      "44/44 [==============================] - 0s 6ms/step - loss: 0.1492 - accuracy: 0.9673 - val_loss: 0.1878 - val_accuracy: 0.9602\n",
      "Epoch 70/100\n",
      "44/44 [==============================] - 0s 6ms/step - loss: 0.1447 - accuracy: 0.9709 - val_loss: 0.1945 - val_accuracy: 0.9631\n",
      "Epoch 71/100\n",
      "44/44 [==============================] - 0s 6ms/step - loss: 0.1454 - accuracy: 0.9723 - val_loss: 0.1786 - val_accuracy: 0.9688\n",
      "Epoch 72/100\n",
      "44/44 [==============================] - 0s 6ms/step - loss: 0.1428 - accuracy: 0.9709 - val_loss: 0.1764 - val_accuracy: 0.9574\n",
      "Epoch 73/100\n",
      "44/44 [==============================] - 0s 6ms/step - loss: 0.1395 - accuracy: 0.9695 - val_loss: 0.1721 - val_accuracy: 0.9631\n",
      "Epoch 74/100\n",
      "44/44 [==============================] - 0s 5ms/step - loss: 0.1374 - accuracy: 0.9709 - val_loss: 0.1718 - val_accuracy: 0.9602\n",
      "Epoch 75/100\n",
      "44/44 [==============================] - 0s 6ms/step - loss: 0.1367 - accuracy: 0.9744 - val_loss: 0.1916 - val_accuracy: 0.9631\n",
      "Epoch 76/100\n",
      "44/44 [==============================] - 0s 6ms/step - loss: 0.1395 - accuracy: 0.9673 - val_loss: 0.1667 - val_accuracy: 0.9631\n",
      "Epoch 77/100\n",
      "44/44 [==============================] - 0s 6ms/step - loss: 0.1328 - accuracy: 0.9716 - val_loss: 0.1721 - val_accuracy: 0.9545\n",
      "Epoch 78/100\n",
      "44/44 [==============================] - 0s 6ms/step - loss: 0.1318 - accuracy: 0.9709 - val_loss: 0.1694 - val_accuracy: 0.9574\n",
      "Epoch 79/100\n",
      "44/44 [==============================] - 0s 6ms/step - loss: 0.1282 - accuracy: 0.9723 - val_loss: 0.1768 - val_accuracy: 0.9517\n",
      "Epoch 80/100\n",
      "44/44 [==============================] - 0s 6ms/step - loss: 0.1289 - accuracy: 0.9709 - val_loss: 0.1586 - val_accuracy: 0.9659\n",
      "Epoch 81/100\n",
      "44/44 [==============================] - 0s 6ms/step - loss: 0.1275 - accuracy: 0.9695 - val_loss: 0.1561 - val_accuracy: 0.9631\n",
      "Epoch 82/100\n",
      "44/44 [==============================] - 0s 6ms/step - loss: 0.1226 - accuracy: 0.9723 - val_loss: 0.1602 - val_accuracy: 0.9545\n",
      "Epoch 83/100\n",
      "44/44 [==============================] - 0s 6ms/step - loss: 0.1212 - accuracy: 0.9680 - val_loss: 0.1626 - val_accuracy: 0.9545\n",
      "Epoch 84/100\n",
      "44/44 [==============================] - 0s 6ms/step - loss: 0.1199 - accuracy: 0.9709 - val_loss: 0.1505 - val_accuracy: 0.9716\n",
      "Epoch 85/100\n",
      "44/44 [==============================] - 0s 6ms/step - loss: 0.1227 - accuracy: 0.9709 - val_loss: 0.1552 - val_accuracy: 0.9574\n",
      "Epoch 86/100\n",
      "44/44 [==============================] - 0s 6ms/step - loss: 0.1156 - accuracy: 0.9737 - val_loss: 0.1480 - val_accuracy: 0.9716\n",
      "Epoch 87/100\n",
      "44/44 [==============================] - 0s 6ms/step - loss: 0.1167 - accuracy: 0.9730 - val_loss: 0.1449 - val_accuracy: 0.9716\n",
      "Epoch 88/100\n",
      "44/44 [==============================] - 0s 6ms/step - loss: 0.1103 - accuracy: 0.9730 - val_loss: 0.1485 - val_accuracy: 0.9659\n",
      "Epoch 89/100\n",
      "44/44 [==============================] - 0s 6ms/step - loss: 0.1128 - accuracy: 0.9709 - val_loss: 0.1539 - val_accuracy: 0.9517\n",
      "Epoch 90/100\n",
      "44/44 [==============================] - 0s 6ms/step - loss: 0.1133 - accuracy: 0.9702 - val_loss: 0.1523 - val_accuracy: 0.9517\n",
      "Epoch 91/100\n",
      "44/44 [==============================] - 0s 6ms/step - loss: 0.1145 - accuracy: 0.9759 - val_loss: 0.1405 - val_accuracy: 0.9659\n",
      "Epoch 92/100\n",
      "44/44 [==============================] - 0s 6ms/step - loss: 0.1108 - accuracy: 0.9702 - val_loss: 0.1495 - val_accuracy: 0.9574\n",
      "Epoch 93/100\n",
      "44/44 [==============================] - 0s 6ms/step - loss: 0.1056 - accuracy: 0.9766 - val_loss: 0.1566 - val_accuracy: 0.9631\n",
      "Epoch 94/100\n",
      "44/44 [==============================] - 0s 5ms/step - loss: 0.1054 - accuracy: 0.9730 - val_loss: 0.1379 - val_accuracy: 0.9517\n",
      "Epoch 95/100\n",
      "44/44 [==============================] - 0s 6ms/step - loss: 0.1061 - accuracy: 0.9730 - val_loss: 0.1358 - val_accuracy: 0.9631\n",
      "Epoch 96/100\n",
      "44/44 [==============================] - 0s 6ms/step - loss: 0.1044 - accuracy: 0.9744 - val_loss: 0.1449 - val_accuracy: 0.9545\n",
      "Epoch 97/100\n",
      "44/44 [==============================] - 0s 5ms/step - loss: 0.1000 - accuracy: 0.9744 - val_loss: 0.1384 - val_accuracy: 0.9688\n",
      "Epoch 98/100\n",
      "44/44 [==============================] - 0s 6ms/step - loss: 0.1013 - accuracy: 0.9759 - val_loss: 0.1340 - val_accuracy: 0.9631\n",
      "Epoch 99/100\n",
      "44/44 [==============================] - 0s 6ms/step - loss: 0.0984 - accuracy: 0.9744 - val_loss: 0.1311 - val_accuracy: 0.9631\n",
      "Epoch 100/100\n",
      "44/44 [==============================] - 0s 6ms/step - loss: 0.0989 - accuracy: 0.9751 - val_loss: 0.1349 - val_accuracy: 0.9659\n"
     ]
    },
    {
     "data": {
      "text/plain": [
       "<keras.callbacks.History at 0x15e67f52c10>"
      ]
     },
     "execution_count": 175,
     "metadata": {},
     "output_type": "execute_result"
    }
   ],
   "source": [
    " # Train the model\n",
    " model.fit(X_train, y_train, batch_size=32, epochs=100, validation_data=(X_val, y_val))"
   ]
  },
  {
   "cell_type": "code",
   "execution_count": 176,
   "metadata": {},
   "outputs": [
    {
     "name": "stdout",
     "output_type": "stream",
     "text": [
      "14/14 [==============================] - 1s 3ms/step - loss: 0.1610 - accuracy: 0.9477\n",
      "Test loss: 0.16095708310604095\n",
      "Test accuracy: 0.9477272629737854\n"
     ]
    }
   ],
   "source": [
    "# Test the model on the test data\n",
    "loss, accuracy_LSTM = model.evaluate(X_test, y_test, batch_size=32)\n",
    "\n",
    "print('Test loss:', loss)\n",
    "print('Test accuracy:', accuracy_LSTM)"
   ]
  },
  {
   "cell_type": "code",
   "execution_count": 203,
   "metadata": {},
   "outputs": [
    {
     "name": "stdout",
     "output_type": "stream",
     "text": [
      "14/14 [==============================] - 0s 2ms/step\n",
      "[[15  0  0  0  0  0  0  0  0  0  0  0  0  0  0  0  0  4  0]\n",
      " [ 0 15  0  0  0  1  0  0  0  0  0  0  0  0  0  0  4  1  0]\n",
      " [ 0  0 26  0  0  0  0  0  0  0  0  0  0  0  0  0  0  0  0]\n",
      " [ 0  0  0 20  0  0  0  0  0  0  0  0  0  0  0  0  0  0  0]\n",
      " [ 0  0  0  2  7  8  6  0  0  0  0  0  0  0  0  0  0  0  0]\n",
      " [ 0  0  0  0  1 17  2  0  0  0  0  0  0  0  0  0  0  0  0]\n",
      " [ 0  0  0  0  1  3  7  0  0  0  0  0  0  0  0  0  0  0  0]\n",
      " [ 0  0  0  0  0  0  0 21  0  0  0  0  0  0  0  0  0  0  0]\n",
      " [ 0  0  0  0  0  0  0  0 19  0  0  0  0  0  0  0  0  0  0]\n",
      " [ 0  0  0  0  0  0  0  0  0 14  0  0  0  0  0  0  0  0  0]\n",
      " [ 0  0  0  0  0  0  0  0  0  0 19  0  0  0  0  0  0  0  0]\n",
      " [ 0  0  0  0  0  0  0  0  0  0  8  9  0  0  0  0  0  0  0]\n",
      " [ 0  0  0  0  0  0  0  0  0 16  0  0  7  0  0  0  0  0  0]\n",
      " [ 0  0  0  0  0  0  0  0  0  0  0  0  0 14  0  0  0  0  0]\n",
      " [ 0  0  0  0  0  0  0  0  1  0  0  0  0  0 22  0  0  0  0]\n",
      " [ 0  0  0  0  0  0  0  0  0  0  0  0  0  0  0 27  0  0  0]\n",
      " [ 0  3  0  0  0  0  0  0  0  0  0  0  0  0  0  0 14  0  0]\n",
      " [ 5  0  0  0  0  0  0  1  0  0  0  0  0  0  0  0  0 16  1]\n",
      " [ 0  0  0  0  6  7  1  1  0  0  0  1  0  3  0 10  0  0 54]]\n"
     ]
    }
   ],
   "source": [
    "from sklearn.metrics import confusion_matrix\n",
    "import matplotlib.pyplot as plt\n",
    "\n",
    "\n",
    "# Get the predicted labels for the test data\n",
    "y_pred = model.predict(X_test)\n",
    "y_pred = np.argmax(y_pred, axis=1) # Convert one-hot encoded vectors to labels\n",
    "\n",
    "# Convert one-hot encoded true labels to labels\n",
    "y_true = np.argmax(y_test, axis=1)\n",
    "\n",
    "# Create confusion matrix\n",
    "confusion_mat = confusion_matrix(y_true, y_pred)\n",
    "print(confusion_mat)\n",
    "# # Plot confusion matrix\n",
    "# plt.imshow(confusion_mat, cmap='Blues')\n",
    "# plt.colorbar()\n",
    "# plt.xticks(np.arange(num_classes), [\"rice\", \"maize\", \"chickpea\", \"kidneybeans\", \"pigeonpeas\", \"mothbeans\", \"mungbeans\", \"blackgram\", \"lentil\", \"promegranate\", \"banana\", \"mango\", \"grapes\", \"watermelon\", \"muskmelon\", \"apple\", \"orange\", \"papaya\", \"coconut\", \"cotton\", \"jute\", \"coffee\"], rotation=45)\n",
    "# plt.yticks(np.arange(num_classes), [\"rice\", \"maize\", \"chickpea\", \"kidneybeans\", \"pigeonpeas\", \"mothbeans\", \"mungbeans\", \"blackgram\", \"lentil\", \"promegranate\", \"banana\", \"mango\", \"grapes\", \"watermelon\", \"muskmelon\", \"apple\", \"orange\", \"papaya\", \"coconut\", \"cotton\", \"jute\", \"coffee\"])\n",
    "# plt.xlabel('Predicted')\n",
    "# plt.ylabel('True')\n",
    "# plt.title('Confusion Matrix')\n",
    "# plt.show()\n"
   ]
  },
  {
   "cell_type": "code",
   "execution_count": 178,
   "metadata": {},
   "outputs": [
    {
     "name": "stdout",
     "output_type": "stream",
     "text": [
      "14/14 [==============================] - 0s 3ms/step\n"
     ]
    },
    {
     "name": "stderr",
     "output_type": "stream",
     "text": [
      "C:\\Users\\vinay\\anaconda3\\lib\\site-packages\\sklearn\\metrics\\_ranking.py:999: UndefinedMetricWarning: No positive samples in y_true, true positive value should be meaningless\n",
      "  warnings.warn(\n",
      "C:\\Users\\vinay\\anaconda3\\lib\\site-packages\\sklearn\\metrics\\_ranking.py:999: UndefinedMetricWarning: No positive samples in y_true, true positive value should be meaningless\n",
      "  warnings.warn(\n",
      "C:\\Users\\vinay\\anaconda3\\lib\\site-packages\\sklearn\\metrics\\_ranking.py:999: UndefinedMetricWarning: No positive samples in y_true, true positive value should be meaningless\n",
      "  warnings.warn(\n"
     ]
    },
    {
     "data": {
      "image/png": "[encoded data removed]",
      "text/plain": [
       "<Figure size 432x288 with 1 Axes>"
      ]
     },
     "metadata": {
      "needs_background": "light"
     },
     "output_type": "display_data"
    }
   ],
   "source": [
    "from sklearn.metrics import roc_curve, auc\n",
    "\n",
    "# Get the predicted probability estimates for all classes\n",
    "y_pred_proba = model.predict(X_test)\n",
    "\n",
    "# Convert true labels to binary (0 or 1) for each class\n",
    "y_true = np.zeros_like(y_test)\n",
    "for i in range(y_test.shape[1]):\n",
    "    y_true[:, i] = (y_test[:, i] == 1).astype(int)\n",
    "\n",
    "# Compute the ROC curves and AUCs for all classes\n",
    "fpr = dict()\n",
    "tpr = dict()\n",
    "roc_auc = dict()\n",
    "for i in range(y_pred_proba.shape[1]):\n",
    "    fpr[i], tpr[i], _ = roc_curve(y_true[:, i], y_pred_proba[:, i])\n",
    "    roc_auc[i] = auc(fpr[i], tpr[i])\n",
    "\n",
    "# Compute the micro-averaged ROC curve and AUC\n",
    "fpr[\"micro\"], tpr[\"micro\"], _ = roc_curve(y_true.ravel(), y_pred_proba.ravel())\n",
    "roc_auc[\"micro\"] = auc(fpr[\"micro\"], tpr[\"micro\"])\n",
    "\n",
    "# Plot the micro-averaged ROC curve\n",
    "plt.plot(fpr[\"micro\"], tpr[\"micro\"], label='micro-average ROC curve (AUC = {0:0.2f})'\n",
    "        ''.format(roc_auc[\"micro\"]))\n",
    "\n",
    "# Add the ROC curves for all classes to the plot\n",
    "for i in range(y_pred_proba.shape[1]):\n",
    "    plt.plot(fpr[i], tpr[i], label='ROC curve of class {0} (AUC = {1:0.2f})'\n",
    "            ''.format(i, roc_auc[i]))\n",
    "\n",
    "plt.plot([0, 1], [0, 1], 'k--')\n",
    "plt.xlim([0.0, 1.0])\n",
    "plt.ylim([0.0, 1.05])\n",
    "plt.xlabel('False Positive Rate')\n",
    "plt.ylabel('True Positive Rate')\n",
    "plt.title('Receiver operating characteristic')\n",
    "plt.legend(loc=\"lower right\")\n",
    "plt.show()\n"
   ]
  },
  {
   "cell_type": "markdown",
   "metadata": {},
   "source": [
    "## BILSTM"
   ]
  },
  {
   "cell_type": "code",
   "execution_count": 179,
   "metadata": {},
   "outputs": [],
   "source": [
    "# Define the model architecture\n",
    "model_BILSTM = Sequential()\n",
    "model_BILSTM.add(Bidirectional(LSTM(32), input_shape=(timesteps, input_dim)))\n",
    "model_BILSTM.add(Dense(num_classes, activation='softmax'))"
   ]
  },
  {
   "cell_type": "code",
   "execution_count": 180,
   "metadata": {},
   "outputs": [],
   "source": [
    "# Compile the model\n",
    "model_BILSTM.compile(loss='categorical_crossentropy', optimizer='adam', metrics=['accuracy'])"
   ]
  },
  {
   "cell_type": "code",
   "execution_count": 181,
   "metadata": {},
   "outputs": [
    {
     "name": "stdout",
     "output_type": "stream",
     "text": [
      "Epoch 1/100\n",
      "44/44 [==============================] - 8s 41ms/step - loss: 2.9206 - accuracy: 0.2017 - val_loss: 2.5215 - val_accuracy: 0.4574\n",
      "Epoch 2/100\n",
      "44/44 [==============================] - 0s 5ms/step - loss: 2.2187 - accuracy: 0.6058 - val_loss: 1.9500 - val_accuracy: 0.6250\n",
      "Epoch 3/100\n",
      "44/44 [==============================] - 0s 6ms/step - loss: 1.7328 - accuracy: 0.6676 - val_loss: 1.5703 - val_accuracy: 0.6847\n",
      "Epoch 4/100\n",
      "44/44 [==============================] - 0s 6ms/step - loss: 1.4182 - accuracy: 0.7131 - val_loss: 1.3140 - val_accuracy: 0.7188\n",
      "Epoch 5/100\n",
      "44/44 [==============================] - 0s 7ms/step - loss: 1.1993 - accuracy: 0.7720 - val_loss: 1.1154 - val_accuracy: 0.7869\n",
      "Epoch 6/100\n",
      "44/44 [==============================] - 0s 6ms/step - loss: 1.0194 - accuracy: 0.8189 - val_loss: 0.9403 - val_accuracy: 0.8494\n",
      "Epoch 7/100\n",
      "44/44 [==============================] - 0s 6ms/step - loss: 0.8600 - accuracy: 0.8665 - val_loss: 0.7994 - val_accuracy: 0.8864\n",
      "Epoch 8/100\n",
      "44/44 [==============================] - 0s 6ms/step - loss: 0.7429 - accuracy: 0.8764 - val_loss: 0.7120 - val_accuracy: 0.8864\n",
      "Epoch 9/100\n",
      "44/44 [==============================] - 0s 6ms/step - loss: 0.6548 - accuracy: 0.9034 - val_loss: 0.6319 - val_accuracy: 0.9119\n",
      "Epoch 10/100\n",
      "44/44 [==============================] - 0s 6ms/step - loss: 0.5749 - accuracy: 0.9176 - val_loss: 0.5565 - val_accuracy: 0.9119\n",
      "Epoch 11/100\n",
      "44/44 [==============================] - 0s 6ms/step - loss: 0.5125 - accuracy: 0.9176 - val_loss: 0.5066 - val_accuracy: 0.9148\n",
      "Epoch 12/100\n",
      "44/44 [==============================] - 0s 6ms/step - loss: 0.4577 - accuracy: 0.9325 - val_loss: 0.4535 - val_accuracy: 0.9261\n",
      "Epoch 13/100\n",
      "44/44 [==============================] - 0s 6ms/step - loss: 0.4147 - accuracy: 0.9361 - val_loss: 0.4155 - val_accuracy: 0.9233\n",
      "Epoch 14/100\n",
      "44/44 [==============================] - 0s 6ms/step - loss: 0.3753 - accuracy: 0.9375 - val_loss: 0.3813 - val_accuracy: 0.9205\n",
      "Epoch 15/100\n",
      "44/44 [==============================] - 0s 6ms/step - loss: 0.3428 - accuracy: 0.9474 - val_loss: 0.3556 - val_accuracy: 0.9403\n",
      "Epoch 16/100\n",
      "44/44 [==============================] - 0s 7ms/step - loss: 0.3144 - accuracy: 0.9446 - val_loss: 0.3316 - val_accuracy: 0.9347\n",
      "Epoch 17/100\n",
      "44/44 [==============================] - 0s 6ms/step - loss: 0.2925 - accuracy: 0.9496 - val_loss: 0.3061 - val_accuracy: 0.9403\n",
      "Epoch 18/100\n",
      "44/44 [==============================] - 0s 7ms/step - loss: 0.2758 - accuracy: 0.9467 - val_loss: 0.2929 - val_accuracy: 0.9432\n",
      "Epoch 19/100\n",
      "44/44 [==============================] - 0s 6ms/step - loss: 0.2586 - accuracy: 0.9531 - val_loss: 0.2865 - val_accuracy: 0.9375\n",
      "Epoch 20/100\n",
      "44/44 [==============================] - 0s 7ms/step - loss: 0.2405 - accuracy: 0.9538 - val_loss: 0.2563 - val_accuracy: 0.9517\n",
      "Epoch 21/100\n",
      "44/44 [==============================] - 0s 7ms/step - loss: 0.2267 - accuracy: 0.9595 - val_loss: 0.2446 - val_accuracy: 0.9432\n",
      "Epoch 22/100\n",
      "44/44 [==============================] - 0s 6ms/step - loss: 0.2154 - accuracy: 0.9581 - val_loss: 0.2278 - val_accuracy: 0.9574\n",
      "Epoch 23/100\n",
      "44/44 [==============================] - 0s 6ms/step - loss: 0.2062 - accuracy: 0.9631 - val_loss: 0.2333 - val_accuracy: 0.9489\n",
      "Epoch 24/100\n",
      "44/44 [==============================] - 0s 6ms/step - loss: 0.1953 - accuracy: 0.9581 - val_loss: 0.2215 - val_accuracy: 0.9460\n",
      "Epoch 25/100\n",
      "44/44 [==============================] - 0s 6ms/step - loss: 0.1872 - accuracy: 0.9659 - val_loss: 0.2136 - val_accuracy: 0.9517\n",
      "Epoch 26/100\n",
      "44/44 [==============================] - 0s 6ms/step - loss: 0.1756 - accuracy: 0.9631 - val_loss: 0.2133 - val_accuracy: 0.9545\n",
      "Epoch 27/100\n",
      "44/44 [==============================] - 0s 6ms/step - loss: 0.1725 - accuracy: 0.9638 - val_loss: 0.1938 - val_accuracy: 0.9602\n",
      "Epoch 28/100\n",
      "44/44 [==============================] - 0s 5ms/step - loss: 0.1637 - accuracy: 0.9652 - val_loss: 0.1960 - val_accuracy: 0.9545\n",
      "Epoch 29/100\n",
      "44/44 [==============================] - 0s 6ms/step - loss: 0.1587 - accuracy: 0.9702 - val_loss: 0.1984 - val_accuracy: 0.9489\n",
      "Epoch 30/100\n",
      "44/44 [==============================] - 0s 6ms/step - loss: 0.1529 - accuracy: 0.9680 - val_loss: 0.1802 - val_accuracy: 0.9545\n",
      "Epoch 31/100\n",
      "44/44 [==============================] - 0s 6ms/step - loss: 0.1485 - accuracy: 0.9688 - val_loss: 0.1791 - val_accuracy: 0.9489\n",
      "Epoch 32/100\n",
      "44/44 [==============================] - 0s 7ms/step - loss: 0.1410 - accuracy: 0.9709 - val_loss: 0.1761 - val_accuracy: 0.9574\n",
      "Epoch 33/100\n",
      "44/44 [==============================] - 0s 7ms/step - loss: 0.1409 - accuracy: 0.9666 - val_loss: 0.1686 - val_accuracy: 0.9602\n",
      "Epoch 34/100\n",
      "44/44 [==============================] - 0s 7ms/step - loss: 0.1364 - accuracy: 0.9673 - val_loss: 0.1676 - val_accuracy: 0.9631\n",
      "Epoch 35/100\n",
      "44/44 [==============================] - 0s 7ms/step - loss: 0.1336 - accuracy: 0.9666 - val_loss: 0.1695 - val_accuracy: 0.9545\n",
      "Epoch 36/100\n",
      "44/44 [==============================] - 0s 7ms/step - loss: 0.1298 - accuracy: 0.9702 - val_loss: 0.1795 - val_accuracy: 0.9545\n",
      "Epoch 37/100\n",
      "44/44 [==============================] - 0s 6ms/step - loss: 0.1283 - accuracy: 0.9680 - val_loss: 0.1652 - val_accuracy: 0.9574\n",
      "Epoch 38/100\n",
      "44/44 [==============================] - 0s 6ms/step - loss: 0.1236 - accuracy: 0.9673 - val_loss: 0.1646 - val_accuracy: 0.9631\n",
      "Epoch 39/100\n",
      "44/44 [==============================] - 0s 6ms/step - loss: 0.1220 - accuracy: 0.9723 - val_loss: 0.1483 - val_accuracy: 0.9631\n",
      "Epoch 40/100\n",
      "44/44 [==============================] - 0s 6ms/step - loss: 0.1165 - accuracy: 0.9716 - val_loss: 0.1553 - val_accuracy: 0.9631\n",
      "Epoch 41/100\n",
      "44/44 [==============================] - 0s 6ms/step - loss: 0.1164 - accuracy: 0.9723 - val_loss: 0.1470 - val_accuracy: 0.9631\n",
      "Epoch 42/100\n",
      "44/44 [==============================] - 0s 6ms/step - loss: 0.1116 - accuracy: 0.9716 - val_loss: 0.1376 - val_accuracy: 0.9659\n",
      "Epoch 43/100\n",
      "44/44 [==============================] - 0s 6ms/step - loss: 0.1131 - accuracy: 0.9709 - val_loss: 0.1441 - val_accuracy: 0.9602\n",
      "Epoch 44/100\n",
      "44/44 [==============================] - 0s 6ms/step - loss: 0.1103 - accuracy: 0.9723 - val_loss: 0.1411 - val_accuracy: 0.9545\n",
      "Epoch 45/100\n",
      "44/44 [==============================] - 0s 6ms/step - loss: 0.1053 - accuracy: 0.9723 - val_loss: 0.1430 - val_accuracy: 0.9602\n",
      "Epoch 46/100\n",
      "44/44 [==============================] - 0s 7ms/step - loss: 0.1075 - accuracy: 0.9709 - val_loss: 0.1449 - val_accuracy: 0.9489\n",
      "Epoch 47/100\n",
      "44/44 [==============================] - 0s 6ms/step - loss: 0.1083 - accuracy: 0.9702 - val_loss: 0.1352 - val_accuracy: 0.9602\n",
      "Epoch 48/100\n",
      "44/44 [==============================] - 0s 6ms/step - loss: 0.1005 - accuracy: 0.9744 - val_loss: 0.1373 - val_accuracy: 0.9574\n",
      "Epoch 49/100\n",
      "44/44 [==============================] - 0s 6ms/step - loss: 0.0997 - accuracy: 0.9688 - val_loss: 0.1491 - val_accuracy: 0.9574\n",
      "Epoch 50/100\n",
      "44/44 [==============================] - 0s 7ms/step - loss: 0.0995 - accuracy: 0.9716 - val_loss: 0.1299 - val_accuracy: 0.9574\n",
      "Epoch 51/100\n",
      "44/44 [==============================] - 0s 7ms/step - loss: 0.0971 - accuracy: 0.9709 - val_loss: 0.1518 - val_accuracy: 0.9489\n",
      "Epoch 52/100\n",
      "44/44 [==============================] - 0s 6ms/step - loss: 0.0988 - accuracy: 0.9723 - val_loss: 0.1331 - val_accuracy: 0.9545\n",
      "Epoch 53/100\n",
      "44/44 [==============================] - 0s 7ms/step - loss: 0.0956 - accuracy: 0.9723 - val_loss: 0.1370 - val_accuracy: 0.9602\n",
      "Epoch 54/100\n",
      "44/44 [==============================] - 0s 6ms/step - loss: 0.0899 - accuracy: 0.9737 - val_loss: 0.1211 - val_accuracy: 0.9574\n",
      "Epoch 55/100\n",
      "44/44 [==============================] - 0s 7ms/step - loss: 0.0914 - accuracy: 0.9723 - val_loss: 0.1268 - val_accuracy: 0.9631\n",
      "Epoch 56/100\n",
      "44/44 [==============================] - 0s 6ms/step - loss: 0.0917 - accuracy: 0.9716 - val_loss: 0.1257 - val_accuracy: 0.9545\n",
      "Epoch 57/100\n",
      "44/44 [==============================] - 0s 7ms/step - loss: 0.0885 - accuracy: 0.9709 - val_loss: 0.1283 - val_accuracy: 0.9631\n",
      "Epoch 58/100\n",
      "44/44 [==============================] - 0s 6ms/step - loss: 0.0864 - accuracy: 0.9730 - val_loss: 0.1253 - val_accuracy: 0.9545\n"
     ]
    },
    {
     "name": "stdout",
     "output_type": "stream",
     "text": [
      "Epoch 59/100\n",
      "44/44 [==============================] - 0s 6ms/step - loss: 0.0835 - accuracy: 0.9759 - val_loss: 0.1187 - val_accuracy: 0.9631\n",
      "Epoch 60/100\n",
      "44/44 [==============================] - 0s 6ms/step - loss: 0.0865 - accuracy: 0.9744 - val_loss: 0.1218 - val_accuracy: 0.9545\n",
      "Epoch 61/100\n",
      "44/44 [==============================] - 0s 6ms/step - loss: 0.0837 - accuracy: 0.9759 - val_loss: 0.1298 - val_accuracy: 0.9517\n",
      "Epoch 62/100\n",
      "44/44 [==============================] - 0s 6ms/step - loss: 0.0809 - accuracy: 0.9759 - val_loss: 0.1254 - val_accuracy: 0.9574\n",
      "Epoch 63/100\n",
      "44/44 [==============================] - 0s 6ms/step - loss: 0.0850 - accuracy: 0.9744 - val_loss: 0.1198 - val_accuracy: 0.9574\n",
      "Epoch 64/100\n",
      "44/44 [==============================] - 0s 6ms/step - loss: 0.0807 - accuracy: 0.9759 - val_loss: 0.1267 - val_accuracy: 0.9545\n",
      "Epoch 65/100\n",
      "44/44 [==============================] - 0s 6ms/step - loss: 0.0806 - accuracy: 0.9759 - val_loss: 0.1325 - val_accuracy: 0.9489\n",
      "Epoch 66/100\n",
      "44/44 [==============================] - 0s 7ms/step - loss: 0.0828 - accuracy: 0.9737 - val_loss: 0.1184 - val_accuracy: 0.9545\n",
      "Epoch 67/100\n",
      "44/44 [==============================] - 0s 7ms/step - loss: 0.0786 - accuracy: 0.9766 - val_loss: 0.1246 - val_accuracy: 0.9517\n",
      "Epoch 68/100\n",
      "44/44 [==============================] - 0s 6ms/step - loss: 0.0795 - accuracy: 0.9751 - val_loss: 0.1205 - val_accuracy: 0.9602\n",
      "Epoch 69/100\n",
      "44/44 [==============================] - 0s 6ms/step - loss: 0.0860 - accuracy: 0.9716 - val_loss: 0.1296 - val_accuracy: 0.9602\n",
      "Epoch 70/100\n",
      "44/44 [==============================] - 0s 6ms/step - loss: 0.0831 - accuracy: 0.9744 - val_loss: 0.1188 - val_accuracy: 0.9631\n",
      "Epoch 71/100\n",
      "44/44 [==============================] - 0s 6ms/step - loss: 0.0806 - accuracy: 0.9766 - val_loss: 0.1210 - val_accuracy: 0.9602\n",
      "Epoch 72/100\n",
      "44/44 [==============================] - 0s 6ms/step - loss: 0.0747 - accuracy: 0.9744 - val_loss: 0.1096 - val_accuracy: 0.9574\n",
      "Epoch 73/100\n",
      "44/44 [==============================] - 0s 7ms/step - loss: 0.0724 - accuracy: 0.9787 - val_loss: 0.1184 - val_accuracy: 0.9545\n",
      "Epoch 74/100\n",
      "44/44 [==============================] - 0s 7ms/step - loss: 0.0714 - accuracy: 0.9773 - val_loss: 0.1136 - val_accuracy: 0.9602\n",
      "Epoch 75/100\n",
      "44/44 [==============================] - 0s 7ms/step - loss: 0.0719 - accuracy: 0.9794 - val_loss: 0.1188 - val_accuracy: 0.9517\n",
      "Epoch 76/100\n",
      "44/44 [==============================] - 0s 6ms/step - loss: 0.0753 - accuracy: 0.9759 - val_loss: 0.1056 - val_accuracy: 0.9631\n",
      "Epoch 77/100\n",
      "44/44 [==============================] - 0s 6ms/step - loss: 0.0704 - accuracy: 0.9744 - val_loss: 0.1026 - val_accuracy: 0.9631\n",
      "Epoch 78/100\n",
      "44/44 [==============================] - 0s 6ms/step - loss: 0.0678 - accuracy: 0.9780 - val_loss: 0.1080 - val_accuracy: 0.9631\n",
      "Epoch 79/100\n",
      "44/44 [==============================] - 0s 6ms/step - loss: 0.0716 - accuracy: 0.9759 - val_loss: 0.1056 - val_accuracy: 0.9631\n",
      "Epoch 80/100\n",
      "44/44 [==============================] - 0s 6ms/step - loss: 0.0694 - accuracy: 0.9766 - val_loss: 0.1178 - val_accuracy: 0.9631\n",
      "Epoch 81/100\n",
      "44/44 [==============================] - 0s 6ms/step - loss: 0.0675 - accuracy: 0.9773 - val_loss: 0.0978 - val_accuracy: 0.9631\n",
      "Epoch 82/100\n",
      "44/44 [==============================] - 0s 6ms/step - loss: 0.0666 - accuracy: 0.9787 - val_loss: 0.1101 - val_accuracy: 0.9688\n",
      "Epoch 83/100\n",
      "44/44 [==============================] - 0s 6ms/step - loss: 0.0685 - accuracy: 0.9773 - val_loss: 0.1184 - val_accuracy: 0.9574\n",
      "Epoch 84/100\n",
      "44/44 [==============================] - 0s 6ms/step - loss: 0.0720 - accuracy: 0.9744 - val_loss: 0.1034 - val_accuracy: 0.9545\n",
      "Epoch 85/100\n",
      "44/44 [==============================] - 0s 6ms/step - loss: 0.0663 - accuracy: 0.9766 - val_loss: 0.1096 - val_accuracy: 0.9574\n",
      "Epoch 86/100\n",
      "44/44 [==============================] - 0s 6ms/step - loss: 0.0637 - accuracy: 0.9808 - val_loss: 0.1030 - val_accuracy: 0.9659\n",
      "Epoch 87/100\n",
      "44/44 [==============================] - 0s 6ms/step - loss: 0.0624 - accuracy: 0.9787 - val_loss: 0.1085 - val_accuracy: 0.9631\n",
      "Epoch 88/100\n",
      "44/44 [==============================] - 0s 6ms/step - loss: 0.0666 - accuracy: 0.9773 - val_loss: 0.1168 - val_accuracy: 0.9460\n",
      "Epoch 89/100\n",
      "44/44 [==============================] - 0s 6ms/step - loss: 0.0633 - accuracy: 0.9780 - val_loss: 0.1020 - val_accuracy: 0.9773\n",
      "Epoch 90/100\n",
      "44/44 [==============================] - 0s 6ms/step - loss: 0.0674 - accuracy: 0.9787 - val_loss: 0.1137 - val_accuracy: 0.9545\n",
      "Epoch 91/100\n",
      "44/44 [==============================] - 0s 6ms/step - loss: 0.0674 - accuracy: 0.9744 - val_loss: 0.1025 - val_accuracy: 0.9631\n",
      "Epoch 92/100\n",
      "44/44 [==============================] - 0s 6ms/step - loss: 0.0601 - accuracy: 0.9822 - val_loss: 0.1016 - val_accuracy: 0.9602\n",
      "Epoch 93/100\n",
      "44/44 [==============================] - 0s 6ms/step - loss: 0.0642 - accuracy: 0.9759 - val_loss: 0.1032 - val_accuracy: 0.9631\n",
      "Epoch 94/100\n",
      "44/44 [==============================] - 0s 6ms/step - loss: 0.0595 - accuracy: 0.9822 - val_loss: 0.1096 - val_accuracy: 0.9489\n",
      "Epoch 95/100\n",
      "44/44 [==============================] - 0s 5ms/step - loss: 0.0607 - accuracy: 0.9794 - val_loss: 0.1109 - val_accuracy: 0.9574\n",
      "Epoch 96/100\n",
      "44/44 [==============================] - 0s 6ms/step - loss: 0.0602 - accuracy: 0.9780 - val_loss: 0.1024 - val_accuracy: 0.9716\n",
      "Epoch 97/100\n",
      "44/44 [==============================] - 0s 5ms/step - loss: 0.0606 - accuracy: 0.9801 - val_loss: 0.0965 - val_accuracy: 0.9716\n",
      "Epoch 98/100\n",
      "44/44 [==============================] - 0s 6ms/step - loss: 0.0581 - accuracy: 0.9837 - val_loss: 0.0965 - val_accuracy: 0.9716\n",
      "Epoch 99/100\n",
      "44/44 [==============================] - 0s 6ms/step - loss: 0.0604 - accuracy: 0.9808 - val_loss: 0.1180 - val_accuracy: 0.9602\n",
      "Epoch 100/100\n",
      "44/44 [==============================] - 0s 6ms/step - loss: 0.0566 - accuracy: 0.9822 - val_loss: 0.1002 - val_accuracy: 0.9688\n"
     ]
    },
    {
     "data": {
      "text/plain": [
       "<keras.callbacks.History at 0x15e6b6e8940>"
      ]
     },
     "execution_count": 181,
     "metadata": {},
     "output_type": "execute_result"
    }
   ],
   "source": [
    "# Train the model\n",
    "model_BILSTM.fit(X_train, y_train, batch_size=32, epochs=100, validation_data=(X_val, y_val))"
   ]
  },
  {
   "cell_type": "code",
   "execution_count": 182,
   "metadata": {},
   "outputs": [
    {
     "name": "stdout",
     "output_type": "stream",
     "text": [
      "14/14 [==============================] - 2s 2ms/step - loss: 0.1048 - accuracy: 0.9659\n",
      "Test loss: 0.105, test accuracy: 0.966\n"
     ]
    }
   ],
   "source": [
    "# Evaluate the model\n",
    "loss, accuracy_BILSTM = model_BILSTM.evaluate(X_test, y_test, batch_size=32)\n",
    "print(f'Test loss: {loss:.3f}, test accuracy: {accuracy_BILSTM:.3f}')"
   ]
  },
  {
   "cell_type": "code",
   "execution_count": 183,
   "metadata": {},
   "outputs": [
    {
     "name": "stdout",
     "output_type": "stream",
     "text": [
      "14/14 [==============================] - 1s 2ms/step\n"
     ]
    },
    {
     "data": {
      "image/png": "[encoded data removed]",
      "text/plain": [
       "<Figure size 432x288 with 2 Axes>"
      ]
     },
     "metadata": {
      "needs_background": "light"
     },
     "output_type": "display_data"
    }
   ],
   "source": [
    "from sklearn.metrics import confusion_matrix\n",
    "import matplotlib.pyplot as plt\n",
    "\n",
    "\n",
    "# Get the predicted labels for the test data\n",
    "y_pred = model_BILSTM.predict(X_test)\n",
    "y_pred = np.argmax(y_pred, axis=1) # Convert one-hot encoded vectors to labels\n",
    "\n",
    "# Convert one-hot encoded true labels to labels\n",
    "y_true = np.argmax(y_test, axis=1)\n",
    "\n",
    "# Create confusion matrix\n",
    "confusion_mat = confusion_matrix(y_true, y_pred)\n",
    "\n",
    "# Plot confusion matrix\n",
    "plt.imshow(confusion_mat, cmap='Blues')\n",
    "plt.colorbar()\n",
    "plt.xticks(np.arange(num_classes), [\"rice\", \"maize\", \"chickpea\", \"kidneybeans\", \"pigeonpeas\", \"mothbeans\", \"mungbeans\", \"blackgram\", \"lentil\", \"promegranate\", \"banana\", \"mango\", \"grapes\", \"watermelon\", \"muskmelon\", \"apple\", \"orange\", \"papaya\", \"coconut\", \"cotton\", \"jute\", \"coffee\"], rotation=45)\n",
    "plt.yticks(np.arange(num_classes), [\"rice\", \"maize\", \"chickpea\", \"kidneybeans\", \"pigeonpeas\", \"mothbeans\", \"mungbeans\", \"blackgram\", \"lentil\", \"promegranate\", \"banana\", \"mango\", \"grapes\", \"watermelon\", \"muskmelon\", \"apple\", \"orange\", \"papaya\", \"coconut\", \"cotton\", \"jute\", \"coffee\"])\n",
    "plt.xlabel('Predicted')\n",
    "plt.ylabel('True')\n",
    "plt.title('Confusion Matrix')\n",
    "plt.show()\n"
   ]
  },
  {
   "cell_type": "code",
   "execution_count": 184,
   "metadata": {},
   "outputs": [],
   "source": [
    "# # AUC Curve\n",
    "# from sklearn.metrics import roc_curve, auc\n",
    "\n",
    "# # Get the predicted probability estimates for all classes\n",
    "# y_pred_proba = model_BILSTM.predict(X_test)\n",
    "\n",
    "# # Convert true labels to binary (0 or 1) for each class\n",
    "# y_true = np.zeros_like(y_test)\n",
    "# for i in range(y_test.shape[1]):\n",
    "#     y_true[:, i] = (y_test[:, i] == 1).astype(int)\n",
    "\n",
    "# # Compute the ROC curves and AUCs for all classes\n",
    "# fpr = dict()\n",
    "# tpr = dict()\n",
    "# roc_auc = dict()\n",
    "# for i in range(y_pred_proba.shape[1]):\n",
    "#     fpr[i], tpr[i], _ = roc_curve(y_true[:, i], y_pred_proba[:, i])\n",
    "#     roc_auc[i] = auc(fpr[i], tpr[i])\n",
    "\n",
    "# # Compute the micro-averaged ROC curve and AUC\n",
    "# fpr[\"micro\"], tpr[\"micro\"], _ = roc_curve(y_true.ravel(), y_pred_proba.ravel())\n",
    "# roc_auc[\"micro\"] = auc(fpr[\"micro\"], tpr[\"micro\"])\n",
    "\n",
    "# # Plot the micro-averaged ROC curve\n",
    "# plt.plot(fpr[\"micro\"], tpr[\"micro\"], label='micro-average ROC curve (AUC = {0:0.2f})'\n",
    "#         ''.format(roc_auc[\"micro\"]))\n",
    "\n",
    "# # Add the ROC curves for all classes to the plot\n",
    "# for i in range(y_pred_proba.shape[1]):\n",
    "#     plt.plot(fpr[i], tpr[i], label='ROC curve of class {0} (AUC = {1:0.2f})'\n",
    "#             ''.format(i, roc_auc[i]))\n",
    "\n",
    "# plt.plot([0, 1], [0, 1], 'k--')\n",
    "# plt.xlim([0.0, 1.0])\n",
    "# plt.ylim([0.0, 1.05])\n",
    "# plt.xlabel('False Positive Rate')\n",
    "# plt.ylabel('True Positive Rate')\n",
    "# plt.title('Receiver operating characteristic')\n",
    "# plt.legend(loc=\"lower right\")\n",
    "# plt.show()\n"
   ]
  },
  {
   "cell_type": "markdown",
   "metadata": {},
   "source": [
    "## GRU"
   ]
  },
  {
   "cell_type": "code",
   "execution_count": 185,
   "metadata": {},
   "outputs": [],
   "source": [
    "# Define the model architecture\n",
    "model = Sequential()\n",
    "model.add(GRU(32, input_shape=(timesteps, input_dim)))\n",
    "model.add(Dense(num_classes, activation='softmax'))"
   ]
  },
  {
   "cell_type": "code",
   "execution_count": 186,
   "metadata": {},
   "outputs": [],
   "source": [
    "# Compile the model\n",
    "model.compile(loss='categorical_crossentropy', optimizer='adam', metrics=['accuracy'])"
   ]
  },
  {
   "cell_type": "code",
   "execution_count": 187,
   "metadata": {},
   "outputs": [
    {
     "name": "stdout",
     "output_type": "stream",
     "text": [
      "Epoch 1/100\n",
      "44/44 [==============================] - 4s 26ms/step - loss: 2.8732 - accuracy: 0.1392 - val_loss: 2.5651 - val_accuracy: 0.2557\n",
      "Epoch 2/100\n",
      "44/44 [==============================] - 0s 5ms/step - loss: 2.3859 - accuracy: 0.2798 - val_loss: 2.2211 - val_accuracy: 0.3409\n",
      "Epoch 3/100\n",
      "44/44 [==============================] - 0s 5ms/step - loss: 2.0695 - accuracy: 0.3750 - val_loss: 1.9489 - val_accuracy: 0.4886\n",
      "Epoch 4/100\n",
      "44/44 [==============================] - 0s 6ms/step - loss: 1.8025 - accuracy: 0.5121 - val_loss: 1.7084 - val_accuracy: 0.5568\n",
      "Epoch 5/100\n",
      "44/44 [==============================] - 0s 5ms/step - loss: 1.5815 - accuracy: 0.5845 - val_loss: 1.5182 - val_accuracy: 0.5994\n",
      "Epoch 6/100\n",
      "44/44 [==============================] - 0s 6ms/step - loss: 1.4099 - accuracy: 0.6570 - val_loss: 1.3579 - val_accuracy: 0.6705\n",
      "Epoch 7/100\n",
      "44/44 [==============================] - 0s 6ms/step - loss: 1.2683 - accuracy: 0.7280 - val_loss: 1.2270 - val_accuracy: 0.7443\n",
      "Epoch 8/100\n",
      "44/44 [==============================] - 0s 5ms/step - loss: 1.1457 - accuracy: 0.8033 - val_loss: 1.1267 - val_accuracy: 0.8324\n",
      "Epoch 9/100\n",
      "44/44 [==============================] - 0s 6ms/step - loss: 1.0411 - accuracy: 0.8509 - val_loss: 1.0147 - val_accuracy: 0.8494\n",
      "Epoch 10/100\n",
      "44/44 [==============================] - 0s 6ms/step - loss: 0.9452 - accuracy: 0.8786 - val_loss: 0.9223 - val_accuracy: 0.8778\n",
      "Epoch 11/100\n",
      "44/44 [==============================] - 0s 5ms/step - loss: 0.8672 - accuracy: 0.8622 - val_loss: 0.8499 - val_accuracy: 0.8608\n",
      "Epoch 12/100\n",
      "44/44 [==============================] - 0s 6ms/step - loss: 0.7929 - accuracy: 0.8828 - val_loss: 0.7767 - val_accuracy: 0.8750\n",
      "Epoch 13/100\n",
      "44/44 [==============================] - 0s 6ms/step - loss: 0.7305 - accuracy: 0.8849 - val_loss: 0.7210 - val_accuracy: 0.8835\n",
      "Epoch 14/100\n",
      "44/44 [==============================] - 0s 6ms/step - loss: 0.6793 - accuracy: 0.8942 - val_loss: 0.6736 - val_accuracy: 0.9006\n",
      "Epoch 15/100\n",
      "44/44 [==============================] - 0s 6ms/step - loss: 0.6328 - accuracy: 0.9077 - val_loss: 0.6297 - val_accuracy: 0.8864\n",
      "Epoch 16/100\n",
      "44/44 [==============================] - 0s 6ms/step - loss: 0.5937 - accuracy: 0.9084 - val_loss: 0.5926 - val_accuracy: 0.9034\n",
      "Epoch 17/100\n",
      "44/44 [==============================] - 0s 6ms/step - loss: 0.5598 - accuracy: 0.9134 - val_loss: 0.5787 - val_accuracy: 0.8835\n",
      "Epoch 18/100\n",
      "44/44 [==============================] - 0s 6ms/step - loss: 0.5314 - accuracy: 0.9148 - val_loss: 0.5405 - val_accuracy: 0.9091\n",
      "Epoch 19/100\n",
      "44/44 [==============================] - 0s 6ms/step - loss: 0.5038 - accuracy: 0.9169 - val_loss: 0.5209 - val_accuracy: 0.8977\n",
      "Epoch 20/100\n",
      "44/44 [==============================] - 0s 5ms/step - loss: 0.4796 - accuracy: 0.9155 - val_loss: 0.4901 - val_accuracy: 0.9205\n",
      "Epoch 21/100\n",
      "44/44 [==============================] - 0s 6ms/step - loss: 0.4461 - accuracy: 0.9247 - val_loss: 0.4663 - val_accuracy: 0.9148\n",
      "Epoch 22/100\n",
      "44/44 [==============================] - 0s 5ms/step - loss: 0.4270 - accuracy: 0.9268 - val_loss: 0.4388 - val_accuracy: 0.9318\n",
      "Epoch 23/100\n",
      "44/44 [==============================] - 0s 6ms/step - loss: 0.4030 - accuracy: 0.9283 - val_loss: 0.4288 - val_accuracy: 0.9261\n",
      "Epoch 24/100\n",
      "44/44 [==============================] - 0s 5ms/step - loss: 0.3861 - accuracy: 0.9290 - val_loss: 0.4169 - val_accuracy: 0.9176\n",
      "Epoch 25/100\n",
      "44/44 [==============================] - 0s 5ms/step - loss: 0.3700 - accuracy: 0.9389 - val_loss: 0.3983 - val_accuracy: 0.9205\n",
      "Epoch 26/100\n",
      "44/44 [==============================] - 0s 6ms/step - loss: 0.3498 - accuracy: 0.9411 - val_loss: 0.3671 - val_accuracy: 0.9261\n",
      "Epoch 27/100\n",
      "44/44 [==============================] - 0s 5ms/step - loss: 0.3414 - accuracy: 0.9354 - val_loss: 0.3707 - val_accuracy: 0.9205\n",
      "Epoch 28/100\n",
      "44/44 [==============================] - 0s 6ms/step - loss: 0.3248 - accuracy: 0.9418 - val_loss: 0.3672 - val_accuracy: 0.9176\n",
      "Epoch 29/100\n",
      "44/44 [==============================] - 0s 5ms/step - loss: 0.3157 - accuracy: 0.9439 - val_loss: 0.3339 - val_accuracy: 0.9460\n",
      "Epoch 30/100\n",
      "44/44 [==============================] - 0s 5ms/step - loss: 0.3028 - accuracy: 0.9432 - val_loss: 0.3382 - val_accuracy: 0.9375\n",
      "Epoch 31/100\n",
      "44/44 [==============================] - 0s 5ms/step - loss: 0.2930 - accuracy: 0.9361 - val_loss: 0.3182 - val_accuracy: 0.9347\n",
      "Epoch 32/100\n",
      "44/44 [==============================] - 0s 5ms/step - loss: 0.2847 - accuracy: 0.9453 - val_loss: 0.3095 - val_accuracy: 0.9460\n",
      "Epoch 33/100\n",
      "44/44 [==============================] - 0s 5ms/step - loss: 0.2732 - accuracy: 0.9446 - val_loss: 0.3108 - val_accuracy: 0.9148\n",
      "Epoch 34/100\n",
      "44/44 [==============================] - 0s 5ms/step - loss: 0.2662 - accuracy: 0.9439 - val_loss: 0.2964 - val_accuracy: 0.9489\n",
      "Epoch 35/100\n",
      "44/44 [==============================] - 0s 6ms/step - loss: 0.2565 - accuracy: 0.9460 - val_loss: 0.3050 - val_accuracy: 0.9347\n",
      "Epoch 36/100\n",
      "44/44 [==============================] - 0s 5ms/step - loss: 0.2486 - accuracy: 0.9489 - val_loss: 0.2911 - val_accuracy: 0.9403\n",
      "Epoch 37/100\n",
      "44/44 [==============================] - 0s 5ms/step - loss: 0.2406 - accuracy: 0.9432 - val_loss: 0.2744 - val_accuracy: 0.9432\n",
      "Epoch 38/100\n",
      "44/44 [==============================] - 0s 5ms/step - loss: 0.2363 - accuracy: 0.9489 - val_loss: 0.2507 - val_accuracy: 0.9460\n",
      "Epoch 39/100\n",
      "44/44 [==============================] - 0s 6ms/step - loss: 0.2262 - accuracy: 0.9496 - val_loss: 0.2702 - val_accuracy: 0.9290\n",
      "Epoch 40/100\n",
      "44/44 [==============================] - 0s 5ms/step - loss: 0.2242 - accuracy: 0.9474 - val_loss: 0.2555 - val_accuracy: 0.9460\n",
      "Epoch 41/100\n",
      "44/44 [==============================] - 0s 5ms/step - loss: 0.2149 - accuracy: 0.9553 - val_loss: 0.2485 - val_accuracy: 0.9403\n",
      "Epoch 42/100\n",
      "44/44 [==============================] - 0s 5ms/step - loss: 0.2105 - accuracy: 0.9496 - val_loss: 0.2411 - val_accuracy: 0.9403\n",
      "Epoch 43/100\n",
      "44/44 [==============================] - 0s 5ms/step - loss: 0.2021 - accuracy: 0.9538 - val_loss: 0.2348 - val_accuracy: 0.9489\n",
      "Epoch 44/100\n",
      "44/44 [==============================] - 0s 5ms/step - loss: 0.2005 - accuracy: 0.9517 - val_loss: 0.2304 - val_accuracy: 0.9403\n",
      "Epoch 45/100\n",
      "44/44 [==============================] - 0s 5ms/step - loss: 0.1908 - accuracy: 0.9602 - val_loss: 0.2274 - val_accuracy: 0.9432\n",
      "Epoch 46/100\n",
      "44/44 [==============================] - 0s 5ms/step - loss: 0.1859 - accuracy: 0.9574 - val_loss: 0.2394 - val_accuracy: 0.9460\n",
      "Epoch 47/100\n",
      "44/44 [==============================] - 0s 5ms/step - loss: 0.1839 - accuracy: 0.9588 - val_loss: 0.2213 - val_accuracy: 0.9460\n",
      "Epoch 48/100\n",
      "44/44 [==============================] - 0s 5ms/step - loss: 0.1806 - accuracy: 0.9609 - val_loss: 0.2289 - val_accuracy: 0.9347\n",
      "Epoch 49/100\n",
      "44/44 [==============================] - 0s 5ms/step - loss: 0.1763 - accuracy: 0.9602 - val_loss: 0.2267 - val_accuracy: 0.9432\n",
      "Epoch 50/100\n",
      "44/44 [==============================] - 0s 5ms/step - loss: 0.1718 - accuracy: 0.9624 - val_loss: 0.2027 - val_accuracy: 0.9517\n",
      "Epoch 51/100\n",
      "44/44 [==============================] - 0s 5ms/step - loss: 0.1683 - accuracy: 0.9659 - val_loss: 0.2077 - val_accuracy: 0.9489\n",
      "Epoch 52/100\n",
      "44/44 [==============================] - 0s 6ms/step - loss: 0.1633 - accuracy: 0.9631 - val_loss: 0.2006 - val_accuracy: 0.9545\n",
      "Epoch 53/100\n",
      "44/44 [==============================] - 0s 5ms/step - loss: 0.1627 - accuracy: 0.9666 - val_loss: 0.2025 - val_accuracy: 0.9460\n",
      "Epoch 54/100\n",
      "44/44 [==============================] - 0s 5ms/step - loss: 0.1556 - accuracy: 0.9609 - val_loss: 0.2019 - val_accuracy: 0.9403\n",
      "Epoch 55/100\n",
      "44/44 [==============================] - 0s 5ms/step - loss: 0.1551 - accuracy: 0.9666 - val_loss: 0.2140 - val_accuracy: 0.9318\n",
      "Epoch 56/100\n",
      "44/44 [==============================] - 0s 6ms/step - loss: 0.1544 - accuracy: 0.9638 - val_loss: 0.1877 - val_accuracy: 0.9574\n",
      "Epoch 57/100\n",
      "44/44 [==============================] - 0s 6ms/step - loss: 0.1531 - accuracy: 0.9631 - val_loss: 0.1852 - val_accuracy: 0.9574\n",
      "Epoch 58/100\n",
      "44/44 [==============================] - 0s 5ms/step - loss: 0.1497 - accuracy: 0.9652 - val_loss: 0.1896 - val_accuracy: 0.9403\n"
     ]
    },
    {
     "name": "stdout",
     "output_type": "stream",
     "text": [
      "Epoch 59/100\n",
      "44/44 [==============================] - 0s 5ms/step - loss: 0.1434 - accuracy: 0.9688 - val_loss: 0.1799 - val_accuracy: 0.9517\n",
      "Epoch 60/100\n",
      "44/44 [==============================] - 0s 6ms/step - loss: 0.1361 - accuracy: 0.9688 - val_loss: 0.1955 - val_accuracy: 0.9403\n",
      "Epoch 61/100\n",
      "44/44 [==============================] - 0s 6ms/step - loss: 0.1399 - accuracy: 0.9645 - val_loss: 0.1837 - val_accuracy: 0.9347\n",
      "Epoch 62/100\n",
      "44/44 [==============================] - 0s 6ms/step - loss: 0.1310 - accuracy: 0.9673 - val_loss: 0.1966 - val_accuracy: 0.9318\n",
      "Epoch 63/100\n",
      "44/44 [==============================] - 0s 5ms/step - loss: 0.1300 - accuracy: 0.9688 - val_loss: 0.1652 - val_accuracy: 0.9631\n",
      "Epoch 64/100\n",
      "44/44 [==============================] - 0s 6ms/step - loss: 0.1291 - accuracy: 0.9702 - val_loss: 0.1706 - val_accuracy: 0.9489\n",
      "Epoch 65/100\n",
      "44/44 [==============================] - 0s 6ms/step - loss: 0.1227 - accuracy: 0.9766 - val_loss: 0.1609 - val_accuracy: 0.9517\n",
      "Epoch 66/100\n",
      "44/44 [==============================] - 0s 6ms/step - loss: 0.1201 - accuracy: 0.9723 - val_loss: 0.1780 - val_accuracy: 0.9403\n",
      "Epoch 67/100\n",
      "44/44 [==============================] - 0s 6ms/step - loss: 0.1220 - accuracy: 0.9751 - val_loss: 0.1625 - val_accuracy: 0.9631\n",
      "Epoch 68/100\n",
      "44/44 [==============================] - 0s 6ms/step - loss: 0.1155 - accuracy: 0.9716 - val_loss: 0.1577 - val_accuracy: 0.9574\n",
      "Epoch 69/100\n",
      "44/44 [==============================] - 0s 6ms/step - loss: 0.1170 - accuracy: 0.9744 - val_loss: 0.1608 - val_accuracy: 0.9545\n",
      "Epoch 70/100\n",
      "44/44 [==============================] - 0s 5ms/step - loss: 0.1140 - accuracy: 0.9730 - val_loss: 0.1783 - val_accuracy: 0.9403\n",
      "Epoch 71/100\n",
      "44/44 [==============================] - 0s 6ms/step - loss: 0.1125 - accuracy: 0.9744 - val_loss: 0.1709 - val_accuracy: 0.9460\n",
      "Epoch 72/100\n",
      "44/44 [==============================] - 0s 6ms/step - loss: 0.1110 - accuracy: 0.9688 - val_loss: 0.1600 - val_accuracy: 0.9574\n",
      "Epoch 73/100\n",
      "44/44 [==============================] - 0s 5ms/step - loss: 0.1070 - accuracy: 0.9744 - val_loss: 0.1530 - val_accuracy: 0.9545\n",
      "Epoch 74/100\n",
      "44/44 [==============================] - 0s 5ms/step - loss: 0.1064 - accuracy: 0.9730 - val_loss: 0.1501 - val_accuracy: 0.9602\n",
      "Epoch 75/100\n",
      "44/44 [==============================] - 0s 5ms/step - loss: 0.1072 - accuracy: 0.9709 - val_loss: 0.1433 - val_accuracy: 0.9688\n",
      "Epoch 76/100\n",
      "44/44 [==============================] - 0s 6ms/step - loss: 0.1103 - accuracy: 0.9716 - val_loss: 0.1428 - val_accuracy: 0.9659\n",
      "Epoch 77/100\n",
      "44/44 [==============================] - 0s 6ms/step - loss: 0.1006 - accuracy: 0.9780 - val_loss: 0.1371 - val_accuracy: 0.9574\n",
      "Epoch 78/100\n",
      "44/44 [==============================] - 0s 6ms/step - loss: 0.1013 - accuracy: 0.9695 - val_loss: 0.1365 - val_accuracy: 0.9602\n",
      "Epoch 79/100\n",
      "44/44 [==============================] - 0s 5ms/step - loss: 0.1007 - accuracy: 0.9709 - val_loss: 0.1445 - val_accuracy: 0.9517\n",
      "Epoch 80/100\n",
      "44/44 [==============================] - 0s 6ms/step - loss: 0.0946 - accuracy: 0.9766 - val_loss: 0.1382 - val_accuracy: 0.9716\n",
      "Epoch 81/100\n",
      "44/44 [==============================] - 0s 6ms/step - loss: 0.0941 - accuracy: 0.9751 - val_loss: 0.1400 - val_accuracy: 0.9602\n",
      "Epoch 82/100\n",
      "44/44 [==============================] - 0s 7ms/step - loss: 0.0928 - accuracy: 0.9773 - val_loss: 0.1312 - val_accuracy: 0.9602\n",
      "Epoch 83/100\n",
      "44/44 [==============================] - 0s 6ms/step - loss: 0.0936 - accuracy: 0.9744 - val_loss: 0.1529 - val_accuracy: 0.9574\n",
      "Epoch 84/100\n",
      "44/44 [==============================] - 0s 6ms/step - loss: 0.0949 - accuracy: 0.9751 - val_loss: 0.1483 - val_accuracy: 0.9659\n",
      "Epoch 85/100\n",
      "44/44 [==============================] - 0s 6ms/step - loss: 0.0888 - accuracy: 0.9744 - val_loss: 0.1414 - val_accuracy: 0.9460\n",
      "Epoch 86/100\n",
      "44/44 [==============================] - 0s 7ms/step - loss: 0.0855 - accuracy: 0.9822 - val_loss: 0.1579 - val_accuracy: 0.9403\n",
      "Epoch 87/100\n",
      "44/44 [==============================] - 0s 5ms/step - loss: 0.0884 - accuracy: 0.9751 - val_loss: 0.1261 - val_accuracy: 0.9602\n",
      "Epoch 88/100\n",
      "44/44 [==============================] - 0s 6ms/step - loss: 0.0838 - accuracy: 0.9780 - val_loss: 0.1314 - val_accuracy: 0.9602\n",
      "Epoch 89/100\n",
      "44/44 [==============================] - 0s 6ms/step - loss: 0.0843 - accuracy: 0.9780 - val_loss: 0.1535 - val_accuracy: 0.9432\n",
      "Epoch 90/100\n",
      "44/44 [==============================] - 0s 6ms/step - loss: 0.0809 - accuracy: 0.9801 - val_loss: 0.1475 - val_accuracy: 0.9460\n",
      "Epoch 91/100\n",
      "44/44 [==============================] - 0s 5ms/step - loss: 0.0832 - accuracy: 0.9773 - val_loss: 0.1305 - val_accuracy: 0.9545\n",
      "Epoch 92/100\n",
      "44/44 [==============================] - 0s 5ms/step - loss: 0.0816 - accuracy: 0.9766 - val_loss: 0.1201 - val_accuracy: 0.9574\n",
      "Epoch 93/100\n",
      "44/44 [==============================] - 0s 6ms/step - loss: 0.0800 - accuracy: 0.9773 - val_loss: 0.1298 - val_accuracy: 0.9602\n",
      "Epoch 94/100\n",
      "44/44 [==============================] - 0s 5ms/step - loss: 0.0774 - accuracy: 0.9780 - val_loss: 0.1364 - val_accuracy: 0.9460\n",
      "Epoch 95/100\n",
      "44/44 [==============================] - 0s 6ms/step - loss: 0.0816 - accuracy: 0.9787 - val_loss: 0.1174 - val_accuracy: 0.9688\n",
      "Epoch 96/100\n",
      "44/44 [==============================] - 0s 5ms/step - loss: 0.0779 - accuracy: 0.9787 - val_loss: 0.1290 - val_accuracy: 0.9517\n",
      "Epoch 97/100\n",
      "44/44 [==============================] - 0s 6ms/step - loss: 0.0774 - accuracy: 0.9801 - val_loss: 0.1263 - val_accuracy: 0.9489\n",
      "Epoch 98/100\n",
      "44/44 [==============================] - 0s 6ms/step - loss: 0.0777 - accuracy: 0.9801 - val_loss: 0.1183 - val_accuracy: 0.9688\n",
      "Epoch 99/100\n",
      "44/44 [==============================] - 0s 5ms/step - loss: 0.0795 - accuracy: 0.9759 - val_loss: 0.1305 - val_accuracy: 0.9489\n",
      "Epoch 100/100\n",
      "44/44 [==============================] - 0s 5ms/step - loss: 0.0712 - accuracy: 0.9808 - val_loss: 0.1074 - val_accuracy: 0.9716\n"
     ]
    },
    {
     "data": {
      "text/plain": [
       "<keras.callbacks.History at 0x15e741ee310>"
      ]
     },
     "execution_count": 187,
     "metadata": {},
     "output_type": "execute_result"
    }
   ],
   "source": [
    "# Train the model\n",
    "model.fit(X_train, y_train, batch_size=32, epochs=100, validation_data=(X_val, y_val))"
   ]
  },
  {
   "cell_type": "code",
   "execution_count": 188,
   "metadata": {},
   "outputs": [
    {
     "name": "stdout",
     "output_type": "stream",
     "text": [
      "14/14 [==============================] - 1s 3ms/step - loss: 0.1523 - accuracy: 0.9386\n",
      "Test loss: 0.152, test accuracy: 0.939\n"
     ]
    }
   ],
   "source": [
    "# Evaluate the model on test data\n",
    "loss, accuracy_GRU = model.evaluate(X_test, y_test, batch_size=32)\n",
    "print(f'Test loss: {loss:.3f}, test accuracy: {accuracy_GRU:.3f}')"
   ]
  },
  {
   "cell_type": "code",
   "execution_count": 189,
   "metadata": {},
   "outputs": [
    {
     "name": "stdout",
     "output_type": "stream",
     "text": [
      "14/14 [==============================] - 1s 3ms/step\n"
     ]
    },
    {
     "data": {
      "image/png": "[encoded data removed]",
      "text/plain": [
       "<Figure size 432x288 with 2 Axes>"
      ]
     },
     "metadata": {
      "needs_background": "light"
     },
     "output_type": "display_data"
    }
   ],
   "source": [
    "from sklearn.metrics import confusion_matrix\n",
    "import matplotlib.pyplot as plt\n",
    "\n",
    "\n",
    "# Get the predicted labels for the test data\n",
    "y_pred = model.predict(X_test)\n",
    "y_pred = np.argmax(y_pred, axis=1) # Convert one-hot encoded vectors to labels\n",
    "\n",
    "# Convert one-hot encoded true labels to labels\n",
    "y_true = np.argmax(y_test, axis=1)\n",
    "\n",
    "# Create confusion matrix\n",
    "confusion_mat = confusion_matrix(y_true, y_pred)\n",
    "\n",
    "# Plot confusion matrix\n",
    "plt.imshow(confusion_mat, cmap='Blues')\n",
    "plt.colorbar()\n",
    "plt.xticks(np.arange(num_classes), [\"rice\", \"maize\", \"chickpea\", \"kidneybeans\", \"pigeonpeas\", \"mothbeans\", \"mungbeans\", \"blackgram\", \"lentil\", \"promegranate\", \"banana\", \"mango\", \"grapes\", \"watermelon\", \"muskmelon\", \"apple\", \"orange\", \"papaya\", \"coconut\", \"cotton\", \"jute\", \"coffee\"], rotation=45)\n",
    "plt.yticks(np.arange(num_classes), [\"rice\", \"maize\", \"chickpea\", \"kidneybeans\", \"pigeonpeas\", \"mothbeans\", \"mungbeans\", \"blackgram\", \"lentil\", \"promegranate\", \"banana\", \"mango\", \"grapes\", \"watermelon\", \"muskmelon\", \"apple\", \"orange\", \"papaya\", \"coconut\", \"cotton\", \"jute\", \"coffee\"])\n",
    "plt.xlabel('Predicted')\n",
    "plt.ylabel('True')\n",
    "plt.title('Confusion Matrix')\n",
    "plt.show()\n"
   ]
  },
  {
   "cell_type": "code",
   "execution_count": 190,
   "metadata": {},
   "outputs": [
    {
     "name": "stdout",
     "output_type": "stream",
     "text": [
      "14/14 [==============================] - 0s 3ms/step\n"
     ]
    },
    {
     "name": "stderr",
     "output_type": "stream",
     "text": [
      "C:\\Users\\vinay\\anaconda3\\lib\\site-packages\\sklearn\\metrics\\_ranking.py:999: UndefinedMetricWarning: No positive samples in y_true, true positive value should be meaningless\n",
      "  warnings.warn(\n",
      "C:\\Users\\vinay\\anaconda3\\lib\\site-packages\\sklearn\\metrics\\_ranking.py:999: UndefinedMetricWarning: No positive samples in y_true, true positive value should be meaningless\n",
      "  warnings.warn(\n",
      "C:\\Users\\vinay\\anaconda3\\lib\\site-packages\\sklearn\\metrics\\_ranking.py:999: UndefinedMetricWarning: No positive samples in y_true, true positive value should be meaningless\n",
      "  warnings.warn(\n"
     ]
    },
    {
     "data": {
      "image/png": "[encoded data removed]",
      "text/plain": [
       "<Figure size 432x288 with 1 Axes>"
      ]
     },
     "metadata": {
      "needs_background": "light"
     },
     "output_type": "display_data"
    }
   ],
   "source": [
    "from sklearn.metrics import roc_curve, auc\n",
    "\n",
    "# Get the predicted probability estimates for all classes\n",
    "y_pred_proba = model.predict(X_test)\n",
    "\n",
    "# Convert true labels to binary (0 or 1) for each class\n",
    "y_true = np.zeros_like(y_test)\n",
    "for i in range(y_test.shape[1]):\n",
    "    y_true[:, i] = (y_test[:, i] == 1).astype(int)\n",
    "\n",
    "# Compute the ROC curves and AUCs for all classes\n",
    "fpr = dict()\n",
    "tpr = dict()\n",
    "roc_auc = dict()\n",
    "for i in range(y_pred_proba.shape[1]):\n",
    "    fpr[i], tpr[i], _ = roc_curve(y_true[:, i], y_pred_proba[:, i])\n",
    "    roc_auc[i] = auc(fpr[i], tpr[i])\n",
    "\n",
    "# Compute the micro-averaged ROC curve and AUC\n",
    "fpr[\"micro\"], tpr[\"micro\"], _ = roc_curve(y_true.ravel(), y_pred_proba.ravel())\n",
    "roc_auc[\"micro\"] = auc(fpr[\"micro\"], tpr[\"micro\"])\n",
    "\n",
    "# Plot the micro-averaged ROC curve\n",
    "plt.plot(fpr[\"micro\"], tpr[\"micro\"], label='micro-average ROC curve (AUC = {0:0.2f})'\n",
    "        ''.format(roc_auc[\"micro\"]))\n",
    "\n",
    "# Add the ROC curves for all classes to the plot\n",
    "for i in range(y_pred_proba.shape[1]):\n",
    "    plt.plot(fpr[i], tpr[i], label='ROC curve of class {0} (AUC = {1:0.2f})'\n",
    "            ''.format(i, roc_auc[i]))\n",
    "\n",
    "plt.plot([0, 1], [0, 1], 'k--')\n",
    "plt.xlim([0.0, 1.0])\n",
    "plt.ylim([0.0, 1.05])\n",
    "plt.xlabel('False Positive Rate')\n",
    "plt.ylabel('True Positive Rate')\n",
    "plt.title('Receiver operating characteristic')\n",
    "plt.legend(loc=\"lower right\")\n",
    "plt.show()\n"
   ]
  },
  {
   "cell_type": "markdown",
   "metadata": {},
   "source": [
    "## CNN"
   ]
  },
  {
   "cell_type": "code",
   "execution_count": 191,
   "metadata": {},
   "outputs": [],
   "source": [
    "timesteps = 7\n",
    "input_dim = 1\n",
    "\n",
    "X_train = X_train.reshape((X_train.shape[0], timesteps, input_dim))\n",
    "X_val = X_val.reshape((X_val.shape[0], timesteps, input_dim))\n",
    "X_test = X_test.reshape((X_test.shape[0], timesteps, input_dim))\n"
   ]
  },
  {
   "cell_type": "code",
   "execution_count": 192,
   "metadata": {},
   "outputs": [],
   "source": [
    "model = Sequential()\n",
    "model.add(Conv1D(32, 3, activation='relu', input_shape=(timesteps, input_dim)))\n",
    "model.add(MaxPooling1D(2))\n",
    "model.add(Conv1D(64, 1, activation='relu'))\n",
    "model.add(MaxPooling1D(2))\n",
    "model.add(Flatten())\n",
    "model.add(Dense(num_classes, activation='softmax'))"
   ]
  },
  {
   "cell_type": "code",
   "execution_count": 193,
   "metadata": {},
   "outputs": [
    {
     "name": "stdout",
     "output_type": "stream",
     "text": [
      "Epoch 1/10\n",
      "44/44 [==============================] - 2s 13ms/step - loss: 5.8557 - accuracy: 0.1349 - val_loss: 2.8311 - val_accuracy: 0.1818\n",
      "Epoch 2/10\n",
      "44/44 [==============================] - 0s 5ms/step - loss: 2.1368 - accuracy: 0.2933 - val_loss: 1.7587 - val_accuracy: 0.4006\n",
      "Epoch 3/10\n",
      "44/44 [==============================] - 0s 5ms/step - loss: 1.5214 - accuracy: 0.4929 - val_loss: 1.3312 - val_accuracy: 0.5625\n",
      "Epoch 4/10\n",
      "44/44 [==============================] - 0s 5ms/step - loss: 1.1840 - accuracy: 0.6172 - val_loss: 1.1639 - val_accuracy: 0.6534\n",
      "Epoch 5/10\n",
      "44/44 [==============================] - 0s 5ms/step - loss: 0.9598 - accuracy: 0.6811 - val_loss: 0.8639 - val_accuracy: 0.6960\n",
      "Epoch 6/10\n",
      "44/44 [==============================] - 0s 5ms/step - loss: 0.8002 - accuracy: 0.7386 - val_loss: 0.8205 - val_accuracy: 0.7528\n",
      "Epoch 7/10\n",
      "44/44 [==============================] - 0s 5ms/step - loss: 0.7203 - accuracy: 0.7521 - val_loss: 0.6656 - val_accuracy: 0.8040\n",
      "Epoch 8/10\n",
      "44/44 [==============================] - 0s 5ms/step - loss: 0.6270 - accuracy: 0.7933 - val_loss: 0.6156 - val_accuracy: 0.7812\n",
      "Epoch 9/10\n",
      "44/44 [==============================] - 0s 5ms/step - loss: 0.6125 - accuracy: 0.7926 - val_loss: 0.5642 - val_accuracy: 0.8295\n",
      "Epoch 10/10\n",
      "44/44 [==============================] - 0s 5ms/step - loss: 0.5497 - accuracy: 0.8182 - val_loss: 0.5676 - val_accuracy: 0.8011\n"
     ]
    }
   ],
   "source": [
    "model.compile(optimizer='adam', loss='categorical_crossentropy', metrics=['accuracy'])\n",
    "history = model.fit(X_train, y_train, validation_data=(X_val, y_val), epochs=10, batch_size=32)\n"
   ]
  },
  {
   "cell_type": "code",
   "execution_count": 194,
   "metadata": {},
   "outputs": [
    {
     "name": "stdout",
     "output_type": "stream",
     "text": [
      "14/14 [==============================] - 0s 3ms/step - loss: 0.6033 - accuracy: 0.7795\n",
      "Test accuracy: 0.7795454263687134\n"
     ]
    }
   ],
   "source": [
    "test_loss, test_acc = model.evaluate(X_test, y_test)\n",
    "print('Test accuracy:', test_acc)"
   ]
  },
  {
   "cell_type": "code",
   "execution_count": 195,
   "metadata": {},
   "outputs": [
    {
     "name": "stdout",
     "output_type": "stream",
     "text": [
      "14/14 [==============================] - 0s 2ms/step\n"
     ]
    },
    {
     "data": {
      "image/png": "[encoded data removed]",
      "text/plain": [
       "<Figure size 432x288 with 2 Axes>"
      ]
     },
     "metadata": {
      "needs_background": "light"
     },
     "output_type": "display_data"
    }
   ],
   "source": [
    "from sklearn.metrics import confusion_matrix\n",
    "import matplotlib.pyplot as plt\n",
    "\n",
    "\n",
    "# Get the predicted labels for the test data\n",
    "y_pred = model.predict(X_test)\n",
    "y_pred = np.argmax(y_pred, axis=1) # Convert one-hot encoded vectors to labels\n",
    "\n",
    "# Convert one-hot encoded true labels to labels\n",
    "y_true = np.argmax(y_test, axis=1)\n",
    "\n",
    "# Create confusion matrix\n",
    "confusion_mat = confusion_matrix(y_true, y_pred)\n",
    "\n",
    "# Plot confusion matrix\n",
    "plt.imshow(confusion_mat, cmap='Blues')\n",
    "plt.colorbar()\n",
    "plt.xticks(np.arange(num_classes), [\"rice\", \"maize\", \"chickpea\", \"kidneybeans\", \"pigeonpeas\", \"mothbeans\", \"mungbeans\", \"blackgram\", \"lentil\", \"promegranate\", \"banana\", \"mango\", \"grapes\", \"watermelon\", \"muskmelon\", \"apple\", \"orange\", \"papaya\", \"coconut\", \"cotton\", \"jute\", \"coffee\"], rotation=45)\n",
    "plt.yticks(np.arange(num_classes), [\"rice\", \"maize\", \"chickpea\", \"kidneybeans\", \"pigeonpeas\", \"mothbeans\", \"mungbeans\", \"blackgram\", \"lentil\", \"promegranate\", \"banana\", \"mango\", \"grapes\", \"watermelon\", \"muskmelon\", \"apple\", \"orange\", \"papaya\", \"coconut\", \"cotton\", \"jute\", \"coffee\"])\n",
    "plt.xlabel('Predicted')\n",
    "plt.ylabel('True')\n",
    "plt.title('Confusion Matrix')\n",
    "plt.show()\n"
   ]
  },
  {
   "cell_type": "code",
   "execution_count": 196,
   "metadata": {},
   "outputs": [
    {
     "name": "stdout",
     "output_type": "stream",
     "text": [
      "14/14 [==============================] - 0s 3ms/step\n"
     ]
    },
    {
     "name": "stderr",
     "output_type": "stream",
     "text": [
      "C:\\Users\\vinay\\anaconda3\\lib\\site-packages\\sklearn\\metrics\\_ranking.py:999: UndefinedMetricWarning: No positive samples in y_true, true positive value should be meaningless\n",
      "  warnings.warn(\n",
      "C:\\Users\\vinay\\anaconda3\\lib\\site-packages\\sklearn\\metrics\\_ranking.py:999: UndefinedMetricWarning: No positive samples in y_true, true positive value should be meaningless\n",
      "  warnings.warn(\n",
      "C:\\Users\\vinay\\anaconda3\\lib\\site-packages\\sklearn\\metrics\\_ranking.py:999: UndefinedMetricWarning: No positive samples in y_true, true positive value should be meaningless\n",
      "  warnings.warn(\n"
     ]
    },
    {
     "data": {
      "image/png": "[encoded data removed]",
      "text/plain": [
       "<Figure size 432x288 with 1 Axes>"
      ]
     },
     "metadata": {
      "needs_background": "light"
     },
     "output_type": "display_data"
    }
   ],
   "source": [
    "from sklearn.metrics import roc_curve, auc\n",
    "\n",
    "# Get the predicted probability estimates for all classes\n",
    "y_pred_proba = model.predict(X_test)\n",
    "\n",
    "# Convert true labels to binary (0 or 1) for each class\n",
    "y_true = np.zeros_like(y_test)\n",
    "for i in range(y_test.shape[1]):\n",
    "    y_true[:, i] = (y_test[:, i] == 1).astype(int)\n",
    "\n",
    "# Compute the ROC curves and AUCs for all classes\n",
    "fpr = dict()\n",
    "tpr = dict()\n",
    "roc_auc = dict()\n",
    "for i in range(y_pred_proba.shape[1]):\n",
    "    fpr[i], tpr[i], _ = roc_curve(y_true[:, i], y_pred_proba[:, i])\n",
    "    roc_auc[i] = auc(fpr[i], tpr[i])\n",
    "\n",
    "# Compute the micro-averaged ROC curve and AUC\n",
    "fpr[\"micro\"], tpr[\"micro\"], _ = roc_curve(y_true.ravel(), y_pred_proba.ravel())\n",
    "roc_auc[\"micro\"] = auc(fpr[\"micro\"], tpr[\"micro\"])\n",
    "\n",
    "# Plot the micro-averaged ROC curve\n",
    "plt.plot(fpr[\"micro\"], tpr[\"micro\"], label='micro-average ROC curve (AUC = {0:0.2f})'\n",
    "        ''.format(roc_auc[\"micro\"]))\n",
    "\n",
    "# Add the ROC curves for all classes to the plot\n",
    "for i in range(y_pred_proba.shape[1]):\n",
    "    plt.plot(fpr[i], tpr[i], label='ROC curve of class {0} (AUC = {1:0.2f})'\n",
    "            ''.format(i, roc_auc[i]))\n",
    "\n",
    "plt.plot([0, 1], [0, 1], 'k--')\n",
    "plt.xlim([0.0, 1.0])\n",
    "plt.ylim([0.0, 1.05])\n",
    "plt.xlabel('False Positive Rate')\n",
    "plt.ylabel('True Positive Rate')\n",
    "plt.title('Receiver operating characteristic')\n",
    "plt.legend(loc=\"lower right\")\n",
    "plt.show()\n"
   ]
  },
  {
   "cell_type": "markdown",
   "metadata": {},
   "source": [
    "## PLOTTING GRAPH"
   ]
  },
  {
   "cell_type": "code",
   "execution_count": 197,
   "metadata": {},
   "outputs": [],
   "source": [
    "import matplotlib.pyplot as plt"
   ]
  },
  {
   "cell_type": "code",
   "execution_count": 198,
   "metadata": {},
   "outputs": [
    {
     "data": {
      "image/png": "[encoded data removed]",
      "text/plain": [
       "<Figure size 360x360 with 1 Axes>"
      ]
     },
     "metadata": {
      "needs_background": "light"
     },
     "output_type": "display_data"
    }
   ],
   "source": [
    "plt.figure(figsize=(5,5))\n",
    "values = [tree_acc, tree_acc,acc,acc_rf,bayes_acc,acc_lr,accuracy,accuracy_KNN,accuracy_LSTM,accuracy_BILSTM,accuracy_GRU,test_acc]\n",
    "labels = ['DT','XGB','ANN','RF','NB','LR','svm','KNN','LSTM','BILSTM','GRU','CNN']\n",
    "plt.bar(labels, values)\n",
    "plt.show()"
   ]
  },
  {
   "cell_type": "code",
   "execution_count": 199,
   "metadata": {},
   "outputs": [],
   "source": [
    "# from sklearn.preprocessing import LabelEncoder\n",
    "# import numpy as np\n",
    "\n",
    "# # Input values for prediction\n",
    "# input_values = np.array(['N', 'P', 'K', 24.7634518, 87.06071115, 6.463538707, 179.1630865])\n",
    "\n",
    "# # Create a dictionary to map categorical labels to numerical values\n",
    "# label_encoder = LabelEncoder()\n",
    "# label_map = {'N': 0, 'P': 1, 'K': 2}\n",
    "\n",
    "# # Encode the categorical variables using label encoding\n",
    "# input_values[:3] = label_encoder.fit_transform(input_values[:3])\n",
    "# input_values[:3] = [label_map[label] for label in input_values[:3]]\n",
    "\n",
    "# # Reshape input values to match model's input shape\n",
    "# input_values = input_values.reshape((1, 1, input_values.shape[0]))\n",
    "\n",
    "# # Predict probabilities for each class\n",
    "# y_pred_prob = model_BILSTM.predict(input_values)\n",
    "\n",
    "# # Convert probabilities to class labels\n",
    "# y_pred = np.argmax(y_pred_prob, axis=1)\n",
    "\n",
    "# # Decode class label to its original value\n",
    "# class_labels = ['rice', 'maize', 'chickpea', 'kidneybeans', 'pigeonpeas', 'mothbeans', 'mungbeans', 'blackgram', 'lentil', 'promegranate', 'banana', 'mango', 'grapes', 'watermelon', 'muskmelon', 'apple', 'orange', 'papaya', 'coconut', 'cotton', 'jute', 'coffee']\n",
    "# y_pred_label = class_labels[y_pred[0]]\n",
    "\n",
    "# print(\"Predicted class label:\", y_pred_label)\n"
   ]
  },
  {
   "cell_type": "code",
   "execution_count": 200,
   "metadata": {},
   "outputs": [],
   "source": [
    "# from sklearn.preprocessing import LabelEncoder\n",
    "# import numpy as np\n",
    "\n",
    "# # Input values for prediction\n",
    "# input_values = np.array(['N', 'P', 'K', 24.7634518, 87.06071115, 6.463538707, 179.1630865])\n",
    "\n",
    "# # Create a dictionary to map categorical labels to numerical values\n",
    "# label_encoder = LabelEncoder()\n",
    "# label_map = {'N': 0, 'P': 1, 'K': 2}\n",
    "\n",
    "# # Encode the categorical variables using label encoding\n",
    "# input_values[:3] = [label_map[label] if label in label_map else label for label in input_values[:3]]\n",
    "\n",
    "# # Reshape input values to match model's input shape\n",
    "# input_values = input_values.reshape((1, 1, input_values.shape[0]))\n",
    "\n",
    "# # Predict probabilities for each class\n",
    "# y_pred_prob = model_BILSTM.predict(input_values)\n",
    "\n",
    "# # Convert probabilities to class labels\n",
    "# y_pred = np.argmax(y_pred_prob, axis=1)\n",
    "\n",
    "# # Decode class label to its original value\n",
    "# class_labels = ['rice', 'maize', 'chickpea', 'kidneybeans', 'pigeonpeas', 'mothbeans', 'mungbeans', 'blackgram', 'lentil', 'promegranate', 'banana', 'mango', 'grapes', 'watermelon', 'muskmelon', 'apple', 'orange', 'papaya', 'coconut', 'cotton', 'jute', 'coffee']\n",
    "# y_pred_label = class_labels[y_pred[0]]\n",
    "\n",
    "# print(\"Predicted class label:\", y_pred_label)\n"
   ]
  },
  {
   "cell_type": "code",
   "execution_count": 201,
   "metadata": {},
   "outputs": [],
   "source": [
    "# import numpy as np\n",
    "# from sklearn.preprocessing import LabelEncoder\n",
    "# from tensorflow.keras.utils import to_categorical\n",
    "\n",
    "# # Input values for prediction\n",
    "# input_values = np.array([90, 47, 39, 24.7634518, 87.06071115, 6.463538707, 179.1630865])\n",
    "\n",
    "# # Create a dictionary to map categorical labels to numerical values\n",
    "# label_encoder = LabelEncoder()\n",
    "# label_map = {'N': 0, 'P': 1, 'K': 2}\n",
    "\n",
    "# # Encode the categorical variables using label encoding\n",
    "# input_values[:3] = [label_map[label] if label in label_map else label for label in input_values[:3]]\n",
    "\n",
    "# # Reshape input values to match model's input shape\n",
    "# timesteps = 1\n",
    "# input_dim = input_values.shape[0]\n",
    "# input_values = input_values.reshape((1, timesteps, input_dim)).astype(float)\n",
    "\n",
    "# # Predict probabilities for each class\n",
    "# y_pred_prob = model_BILSTM.predict(input_values)\n",
    "\n",
    "# # Convert probabilities to class labels\n",
    "# y_pred = np.argmax(y_pred_prob, axis=1)\n",
    "\n",
    "# # Decode class label to its original value\n",
    "# class_labels = ['rice', 'maize','kidneybeans', 'chickpea', 'pigeonpeas', 'mothbeans', 'mungbeans', 'blackgram', 'lentil', 'promegranate', 'banana', 'mango', 'grapes', 'watermelon', 'muskmelon', 'apple', 'orange', 'papaya', 'coconut', 'cotton', 'jute', 'coffee']\n",
    "# y_pred_label = class_labels[y_pred[0]]\n",
    "\n",
    "# print(\"Predicted class label:\", y_pred_label)\n"
   ]
  },
  {
   "cell_type": "code",
   "execution_count": null,
   "metadata": {},
   "outputs": [],
   "source": []
  },
  {
   "cell_type": "code",
   "execution_count": null,
   "metadata": {},
   "outputs": [],
   "source": []
  },
  {
   "cell_type": "code",
   "execution_count": null,
   "metadata": {},
   "outputs": [],
   "source": []
  },
  {
   "cell_type": "code",
   "execution_count": 202,
   "metadata": {},
   "outputs": [],
   "source": [
    "# # Convert labels to integers using list comprehension\n",
    "# label_mapping = {'rice': 0, 'maize': 1, 'chickpea': 2, 'kidneybeans': 3, 'pigeonpeas': 4, 'mothbeans': 5,\n",
    "#                  'mungbeans': 6, 'blackgram': 7, 'lentil': 8, 'promegranate': 9, 'banana': 10, 'mango': 11,\n",
    "#                  'grapes': 12, 'watermelon': 13, 'muskmelon': 14, 'apple': 15, 'orange': 16, 'papaya': 17,\n",
    "#                  'coconut': 18, 'cotton': 19, 'jute': 20, 'coffee': 21}\n",
    "# y_train = np.array([label_mapping[label] for label in y_train])\n",
    "# y_val = np.array([label_mapping[label] for label in y_val])\n",
    "# y_test = np.array([label_mapping[label] for label in y_test])\n"
   ]
  },
  {
   "cell_type": "code",
   "execution_count": null,
   "metadata": {},
   "outputs": [],
   "source": []
  }
 ],
 "metadata": {
  "kernelspec": {
   "display_name": "Python 3 (ipykernel)",
   "language": "python",
   "name": "python3"
  },
  "language_info": {
   "codemirror_mode": {
    "name": "ipython",
    "version": 3
   },
   "file_extension": ".py",
   "mimetype": "text/x-python",
   "name": "python",
   "nbconvert_exporter": "python",
   "pygments_lexer": "ipython3",
   "version": "3.9.12"
  },
  "vscode": {
   "interpreter": {
    "hash": "ad2bdc8ecc057115af97d19610ffacc2b4e99fae6737bb82f5d7fb13d2f2c186"
   }
  }
 },
 "nbformat": 4,
 "nbformat_minor": 4
}
